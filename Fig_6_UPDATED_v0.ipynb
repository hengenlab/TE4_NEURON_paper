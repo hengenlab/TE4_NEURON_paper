{
 "cells": [
  {
   "cell_type": "code",
   "execution_count": 1,
   "id": "ce63a071",
   "metadata": {},
   "outputs": [
    {
     "name": "stderr",
     "output_type": "stream",
     "text": [
      "/hlabhome/wg-mjames/.conda/envs/james_test/lib/python3.8/site-packages/scipy/__init__.py:146: UserWarning: A NumPy version >=1.16.5 and <1.23.0 is required for this version of SciPy (detected version 1.23.1\n",
      "  warnings.warn(f\"A NumPy version >={np_minversion} and <{np_maxversion}\"\n",
      "/hlabhome/wg-mjames/.conda/envs/james_test/lib/python3.8/site-packages/xgboost/compat.py:36: FutureWarning: pandas.Int64Index is deprecated and will be removed from pandas in a future version. Use pandas.Index with the appropriate dtype instead.\n",
      "  from pandas import MultiIndex, Int64Index\n"
     ]
    }
   ],
   "source": [
    "from IPython.core.interactiveshell import InteractiveShell\n",
    "InteractiveShell.ast_node_interactivity = 'last_expr'\n",
    "\n",
    "import numpy as np \n",
    "import musclebeachtools as mbt\n",
    "import os\n",
    "import glob\n",
    "import pandas as pd\n",
    "#matplotlib.use('Agg')\n",
    "import matplotlib.pyplot as plt\n",
    "import matplotlib as mpl\n",
    "from matplotlib.patches import Rectangle\n",
    "from matplotlib.collections import PatchCollection\n",
    "import seaborn as sns\n",
    "from copy import deepcopy as cdc\n",
    "import scipy.io as sio\n",
    "from sys import platform\n",
    "from datetime import datetime\n",
    "import datetime as dt\n",
    "import time\n",
    "import scipy\n",
    "import datetime as dt\n",
    "import plotly\n",
    "import plotly.graph_objects as go\n",
    "from matplotlib.animation import FuncAnimation\n",
    "import math\n",
    "import sahara_work as saw\n",
    "import statsmodels.api as sm\n",
    "from statsmodels.formula.api import ols\n",
    "from sklearn.metrics import f1_score,v_measure_score\n",
    "from sklearn.metrics import confusion_matrix\n",
    "from sklearn.metrics import accuracy_score\n",
    "import sklearn\n",
    "from sklearn.model_selection import train_test_split\n",
    "from sklearn.linear_model import LogisticRegression\n",
    "import sahara_work as saw\n",
    "import musclebeachtools as mbt\n",
    "import numpy as np\n",
    "import criticality as cr\n",
    "import powerlaw\n",
    "import pdb\n",
    "import numpy as np\n",
    "from criticality import pvaluenew2 as pv\n",
    "from criticality import exclude as ex\n",
    "import matplotlib.pyplot as plt\n",
    "import seaborn as sns\n",
    "import os.path as op\n",
    "\n",
    "\n",
    "plt.rcParams['pdf.fonttype'] = 42\n",
    "plt.rcParams.update({'font.family':'Arial'})\n",
    "\n",
    "if platform == 'darwin':\n",
    "    basedir = 'Volumes'\n",
    "else:\n",
    "    basedir = 'media'\n",
    "    \n",
    "pth = f'/{basedir}/HlabShare/james/'\n",
    "\n",
    "savedir = f'/{basedir}/HlabShare/te4_manuscript_james/manuscript_folders/te4_figure_4/'\n",
    "today = datetime.today().strftime('%Y-%m-%d')\n",
    "\n",
    "cmap = \"YlGnBu\"\n",
    "\n",
    "SAVEFIGS = 1\n"
   ]
  },
  {
   "cell_type": "code",
   "execution_count": 2,
   "id": "9d97bf4f",
   "metadata": {},
   "outputs": [],
   "source": [
    "# Ages = [393, 371, 354, 280, 269, 242, 167, 134, 112, 96]\n",
    "# #Volumes = [3.76, 2.98, 6.51, 6.60, 5.77, 8.07, 8.29, 8.00, 7.62, 6.30]\n",
    "# #Volumes = [3.76, 2.98, 6.51, 6.60, 5.77, 6.391, 8.29, 8.00, 7.62, 6.30]\n",
    "# #Volumes = [3.76, 2.98, 6.51, 6.60, 5.77, 7.45, 8.29, 8.00, 7.62, 8.28]\n",
    "# Volumes = [3.76, 2.98, 6.51, 6.60, 5.77, 8.07, 8.29, 8.00, 7.62, 8.28]\n",
    "# ATs = [16.8, 'nan', 11.7, 14.3, 19.6, 11.1, 33.4, 33.5, 19.2, 39.7]\n",
    "# perc_wake = [74.507246, 'nan', 64.240741, 74.770833, 58.898148, 51.25, 52.898148, 56.009259, 57.21164, 60.759259]\n",
    "# use_ans = ['caf37','caf62','caf78','caf49','caf52','caf84','caf72','caf48','caf22','caf60']\n",
    "# use_ans_CAPS = np.array(['CAF37','CAF62','CAF78','CAF49','CAF52','CAF84','CAF72','CAF48','CAF22','CAF60'])\n",
    "\n",
    "# Ventricles = [0.910262252, 3.865097316, 2.431031144, 0.092032777, 1.454238588, 1.31902801, 0, 0,  0.160132711, 0]\n",
    "# ATs_james = [51.3195, 80.325, 8.7005, 10.164, 46.095, 1.9035, 8.324, 9.541, 0.604, 1.5315]\n",
    "# ATs_james_threshold_205 = [66.3845, 84.9, 14.783, 16.177, 60.21, 3.5855, 13.2775, 11.0345, 0.9445, 3.2545]\n",
    "\n",
    "\n",
    "Ages = np.array([393, 371, 354, 280, 269, 242, 167, 134, 112, 96])\n",
    "#Volumes = [3.76, 2.98, 6.51, 6.60, 5.77, 8.07, 8.29, 8.00, 7.62, 6.30]\n",
    "#Volumes = [3.76, 2.98, 6.51, 6.60, 5.77, 6.391, 8.29, 8.00, 7.62, 6.30]\n",
    "#Volumes = [3.76, 2.98, 6.51, 6.60, 5.77, 7.45, 8.29, 8.00, 7.62, 8.28]\n",
    "Volumes = np.array([3.76, 2.98, 6.51, 6.60, 5.77, 8.07, 8.29, 8.00, 7.62, 8.28])\n",
    "ATs = np.array([16.8, 'nan', 11.7, 14.3, 19.6, 11.1, 33.4, 33.5, 19.2, 39.7])\n",
    "perc_wake = np.array([74.507246, 'nan', 64.240741, 74.770833, 58.898148, 51.25, 52.898148, 56.009259, 57.21164, 60.759259])\n",
    "use_ans = np.array(['caf37','caf62','caf78','caf49','caf52','caf84','caf72','caf48','caf22','caf60'])\n",
    "use_ans_CAPS = np.array(['CAF37','CAF62','CAF78','CAF49','CAF52','CAF84','CAF72','CAF48','CAF22','CAF60'])\n",
    "\n",
    "Ventricles = np.array([0.910262252, 3.865097316, 2.431031144, 0.092032777, 1.454238588, 1.31902801, 0, 0,  0.160132711, 0])\n",
    "ATs_james = np.array([51.3195, 80.325, 8.7005, 10.164, 46.095, 1.9035, 8.324, 9.541, 0.604, 1.5315])\n",
    "ATs_james_threshold_205 = np.array([66.3845, 84.9, 14.783, 16.177, 60.21, 3.5855, 13.2775, 11.0345, 0.9445, 3.2545])\n",
    "\n",
    "sexes = []\n",
    "sexes = np.array([saw.get_sex(tmpan) for tmpan in use_ans])\n",
    "\n",
    "M_idx = np.where(sexes == 'M')[0]\n",
    "F_idx = np.where(sexes == 'F')[0]\n",
    "\n"
   ]
  },
  {
   "cell_type": "code",
   "execution_count": 3,
   "id": "c01b7209",
   "metadata": {},
   "outputs": [
    {
     "name": "stdout",
     "output_type": "stream",
     "text": [
      "293463\n",
      "293563\n"
     ]
    }
   ],
   "source": [
    "# Load FR dataframe:\n",
    "\n",
    "good_an = np.array(['caf100', 'caf101', 'caf102', 'caf103', 'caf104', 'caf106',\n",
    "       'caf107', 'caf108', 'caf109', 'caf22', 'caf26', 'caf34', 'caf37',\n",
    "       'caf40', 'caf42', 'caf49', 'caf50', 'caf52',\n",
    "       'caf61', 'caf62', 'caf66', 'caf69', 'caf72', 'caf77', 'caf78',\n",
    "       'caf79', 'caf80', 'caf81', 'caf82', 'caf84', 'caf88', 'caf89',\n",
    "       'caf90', 'caf92', 'caf94', 'caf95', 'caf97', 'caf99',\n",
    "       'eab40', 'eab47', 'eab50', 'kdr14', 'kdr27','kdr36','caf48', 'caf60'], dtype='<U6')\n",
    "\n",
    "dfall_FR = pd.DataFrame()\n",
    "\n",
    "for i in good_an:\n",
    "    dftemp = []\n",
    "    try:\n",
    "        dftemp = pd.read_pickle(f'/{basedir}/HlabShare/james_work/FR_and_CV_pkls_2hr_v11_CV_filtered/' + i +'_fr.pkl').reset_index()\n",
    "        dfall_FR = pd.concat([dfall_FR, dftemp], ignore_index=True)\n",
    "    except:\n",
    "        print('couldnt load pkl for ' + i)\n",
    "        \n",
    "dfall_FR.loc[(dfall_FR.peaklatency > .3), 'celltype'] = 'RSU'\n",
    "dfall_FR.loc[(dfall_FR.peaklatency < .3), 'celltype'] = 'FS'\n",
    "        \n",
    "dfall_FR['age_days'] = dfall_FR.time/(24*3600)  \n",
    "dfall_FR = dfall_FR[dfall_FR.fr < 50]\n",
    "dfall_FR['logfr'] = np.log10(dfall_FR['fr'])\n",
    "\n",
    "#dfall_FR = dfall_FR.drop_duplicates(keep = 'last')\n",
    "\n",
    "dfall_FR['bins'] = pd.cut(x=dfall_FR['age_days'], bins= [0,91,274,600],labels=['Young','Mid','Old'])\n",
    "\n",
    "\n",
    "# Load CV dataframe:\n",
    "\n",
    "good_an = np.array(['caf100', 'caf101', 'caf102', 'caf103', 'caf104', 'caf106',\n",
    "       'caf107', 'caf108', 'caf109', 'caf22', 'caf26', 'caf34', 'caf37',\n",
    "       'caf40', 'caf42', 'caf49', 'caf50', 'caf52',\n",
    "       'caf61', 'caf62', 'caf66', 'caf69', 'caf72', 'caf77', 'caf78',\n",
    "       'caf79', 'caf80', 'caf81', 'caf82', 'caf84', 'caf88', 'caf89',\n",
    "       'caf90', 'caf92', 'caf94', 'caf95', 'caf97', 'caf99',\n",
    "       'eab40', 'eab47', 'eab50', 'kdr14', 'kdr27','kdr36','caf48', 'caf60'], dtype='<U6')\n",
    "\n",
    "dfall_CV = pd.DataFrame()\n",
    "for i in good_an:\n",
    "    dftemp = []\n",
    "    try:\n",
    "        dftemp = pd.read_pickle(f'/{basedir}/HlabShare/james_work/FR_and_CV_pkls_2hr_v11_CV_filtered/' + i +'_cv.pkl').reset_index()\n",
    "        dfall_CV = pd.concat([dfall_CV, dftemp], ignore_index=True)\n",
    "    except:\n",
    "        print('couldnt load pkl for ' + i)\n",
    "        \n",
    "dfall_CV.loc[(dfall_CV.peaklatency > .3), 'cv_celltype'] = 'RSU'\n",
    "dfall_CV.loc[(dfall_CV.peaklatency < .3), 'cv_celltype'] = 'FS'\n",
    "\n",
    "dfall_CV.loc[(dfall_CV.peaklatency > .3) & (dfall_CV.overall_fr < 5), 'cell_type'] = 'principal'\n",
    "dfall_CV.loc[(dfall_CV.peaklatency < .3), 'cell_type'] = 'FS'\n",
    "        \n",
    "dfall_CV['age_days'] = dfall_CV.time/(24*3600)  \n",
    "#dfall_CV = dfall_CV.drop_duplicates(keep = 'last')\n",
    "dfall_CV['bins'] = pd.cut(x=dfall_CV['age_days'], bins= [0,91,274,600],labels=['Young','Mid','Old'])\n",
    "\n",
    "print(len(dfall_FR))\n",
    "print(len(dfall_CV))\n"
   ]
  },
  {
   "cell_type": "code",
   "execution_count": 4,
   "id": "fb5bed59",
   "metadata": {},
   "outputs": [],
   "source": [
    "mean_correlation_df = pd.read_pickle(f'/{basedir}/HlabShare/te4_manuscript_james/manuscript_folders/te4_figure_2/mean_correlation.pkl')\n",
    "mean_correlation_df['L1_distance'] = np.array(mean_correlation_df['L1_distance']).astype(float)\n",
    "bins = [0,91,274,600]\n",
    "mean_correlation_df['bin'] = pd.cut(mean_correlation_df['age'], bins)\n",
    "\n",
    "mean_correlation_df_combined = mean_correlation_df\n",
    "mean_correlation_df_combined = mean_correlation_df_combined.replace('e4', 'wt')\n",
    "mean_correlation_df_combined = mean_correlation_df_combined.sort_values(by='genotype')\n",
    "\n",
    "# Define a function to categorize age\n",
    "def categorize_age(age):\n",
    "    if age < 91:\n",
    "        return 'young'\n",
    "    elif 91 <= age <= 274:\n",
    "        return 'mid'\n",
    "    else:\n",
    "        return 'old'\n",
    "\n",
    "# Apply the function to the age column to create the age_group column\n",
    "mean_correlation_df_combined['age_group'] = mean_correlation_df_combined['age'].apply(categorize_age)\n"
   ]
  },
  {
   "cell_type": "code",
   "execution_count": 5,
   "id": "c5cf61b9",
   "metadata": {},
   "outputs": [],
   "source": [
    "#dfall = pd.read_pickle(f'/{basedir}/HlabShare/james/indv_param_with_dist8_justca1.pkl').reset_index()\n",
    "#dfall = pd.read_pickle(f'/{basedir}/HlabShare/james/indv_param_with_dist8_justca1_v8.pkl')\n",
    "#dfall = pd.read_pickle(f'/{basedir}/HlabShare/james/indv_param_with_dist8_justca1_v9_fixing_missing_data.pkl')\n",
    "dfall = pd.read_pickle(f'/{basedir}/HlabShare/te4_manuscript_james/indv_param_with_dist8_justca1_v13.pkl')\n",
    "\n",
    "#dfall = pd.read_pickle('/media/HlabShare/clayton_sahara_work/criticality/chpc/indv_param_with_dist6_justca1.pkl')\n",
    "\n",
    "dfall = dfall.drop_duplicates(subset=['animal','probe', 'date', 'time_frame', 'block_num', 'scored'], keep = 'last')\n",
    "\n",
    "df = dfall\n"
   ]
  },
  {
   "cell_type": "code",
   "execution_count": 6,
   "id": "b2bc981c",
   "metadata": {},
   "outputs": [],
   "source": [
    "Animals = ['caf37', 'caf62', 'caf78', 'caf49', 'caf52', 'caf84', 'caf72', 'caf48', 'caf22', 'caf60']\n",
    "DAYS_PRIOR = 30\n"
   ]
  },
  {
   "cell_type": "code",
   "execution_count": 10,
   "id": "2c6ab5c9",
   "metadata": {},
   "outputs": [],
   "source": [
    "DCCs_all = []\n",
    "DCCs_end = []\n",
    "DCCs_all_passed = []\n",
    "DCCs_end_passed = []\n",
    "perc_passed = []\n",
    "mean_FR = []\n",
    "mean_FR_principal = []\n",
    "mean_FR_FS = []\n",
    "mean_CV = []\n",
    "mean_CV_principal = []\n",
    "mean_CV_FS = []\n",
    "mean_correlation = []\n",
    "entropy = []\n",
    "nearcrit_alldata = []\n",
    "nearcrit = []\n",
    "\n",
    "for tmp_animal in Animals:\n",
    "#tmp_animal = Animals[0]\n",
    "\n",
    "    FR_tmp_df = []\n",
    "    FR_tmp_df = dfall_FR[dfall_FR.animal == tmp_animal]\n",
    "    FR_last_month_tmp = []\n",
    "    FR_last_month_tmp = FR_tmp_df[FR_tmp_df.age_days > FR_tmp_df.age_days.max() - DAYS_PRIOR]\n",
    "    mean_FR.append(FR_last_month_tmp.fr.mean())\n",
    "    mean_FR_principal.append(FR_last_month_tmp[(FR_last_month_tmp.peaklatency > 0.3) & FR_last_month_tmp.fr<5].fr.mean())\n",
    "    mean_FR_FS.append(FR_last_month_tmp[(FR_last_month_tmp.peaklatency < 0.3)].fr.mean())\n",
    "\n",
    "    CV_tmp_df = []\n",
    "    CV_tmp_df = dfall_CV[dfall_CV.animal == tmp_animal]\n",
    "    CV_last_month_tmp = []\n",
    "    CV_last_month_tmp = CV_tmp_df[CV_tmp_df.age_days > CV_tmp_df.age_days.max() - DAYS_PRIOR]\n",
    "    mean_CV.append(CV_last_month_tmp.cv.mean())\n",
    "    mean_CV_principal.append(CV_last_month_tmp[(CV_last_month_tmp.peaklatency > 0.3) & CV_last_month_tmp.overall_fr<5].cv.mean())\n",
    "    mean_CV_FS.append(CV_last_month_tmp[(CV_last_month_tmp.peaklatency < 0.3)].cv.mean())\n",
    "\n",
    "    Correlation_tmp_df = []\n",
    "    Correlation_tmp_df = mean_correlation_df_combined[mean_correlation_df_combined.animal == tmp_animal]\n",
    "    Correlation_last_month_tmp = []\n",
    "    Correlation_last_month_tmp = Correlation_tmp_df[Correlation_tmp_df.age > Correlation_tmp_df.age.max() - DAYS_PRIOR]\n",
    "    mean_correlation.append(Correlation_last_month_tmp.mean_correlation.mean())\n",
    "    entropy.append(Correlation_last_month_tmp.entropy.mean())\n",
    "\n",
    "\n",
    "    tmpdf = []\n",
    "    tmpdf = df[df.animal == tmp_animal]\n",
    "    tmpdf = tmpdf.sort_values(by = 'age_days')\n",
    "    nearcrit_tmp_df = []\n",
    "    nearcrit_tmp_df = df[df.animal == tmp_animal]\n",
    "    nearcrit_last_month_tmp = []\n",
    "    nearcrit_last_month_tmp = nearcrit_tmp_df[nearcrit_tmp_df.age_days > nearcrit_tmp_df.age_days.max() - DAYS_PRIOR]\n",
    "    nearcrit.append(len(nearcrit_last_month_tmp[(nearcrit_last_month_tmp.passed == True) & (nearcrit_last_month_tmp.dcc < .3)])/len(nearcrit_last_month_tmp)*100)\n",
    "\n",
    "    \n",
    "    \n",
    "mean_FR = np.array(mean_FR)\n",
    "mean_FR_principal = np.array(mean_FR_principal)\n",
    "mean_FR_FS = np.array(mean_FR_FS)\n",
    "mean_CV = np.array(mean_CV)\n",
    "mean_CV_principal = np.array(mean_CV_principal)\n",
    "mean_CV_FS = np.array(mean_CV_FS)\n",
    "mean_correlation = np.array(mean_correlation)\n",
    "entropy = np.array(entropy)\n",
    "nearcrit = np.array(nearcrit)\n",
    "\n"
   ]
  },
  {
   "cell_type": "code",
   "execution_count": 63,
   "id": "9b6555ff",
   "metadata": {
    "scrolled": true
   },
   "outputs": [],
   "source": [
    "# df_FRs = pd.read_pickle(f'/{basedir}/HlabShare/james/DF_meanFRs_all.pkl')\n",
    "# df_CVs = pd.read_pickle(f'/{basedir}/HlabShare/james/DF_meanCVs_all.pkl')\n",
    "# df_corr_entrs = pd.read_pickle(f'/{basedir}/HlabShare/james/df_corr_entr_all.pkl')\n",
    "\n",
    "# #Ages = [393, 371, 354, 280, 269, 242, 167, 134, 112, 96]\n",
    "# #Volumes = [3.76, 2.98, 6.51, 6.60, 5.77, 8.07, 8.29, 8.00, 7.62, 6.30]\n",
    "# #AT8s = [16.7975, 61.3665, 11.69, 14.3025, 19.6255, 11.138, 33.384, 33.4825, 19.175, 39.7445]\n",
    "\n",
    "# DCCs_all = []\n",
    "# DCCs_end = []\n",
    "# DCCs_all_passed = []\n",
    "# DCCs_end_passed = []\n",
    "# perc_passed = []\n",
    "# mean_FR = []\n",
    "# mean_CV = []\n",
    "# mean_correlation = []\n",
    "# entropy = []\n",
    "# nearcrit_alldata = []\n",
    "# nearcrit = []\n",
    "\n",
    "\n",
    "# for a in Animals:\n",
    "#     print(a)\n",
    "#     tmpdf = []\n",
    "#     tmpdf = df[df.animal == a]\n",
    "#     tmpdf = tmpdf.sort_values(by = 'age_days')\n",
    "#     print('number of blocks (ALL): ' + str(len(tmpdf)))\n",
    "#     print('number of blocks (PASSED): ' + str(len(tmpdf[tmpdf.passed == True])))\n",
    "#     print('number of blocks (near crit): ' + str(len(tmpdf[(tmpdf.passed == True) & (tmpdf.dcc <= .3)])/len(tmpdf)*100))\n",
    "    \n",
    "#     nearcrit_alldata.append(len(tmpdf[(tmpdf.passed == True) & (tmpdf.dcc < .3)])/len(tmpdf)*100)\n",
    "#     nearcrit.append(len(tmpdf[(tmpdf.age_days >= tmpdf.age_days.max()-DAYS_PRIOR) & (tmpdf.passed == True) & (tmpdf.dcc < .3)])/len(tmpdf[((tmpdf.age_days > tmpdf.age_days.max()-DAYS_PRIOR))])*100)\n",
    "    \n",
    "#     perc_passed.append(len(tmpdf[tmpdf.passed == True])/len(tmpdf)*100)\n",
    "#     DCCs_all.append(np.mean(tmpdf.dcc))\n",
    "#     DCCs_all_passed.append(np.mean(tmpdf[tmpdf.passed == True].dcc))\n",
    "#     DCCs_end.append(np.mean(tmpdf.iloc[(len(tmpdf) - 24*1) : len(tmpdf)].dcc))\n",
    "#     tmptmpdf = []\n",
    "#     tmptmpdf = tmpdf[tmpdf.passed == True]\n",
    "#     DCCs_end_passed.append(np.mean(tmptmpdf.iloc[(len(tmptmpdf) - 12*1) : len(tmptmpdf)].dcc))\n",
    "    \n",
    "#     mean_FR.append(df_FRs[df_FRs.Animal == a].mean_FR.to_numpy()[0])\n",
    "#     mean_CV.append(df_CVs[df_CVs.Animal == a].mean_CV.to_numpy()[0])\n",
    "#     mean_correlation.append(df_corr_entrs[df_corr_entrs.Animal == a].mean_correlation.to_numpy()[0])\n",
    "#     entropy.append(df_corr_entrs[df_corr_entrs.Animal == a].entropy.to_numpy()[0])\n",
    "    \n",
    "\n",
    "# DCCs_all = np.array(DCCs_all)\n",
    "# DCCs_end = np.array(DCCs_end)\n",
    "# DCCs_all_passed = np.array(DCCs_all_passed)\n",
    "# DCCs_end_passed = np.array(DCCs_end_passed)\n",
    "# perc_passed = np.array(perc_passed)\n",
    "# mean_FR = np.array(mean_FR)\n",
    "# mean_CV = np.array(mean_CV)\n",
    "# mean_correlation = np.array(mean_correlation)\n",
    "# entropy = np.array(entropy)\n",
    "# nearcrit = np.array(nearcrit)\n",
    "# nearcrit_alldata = np.array(nearcrit_alldata)\n",
    "\n",
    "\n"
   ]
  },
  {
   "cell_type": "code",
   "execution_count": null,
   "id": "93660e22",
   "metadata": {},
   "outputs": [],
   "source": []
  },
  {
   "cell_type": "code",
   "execution_count": null,
   "id": "8bb6bf53",
   "metadata": {},
   "outputs": [],
   "source": []
  },
  {
   "cell_type": "markdown",
   "id": "9b7261c4",
   "metadata": {},
   "source": [
    "# FR and CV vs histology:"
   ]
  },
  {
   "cell_type": "code",
   "execution_count": 11,
   "id": "6428a344",
   "metadata": {},
   "outputs": [
    {
     "name": "stderr",
     "output_type": "stream",
     "text": [
      "findfont: Font family ['Arial'] not found. Falling back to DejaVu Sans.\n",
      "findfont: Font family ['Arial'] not found. Falling back to DejaVu Sans.\n"
     ]
    },
    {
     "name": "stdout",
     "output_type": "stream",
     "text": [
      "FR vs Hipp Volume p = 0.4654151394927668\n",
      "CV vs Hipp Volume p = 0.28255732078797946\n"
     ]
    },
    {
     "name": "stderr",
     "output_type": "stream",
     "text": [
      "findfont: Font family ['Arial'] not found. Falling back to DejaVu Sans.\n"
     ]
    },
    {
     "data": {
      "image/png": "[encoded data removed]",
      "text/plain": [
       "<Figure size 158.4x144 with 2 Axes>"
      ]
     },
     "metadata": {
      "needs_background": "light"
     },
     "output_type": "display_data"
    }
   ],
   "source": [
    "fig, ax1 = plt.subplots(figsize = [2.2,2])\n",
    "ax2 = ax1.twinx()\n",
    "\n",
    "ax1.scatter(Volumes[M_idx], mean_FR[M_idx], s = 25, marker='s', color = sns.xkcd_rgb['sea green'])\n",
    "ax2.scatter(Volumes[M_idx], mean_CV[M_idx], s = 25, marker='s', color = sns.xkcd_rgb['indigo'])\n",
    "\n",
    "ax1.scatter(Volumes[F_idx], mean_FR[F_idx], s = 25, marker='o', color = sns.xkcd_rgb['sea green'])\n",
    "ax2.scatter(Volumes[F_idx], mean_CV[F_idx], s = 25, marker='o', color = sns.xkcd_rgb['indigo'])\n",
    "\n",
    "slope, intercept, r_value, p_value, std_err = scipy.stats.linregress(Volumes, mean_FR)\n",
    "print(f'FR vs Hipp Volume p = {p_value}')\n",
    "slope, intercept, r_value, p_value, std_err = scipy.stats.linregress(Volumes, mean_CV)\n",
    "print(f'CV vs Hipp Volume p = {p_value}')\n",
    "\n",
    "plt.xlim([1,10])\n",
    "plt.xticks(fontsize = 8)\n",
    "plt.yticks(fontsize = 8)\n",
    "ax1.set_xlabel('Hippocampal vol. (mm$^3$)', fontsize = 9)\n",
    "ax1.set_ylabel('Mean Firing Rate (Hz)', fontsize = 9)\n",
    "ax2.set_ylabel('Mean C.V.', fontsize = 9)\n",
    "\n",
    "plt.text(2,1.6,'n.s.', color=sns.xkcd_rgb['sea green'])\n",
    "plt.text(2,1.5,'n.s.', color=sns.xkcd_rgb['indigo'])\n",
    "\n",
    "sns.despine(top=True, right=False)\n",
    "\n",
    "if SAVEFIGS:\n",
    "    plt.savefig(f'/{basedir}/HlabShare/te4_manuscript_james/manuscript_folders/UPDATED_Fig6_figures/{today}_FR_and_CV_vs_HippVol.pdf', bbox_inches = \"tight\")\n",
    "    \n",
    "    "
   ]
  },
  {
   "cell_type": "code",
   "execution_count": 12,
   "id": "a31e4b3a",
   "metadata": {},
   "outputs": [
    {
     "name": "stdout",
     "output_type": "stream",
     "text": [
      "FR vs Ventricular Volume p = 0.47829809495434505\n",
      "CV vs Ventricular Volume p = 0.31512832721717604\n"
     ]
    },
    {
     "data": {
      "image/png": "[encoded data removed]",
      "text/plain": [
       "<Figure size 158.4x144 with 2 Axes>"
      ]
     },
     "metadata": {
      "needs_background": "light"
     },
     "output_type": "display_data"
    }
   ],
   "source": [
    "fig, ax1 = plt.subplots(figsize = [2.2,2])\n",
    "ax2 = ax1.twinx()\n",
    "\n",
    "ax1.scatter(Ventricles[M_idx], mean_FR[M_idx], s = 25, marker='s', color = sns.xkcd_rgb['sea green'])\n",
    "ax2.scatter(Ventricles[M_idx], mean_CV[M_idx], s = 25, marker='s', color = sns.xkcd_rgb['indigo'])\n",
    "\n",
    "ax1.scatter(Ventricles[F_idx], mean_FR[F_idx], s = 25, marker='o', color = sns.xkcd_rgb['sea green'])\n",
    "ax2.scatter(Ventricles[F_idx], mean_CV[F_idx], s = 25, marker='o', color = sns.xkcd_rgb['indigo'])\n",
    "\n",
    "slope, intercept, r_value, p_value, std_err = scipy.stats.linregress(Ventricles, mean_FR)\n",
    "print(f'FR vs Ventricular Volume p = {p_value}')\n",
    "slope, intercept, r_value, p_value, std_err = scipy.stats.linregress(Ventricles, mean_CV)\n",
    "print(f'CV vs Ventricular Volume p = {p_value}')\n",
    "\n",
    "plt.xlim([-.3,4.3])\n",
    "plt.xticks(fontsize = 8)\n",
    "plt.yticks(fontsize = 8)\n",
    "ax1.set_xlabel('Ventricular vol. (mm$^3$)', fontsize = 9)\n",
    "ax1.set_ylabel('Mean Firing Rate (Hz)', fontsize = 9)\n",
    "ax2.set_ylabel('Mean C.V.', fontsize = 9)\n",
    "\n",
    "plt.text(3,1.6,'n.s.', color=sns.xkcd_rgb['sea green'])\n",
    "plt.text(3,1.5,'n.s.', color=sns.xkcd_rgb['indigo'])\n",
    "\n",
    "sns.despine(top=True, right=False)\n",
    "\n",
    "if SAVEFIGS:\n",
    "    plt.savefig(f'/{basedir}/HlabShare/te4_manuscript_james/manuscript_folders/UPDATED_Fig6_figures/{today}_FR_and_CV_vs_VentrVol.pdf', bbox_inches = \"tight\")\n",
    "    "
   ]
  },
  {
   "cell_type": "code",
   "execution_count": 13,
   "id": "0f75aaa8",
   "metadata": {},
   "outputs": [
    {
     "name": "stdout",
     "output_type": "stream",
     "text": [
      "FR vs AT8% p = 0.30608897562818765\n",
      "CV vs AT8% p = 0.357602910000589\n"
     ]
    },
    {
     "data": {
      "image/png": "[encoded data removed]",
      "text/plain": [
       "<Figure size 158.4x144 with 2 Axes>"
      ]
     },
     "metadata": {
      "needs_background": "light"
     },
     "output_type": "display_data"
    }
   ],
   "source": [
    "fig, ax1 = plt.subplots(figsize = [2.2,2])\n",
    "ax2 = ax1.twinx()\n",
    "\n",
    "ax1.scatter(ATs_james[M_idx], mean_FR[M_idx], s = 25, marker='s', color = sns.xkcd_rgb['sea green'])\n",
    "ax2.scatter(ATs_james[M_idx], mean_CV[M_idx], s = 25, marker='s', color = sns.xkcd_rgb['indigo'])\n",
    "\n",
    "ax1.scatter(ATs_james[F_idx], mean_FR[F_idx], s = 25, marker='o', color = sns.xkcd_rgb['sea green'])\n",
    "ax2.scatter(ATs_james[F_idx], mean_CV[F_idx], s = 25, marker='o', color = sns.xkcd_rgb['indigo'])\n",
    "\n",
    "slope, intercept, r_value, p_value, std_err = scipy.stats.linregress(ATs_james, mean_FR)\n",
    "print(f'FR vs AT8% p = {p_value}')\n",
    "slope, intercept, r_value, p_value, std_err = scipy.stats.linregress(ATs_james, mean_CV)\n",
    "print(f'CV vs AT8% p = {p_value}')\n",
    "\n",
    "plt.xlim([-3,100])\n",
    "plt.xticks(fontsize = 8)\n",
    "plt.yticks(fontsize = 8)\n",
    "ax1.set_xlabel('AT8 coverage (%)', fontsize = 9)\n",
    "ax1.set_ylabel('Mean Firing Rate (Hz)', fontsize = 9)\n",
    "ax2.set_ylabel('Mean C.V.', fontsize = 9)\n",
    "\n",
    "plt.text(70,1.6,'n.s.', color=sns.xkcd_rgb['sea green'])\n",
    "plt.text(70,1.5,'n.s.', color=sns.xkcd_rgb['indigo'])\n",
    "\n",
    "sns.despine(top=True, right=False)\n",
    "\n",
    "if SAVEFIGS:\n",
    "    plt.savefig(f'/{basedir}/HlabShare/te4_manuscript_james/manuscript_folders/UPDATED_Fig6_figures/{today}_FR_and_CV_vs_AT8.pdf', bbox_inches = \"tight\")\n",
    "    "
   ]
  },
  {
   "cell_type": "code",
   "execution_count": null,
   "id": "2c642fb8",
   "metadata": {},
   "outputs": [],
   "source": []
  },
  {
   "cell_type": "markdown",
   "id": "f190a5cb",
   "metadata": {},
   "source": [
    "# correlation/entropy vs histology:"
   ]
  },
  {
   "cell_type": "code",
   "execution_count": 14,
   "id": "3ae57e16",
   "metadata": {},
   "outputs": [
    {
     "name": "stdout",
     "output_type": "stream",
     "text": [
      "Correlation Magnitude vs Hipp Volume p = 0.22536584310214428\n",
      "Correlation Entropy vs Hipp Volume p = 0.07080007408285756\n"
     ]
    },
    {
     "data": {
      "image/png": "[encoded data removed]",
      "text/plain": [
       "<Figure size 158.4x144 with 2 Axes>"
      ]
     },
     "metadata": {
      "needs_background": "light"
     },
     "output_type": "display_data"
    }
   ],
   "source": [
    "fig, ax1 = plt.subplots(figsize = [2.2,2])\n",
    "ax2 = ax1.twinx()\n",
    "\n",
    "corr_color = '#EE4266'\n",
    "#entr_color = '#A7BED3'\n",
    "entr_color = '#38AECC'\n",
    "\n",
    "ax1.scatter(Volumes[M_idx], mean_correlation[M_idx], s = 25, marker='s', color = corr_color)\n",
    "ax2.scatter(Volumes[M_idx], entropy[M_idx], s = 25, marker='s', color = entr_color)\n",
    "\n",
    "ax1.scatter(Volumes[F_idx], mean_correlation[F_idx], s = 25, marker='o', color = corr_color)\n",
    "ax2.scatter(Volumes[F_idx], entropy[F_idx], s = 25, marker='o', color = entr_color)\n",
    "\n",
    "slope, intercept, r_value, p_value, std_err = scipy.stats.linregress(Volumes, mean_correlation)\n",
    "print(f'Correlation Magnitude vs Hipp Volume p = {p_value}')\n",
    "slope, intercept, r_value, p_value, std_err = scipy.stats.linregress(Volumes, entropy)\n",
    "print(f'Correlation Entropy vs Hipp Volume p = {p_value}')\n",
    "\n",
    "plt.xlim([1,10])\n",
    "plt.xticks(fontsize = 8)\n",
    "plt.yticks(fontsize = 8)\n",
    "ax1.set_xlabel('Hippocampal vol. (mm$^3$)', fontsize = 9)\n",
    "ax1.set_ylabel('Mean Correlation Magnitude', fontsize = 9)\n",
    "ax2.set_ylabel('Mean Correlation Entropy', fontsize = 9)\n",
    "\n",
    "plt.text(2,3.5,'n.s.', color=corr_color)\n",
    "plt.text(2,3.4,'n.s.', color=entr_color)\n",
    "\n",
    "sns.despine(top=True, right=False)\n",
    "\n",
    "if SAVEFIGS:\n",
    "    plt.savefig(f'/{basedir}/HlabShare/te4_manuscript_james/manuscript_folders/UPDATED_Fig6_figures/{today}_correlation_and_entropy_vs_HippVol.pdf', bbox_inches = \"tight\")\n",
    "    \n",
    "    "
   ]
  },
  {
   "cell_type": "code",
   "execution_count": 15,
   "id": "bab5ebf7",
   "metadata": {},
   "outputs": [
    {
     "name": "stdout",
     "output_type": "stream",
     "text": [
      "Correlation Magnitude vs Ventricular Volume p = 0.39367639917444563\n",
      "Correlation Entropy vs Ventricular Volume p = 0.169933585748722\n"
     ]
    },
    {
     "data": {
      "image/png": "[encoded data removed]",
      "text/plain": [
       "<Figure size 158.4x144 with 2 Axes>"
      ]
     },
     "metadata": {
      "needs_background": "light"
     },
     "output_type": "display_data"
    }
   ],
   "source": [
    "fig, ax1 = plt.subplots(figsize = [2.2,2])\n",
    "ax2 = ax1.twinx()\n",
    "\n",
    "ax1.scatter(Ventricles[M_idx], mean_correlation[M_idx], s = 25, marker='s', color = corr_color)\n",
    "ax2.scatter(Ventricles[M_idx], entropy[M_idx], s = 25, marker='s', color = entr_color)\n",
    "\n",
    "ax1.scatter(Ventricles[F_idx], mean_correlation[F_idx], s = 25, marker='o', color = corr_color)\n",
    "ax2.scatter(Ventricles[F_idx], entropy[F_idx], s = 25, marker='o', color = entr_color)\n",
    "\n",
    "slope, intercept, r_value, p_value, std_err = scipy.stats.linregress(Ventricles, mean_correlation)\n",
    "print(f'Correlation Magnitude vs Ventricular Volume p = {p_value}')\n",
    "slope, intercept, r_value, p_value, std_err = scipy.stats.linregress(Ventricles, entropy)\n",
    "print(f'Correlation Entropy vs Ventricular Volume p = {p_value}')\n",
    "\n",
    "plt.xlim([-.3,4.3])\n",
    "plt.xticks(fontsize = 8)\n",
    "plt.yticks(fontsize = 8)\n",
    "ax1.set_xlabel('Ventricular vol. (mm$^3$)', fontsize = 9)\n",
    "ax1.set_ylabel('Mean Correlation Magnitude', fontsize = 9)\n",
    "ax2.set_ylabel('Mean Correlation Entropy', fontsize = 9)\n",
    "\n",
    "plt.text(2.7,3.1,'n.s.', color=corr_color)\n",
    "plt.text(2.7,3,'n.s.', color=entr_color)\n",
    "\n",
    "sns.despine(top=True, right=False)\n",
    "\n",
    "if SAVEFIGS:\n",
    "    plt.savefig(f'/{basedir}/HlabShare/te4_manuscript_james/manuscript_folders/UPDATED_Fig6_figures/{today}_correlation_and_entropy_vs_VentVol.pdf', bbox_inches = \"tight\")\n",
    "    \n",
    "    "
   ]
  },
  {
   "cell_type": "code",
   "execution_count": 16,
   "id": "12ac9b52",
   "metadata": {},
   "outputs": [
    {
     "name": "stdout",
     "output_type": "stream",
     "text": [
      "Correlation Magnitude vs AT8% p = 0.0646716975126466\n",
      "Correlation Entropy vs AT8% p = 0.026314108793040306\n",
      "Correlation Entropy vs AT8% r sq = 0.4801702897190272\n"
     ]
    },
    {
     "data": {
      "image/png": "[encoded data removed]",
      "text/plain": [
       "<Figure size 158.4x144 with 2 Axes>"
      ]
     },
     "metadata": {
      "needs_background": "light"
     },
     "output_type": "display_data"
    }
   ],
   "source": [
    "fig, ax1 = plt.subplots(figsize = [2.2,2])\n",
    "ax2 = ax1.twinx()\n",
    "\n",
    "ax1.scatter(ATs_james[M_idx], mean_correlation[M_idx], s = 25, marker='s', color = corr_color)\n",
    "ax2.scatter(ATs_james[M_idx], entropy[M_idx], s = 25, marker='s', color = entr_color)\n",
    "\n",
    "ax1.scatter(ATs_james[F_idx], mean_correlation[F_idx], s = 25, marker='o', color = corr_color)\n",
    "ax2.scatter(ATs_james[F_idx], entropy[F_idx], s = 25, marker='o', color = entr_color)\n",
    "\n",
    "slope, intercept, r_value, p_value, std_err = scipy.stats.linregress(ATs_james, mean_correlation)\n",
    "print(f'Correlation Magnitude vs AT8% p = {p_value}')\n",
    "slope, intercept, r_value, p_value, std_err = scipy.stats.linregress(ATs_james, entropy)\n",
    "print(f'Correlation Entropy vs AT8% p = {p_value}')\n",
    "print(f'Correlation Entropy vs AT8% r sq = {r_value**2}')\n",
    "\n",
    "plt.xlim([-3,100])\n",
    "plt.xticks(fontsize = 8)\n",
    "plt.yticks(fontsize = 8)\n",
    "ax1.set_xlabel('AT8 coverage (%)', fontsize = 9)\n",
    "ax1.set_ylabel('Mean Correlation Magnitude', fontsize = 9)\n",
    "ax2.set_ylabel('Mean Correlation Entropy', fontsize = 9)\n",
    "\n",
    "\n",
    "slope, intercept, r_value, p_value, std_err = scipy.stats.linregress(ATs_james, entropy)\n",
    "fitxs = np.arange(0, 100,.05)\n",
    "fitys = slope*fitxs + intercept\n",
    "plt.plot(fitxs, fitys, color = entr_color, linestyle = '--', linewidth=2.5)\n",
    "\n",
    "\n",
    "plt.text(55,3.7,'n.s.', color=corr_color)\n",
    "plt.text(55,3.4,'r$^2$ = 0.48', color=entr_color)\n",
    "plt.text(55,3.25,'p = 0.026', color=entr_color)\n",
    "\n",
    "sns.despine(top=True, right=False)\n",
    "\n",
    "if SAVEFIGS:\n",
    "    plt.savefig(f'/{basedir}/HlabShare/te4_manuscript_james/manuscript_folders/UPDATED_Fig6_figures/{today}_correlation_and_entropy_vs_AT8.pdf', bbox_inches = \"tight\")\n",
    "    \n",
    "    "
   ]
  },
  {
   "cell_type": "code",
   "execution_count": null,
   "id": "f5d01898",
   "metadata": {},
   "outputs": [],
   "source": []
  },
  {
   "cell_type": "code",
   "execution_count": null,
   "id": "44cc996e",
   "metadata": {},
   "outputs": [],
   "source": []
  },
  {
   "cell_type": "code",
   "execution_count": 41,
   "id": "a2b9f904",
   "metadata": {},
   "outputs": [],
   "source": [
    "SAVEFIGS = 1"
   ]
  },
  {
   "cell_type": "code",
   "execution_count": null,
   "id": "e190d561",
   "metadata": {},
   "outputs": [],
   "source": [
    "#53fca1\n",
    "#380282\n"
   ]
  },
  {
   "cell_type": "code",
   "execution_count": null,
   "id": "9ad1d3d9",
   "metadata": {},
   "outputs": [],
   "source": []
  },
  {
   "cell_type": "code",
   "execution_count": 104,
   "id": "df386887",
   "metadata": {},
   "outputs": [],
   "source": [
    "SAVEFIGS = 1"
   ]
  },
  {
   "cell_type": "markdown",
   "id": "92b6c0b2",
   "metadata": {},
   "source": [
    "# near-critical vs histology:"
   ]
  },
  {
   "cell_type": "code",
   "execution_count": 52,
   "id": "cf45ed9e",
   "metadata": {},
   "outputs": [
    {
     "data": {
      "image/png": "[encoded data removed]",
      "text/plain": [
       "<Figure size 158.4x144 with 1 Axes>"
      ]
     },
     "metadata": {
      "needs_background": "light"
     },
     "output_type": "display_data"
    }
   ],
   "source": [
    "plt.figure(1, figsize = [2.2,2])\n",
    "DCC_measure = nearcrit\n",
    "\n",
    "plt.scatter(Volumes[M_idx], DCC_measure[M_idx],  s = 50, marker='s', color = sns.xkcd_rgb['saffron'])\n",
    "plt.scatter(Volumes[F_idx], DCC_measure[F_idx], s = 50, marker='o', color = sns.xkcd_rgb['saffron'])\n",
    "\n",
    "slope, intercept, r_value, p_value, std_err = scipy.stats.linregress(Volumes, DCC_measure)\n",
    "fitxs = np.arange(np.min(Volumes), np.max(Volumes),.05)\n",
    "fitys = slope*fitxs + intercept\n",
    "plt.plot(fitxs, fitys, color = 'grey', linestyle = '--', linewidth=2.5)\n",
    "plt.text(3, 85, 'r$^2$ = ' + str(round(r_value**2,3)), fontsize=9)\n",
    "plt.text(3, 78, 'p = ' + str(round(p_value,3)), fontsize=9)\n",
    "plt.ylim([-5,100])\n",
    "plt.yticks(fontsize = 8)\n",
    "plt.xticks(fontsize = 8)\n",
    "plt.ylabel('% blocks that are near-critical', fontsize = 9)\n",
    "plt.xlabel('Hippocampal vol. (mm$^3$)', fontsize = 9)\n",
    "\n",
    "sns.despine()\n",
    "\n",
    "if SAVEFIGS:\n",
    "    plt.savefig(f'/{basedir}/HlabShare/te4_manuscript_james/manuscript_folders/UPDATED_Fig6_figures/{today}_nearcrit_vs_HippVol.pdf', bbox_inches = \"tight\")\n",
    "    "
   ]
  },
  {
   "cell_type": "code",
   "execution_count": 51,
   "id": "897d28b0",
   "metadata": {},
   "outputs": [
    {
     "data": {
      "image/png": "[encoded data removed]",
      "text/plain": [
       "<Figure size 158.4x144 with 1 Axes>"
      ]
     },
     "metadata": {
      "needs_background": "light"
     },
     "output_type": "display_data"
    }
   ],
   "source": [
    "plt.figure(1, figsize = [2.2,2])\n",
    "\n",
    "DCC_measure = nearcrit\n",
    "\n",
    "plt.scatter(Ventricles[M_idx], DCC_measure[M_idx], s = 50, marker='s', color = sns.xkcd_rgb['saffron'])\n",
    "plt.scatter(Ventricles[F_idx], DCC_measure[F_idx], s = 50, marker='o', color = sns.xkcd_rgb['saffron'])\n",
    "\n",
    "slope, intercept, r_value, p_value, std_err = scipy.stats.linregress(Ventricles, DCC_measure)\n",
    "fitxs = np.arange(np.min(Ventricles), np.max(Ventricles),.05)\n",
    "fitys = slope*fitxs + intercept\n",
    "plt.plot(fitxs, fitys, color = 'grey', linestyle = '--', linewidth=2.5)\n",
    "#plt.text(10, 6, 'n.s.', color = sns.xkcd_rgb['saffron'], fontsize=10)\n",
    "plt.text(2, 85, 'r$^2$ = ' + str(round(r_value**2,3)), fontsize=9)\n",
    "plt.text(2, 78, 'p = ' + str(round(p_value,3)), fontsize=9)\n",
    "plt.ylim([-5,100])\n",
    "plt.yticks(fontsize = 8)\n",
    "plt.xticks(fontsize = 8)\n",
    "plt.ylabel('% blocks that are near-critical', fontsize = 9)\n",
    "plt.xlabel('Ventricular vol. (mm$^3$)', fontsize = 9)\n",
    "\n",
    "sns.despine()\n",
    "\n",
    "if SAVEFIGS:\n",
    "    plt.savefig(f'/{basedir}/HlabShare/te4_manuscript_james/manuscript_folders/UPDATED_Fig6_figures/{today}_nearcrit_vs_VentrVol.pdf', bbox_inches = \"tight\")\n",
    "    \n",
    "    "
   ]
  },
  {
   "cell_type": "code",
   "execution_count": 50,
   "id": "77bb2b84",
   "metadata": {},
   "outputs": [
    {
     "data": {
      "image/png": "[encoded data removed]",
      "text/plain": [
       "<Figure size 158.4x144 with 1 Axes>"
      ]
     },
     "metadata": {
      "needs_background": "light"
     },
     "output_type": "display_data"
    }
   ],
   "source": [
    "plt.figure(1, figsize = [2.2,2])\n",
    "\n",
    "DCC_measure = nearcrit\n",
    "\n",
    "plt.scatter(ATs_james[M_idx], DCC_measure[M_idx], s = 50, marker='s', color = sns.xkcd_rgb['saffron'])\n",
    "plt.scatter(ATs_james[F_idx], DCC_measure[F_idx], s = 50, marker='o', color = sns.xkcd_rgb['saffron'])\n",
    "\n",
    "slope, intercept, r_value, p_value, std_err = scipy.stats.linregress(ATs_james, DCC_measure)\n",
    "fitxs = np.arange(np.min(ATs_james), np.max(ATs_james),.05)\n",
    "fitys = slope*fitxs + intercept\n",
    "plt.plot(fitxs, fitys, color = 'grey', linestyle = '--', linewidth=2.5)\n",
    "#plt.text(10, 6, 'n.s.', color = sns.xkcd_rgb['saffron'], fontsize=10)\n",
    "plt.text(50, 85, 'r$^2$ = ' + str(round(r_value**2,3)), fontsize=9)\n",
    "plt.text(50, 78, 'p = ' + str(round(p_value,3)), fontsize=9)\n",
    "plt.ylim([-5,100])\n",
    "plt.yticks(fontsize = 8)\n",
    "plt.xticks(fontsize = 8)\n",
    "plt.ylabel('% blocks that are near-critical', fontsize = 9)\n",
    "plt.xlabel('AT8 coverage (%)', fontsize = 9)\n",
    "\n",
    "sns.despine()\n",
    "\n",
    "if SAVEFIGS:\n",
    "    plt.savefig(f'/{basedir}/HlabShare/te4_manuscript_james/manuscript_folders/UPDATED_Fig6_figures/{today}_nearcrit_vs_AT8.pdf', bbox_inches = \"tight\")\n",
    "    \n",
    "    "
   ]
  },
  {
   "cell_type": "code",
   "execution_count": null,
   "id": "1b845cbb",
   "metadata": {},
   "outputs": [],
   "source": []
  },
  {
   "cell_type": "code",
   "execution_count": null,
   "id": "b30eac87",
   "metadata": {},
   "outputs": [],
   "source": []
  },
  {
   "cell_type": "code",
   "execution_count": null,
   "id": "01543ff0",
   "metadata": {},
   "outputs": [],
   "source": []
  },
  {
   "cell_type": "code",
   "execution_count": null,
   "id": "7e051c67",
   "metadata": {},
   "outputs": [],
   "source": []
  },
  {
   "cell_type": "code",
   "execution_count": null,
   "id": "5fbd2407",
   "metadata": {},
   "outputs": [],
   "source": []
  },
  {
   "cell_type": "code",
   "execution_count": null,
   "id": "75ebaa1f",
   "metadata": {},
   "outputs": [],
   "source": []
  },
  {
   "cell_type": "code",
   "execution_count": null,
   "id": "73227ab6",
   "metadata": {},
   "outputs": [],
   "source": []
  },
  {
   "cell_type": "code",
   "execution_count": null,
   "id": "4e2a1739",
   "metadata": {},
   "outputs": [],
   "source": []
  },
  {
   "cell_type": "code",
   "execution_count": null,
   "id": "49b44202",
   "metadata": {},
   "outputs": [],
   "source": []
  },
  {
   "cell_type": "code",
   "execution_count": null,
   "id": "9dbfaba3",
   "metadata": {},
   "outputs": [],
   "source": []
  },
  {
   "cell_type": "code",
   "execution_count": null,
   "id": "d2bfee3d",
   "metadata": {},
   "outputs": [],
   "source": []
  },
  {
   "cell_type": "code",
   "execution_count": null,
   "id": "d8cc57eb",
   "metadata": {},
   "outputs": [],
   "source": []
  },
  {
   "cell_type": "code",
   "execution_count": null,
   "id": "7a23be26",
   "metadata": {},
   "outputs": [],
   "source": []
  },
  {
   "cell_type": "code",
   "execution_count": null,
   "id": "0ef303a8",
   "metadata": {},
   "outputs": [],
   "source": []
  },
  {
   "cell_type": "code",
   "execution_count": null,
   "id": "8b747158",
   "metadata": {},
   "outputs": [],
   "source": []
  },
  {
   "cell_type": "code",
   "execution_count": null,
   "id": "d7ed2f6e",
   "metadata": {},
   "outputs": [],
   "source": []
  },
  {
   "cell_type": "code",
   "execution_count": null,
   "id": "1492a191",
   "metadata": {},
   "outputs": [],
   "source": []
  },
  {
   "cell_type": "code",
   "execution_count": null,
   "id": "770d2ff0",
   "metadata": {},
   "outputs": [],
   "source": []
  }
 ],
 "metadata": {
  "kernelspec": {
   "display_name": "Python 3 (ipykernel)",
   "language": "python",
   "name": "python3"
  },
  "language_info": {
   "codemirror_mode": {
    "name": "ipython",
    "version": 3
   },
   "file_extension": ".py",
   "mimetype": "text/x-python",
   "name": "python",
   "nbconvert_exporter": "python",
   "pygments_lexer": "ipython3",
   "version": "3.8.13"
  }
 },
 "nbformat": 4,
 "nbformat_minor": 5
}

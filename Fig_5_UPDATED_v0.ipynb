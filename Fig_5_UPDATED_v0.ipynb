{
 "cells": [
  {
   "cell_type": "code",
   "execution_count": 1,
   "id": "750c9003",
   "metadata": {},
   "outputs": [
    {
     "name": "stderr",
     "output_type": "stream",
     "text": [
      "/hlabhome/wg-mjames/.conda/envs/james_test/lib/python3.8/site-packages/scipy/__init__.py:146: UserWarning: A NumPy version >=1.16.5 and <1.23.0 is required for this version of SciPy (detected version 1.23.1\n",
      "  warnings.warn(f\"A NumPy version >={np_minversion} and <{np_maxversion}\"\n",
      "/hlabhome/wg-mjames/.conda/envs/james_test/lib/python3.8/site-packages/xgboost/compat.py:36: FutureWarning: pandas.Int64Index is deprecated and will be removed from pandas in a future version. Use pandas.Index with the appropriate dtype instead.\n",
      "  from pandas import MultiIndex, Int64Index\n"
     ]
    }
   ],
   "source": [
    "from IPython.core.interactiveshell import InteractiveShell\n",
    "InteractiveShell.ast_node_interactivity = 'last_expr'\n",
    "\n",
    "import numpy as np \n",
    "import musclebeachtools as mbt\n",
    "import os\n",
    "import glob\n",
    "import pandas as pd\n",
    "#matplotlib.use('Agg')\n",
    "import matplotlib.pyplot as plt\n",
    "import matplotlib as mpl\n",
    "from matplotlib.patches import Rectangle\n",
    "from matplotlib.collections import PatchCollection\n",
    "import seaborn as sns\n",
    "from copy import deepcopy as cdc\n",
    "import scipy.io as sio\n",
    "from sys import platform\n",
    "from datetime import datetime\n",
    "import datetime as dt\n",
    "import time\n",
    "import scipy\n",
    "import datetime as dt\n",
    "import plotly\n",
    "import plotly.graph_objects as go\n",
    "from matplotlib.animation import FuncAnimation\n",
    "import math\n",
    "import sahara_work as saw\n",
    "import statsmodels.api as sm\n",
    "from statsmodels.formula.api import ols\n",
    "from sklearn.metrics import f1_score,v_measure_score\n",
    "from sklearn.metrics import confusion_matrix\n",
    "from sklearn.metrics import accuracy_score\n",
    "import sklearn\n",
    "from sklearn.model_selection import train_test_split\n",
    "from sklearn.linear_model import LogisticRegression\n",
    "import sahara_work as saw\n",
    "import musclebeachtools as mbt\n",
    "import numpy as np\n",
    "import criticality as cr\n",
    "import powerlaw\n",
    "import pdb\n",
    "import numpy as np\n",
    "from criticality import pvaluenew2 as pv\n",
    "from criticality import exclude as ex\n",
    "import matplotlib.pyplot as plt\n",
    "import seaborn as sns\n",
    "import os.path as op\n",
    "\n",
    "\n",
    "plt.rcParams['pdf.fonttype'] = 42\n",
    "plt.rcParams.update({'font.family':'Arial'})\n",
    "\n",
    "if platform == 'darwin':\n",
    "    basedir = 'Volumes'\n",
    "else:\n",
    "    basedir = 'media'\n",
    "    \n",
    "pth = f'/{basedir}/HlabShare/james/'\n",
    "\n",
    "savedir = f'/{basedir}/HlabShare/te4_manuscript_james/manuscript_folders/te4_figure_4/'\n",
    "today = datetime.today().strftime('%Y-%m-%d')\n",
    "\n",
    "cmap = \"YlGnBu\"\n",
    "\n"
   ]
  },
  {
   "cell_type": "code",
   "execution_count": 2,
   "id": "35e29185-99e4-489f-82f2-8f9ba80c74c9",
   "metadata": {},
   "outputs": [],
   "source": [
    "SAVEFIGS = 0"
   ]
  },
  {
   "cell_type": "code",
   "execution_count": 3,
   "id": "3b8d3085",
   "metadata": {},
   "outputs": [],
   "source": [
    "# Ages = [393, 371, 354, 280, 269, 242, 167, 134, 112, 96]\n",
    "# #Volumes = [3.76, 2.98, 6.51, 6.60, 5.77, 8.07, 8.29, 8.00, 7.62, 6.30]\n",
    "# #Volumes = [3.76, 2.98, 6.51, 6.60, 5.77, 6.391, 8.29, 8.00, 7.62, 6.30]\n",
    "# #Volumes = [3.76, 2.98, 6.51, 6.60, 5.77, 7.45, 8.29, 8.00, 7.62, 8.28]\n",
    "# Volumes = [3.76, 2.98, 6.51, 6.60, 5.77, 8.07, 8.29, 8.00, 7.62, 8.28]\n",
    "# ATs = [16.8, 'nan', 11.7, 14.3, 19.6, 11.1, 33.4, 33.5, 19.2, 39.7]\n",
    "# perc_wake = [74.507246, 'nan', 64.240741, 74.770833, 58.898148, 51.25, 52.898148, 56.009259, 57.21164, 60.759259]\n",
    "# use_ans = ['caf37','caf62','caf78','caf49','caf52','caf84','caf72','caf48','caf22','caf60']\n",
    "# use_ans_CAPS = np.array(['CAF37','CAF62','CAF78','CAF49','CAF52','CAF84','CAF72','CAF48','CAF22','CAF60'])\n",
    "\n",
    "# Ventricles = [0.910262252, 3.865097316, 2.431031144, 0.092032777, 1.454238588, 1.31902801, 0, 0,  0.160132711, 0]\n",
    "# ATs_james = [51.3195, 80.325, 8.7005, 10.164, 46.095, 1.9035, 8.324, 9.541, 0.604, 1.5315]\n",
    "# ATs_james_threshold_205 = [66.3845, 84.9, 14.783, 16.177, 60.21, 3.5855, 13.2775, 11.0345, 0.9445, 3.2545]\n",
    "\n",
    "\n",
    "Ages = np.array([393, 371, 354, 280, 269, 242, 167, 134, 112, 96])\n",
    "#Volumes = [3.76, 2.98, 6.51, 6.60, 5.77, 8.07, 8.29, 8.00, 7.62, 6.30]\n",
    "#Volumes = [3.76, 2.98, 6.51, 6.60, 5.77, 6.391, 8.29, 8.00, 7.62, 6.30]\n",
    "#Volumes = [3.76, 2.98, 6.51, 6.60, 5.77, 7.45, 8.29, 8.00, 7.62, 8.28]\n",
    "Volumes = np.array([3.76, 2.98, 6.51, 6.60, 5.77, 8.07, 8.29, 8.00, 7.62, 8.28])\n",
    "ATs = np.array([16.8, 'nan', 11.7, 14.3, 19.6, 11.1, 33.4, 33.5, 19.2, 39.7])\n",
    "perc_wake = np.array([74.507246, 'nan', 64.240741, 74.770833, 58.898148, 51.25, 52.898148, 56.009259, 57.21164, 60.759259])\n",
    "use_ans = np.array(['caf37','caf62','caf78','caf49','caf52','caf84','caf72','caf48','caf22','caf60'])\n",
    "use_ans_CAPS = np.array(['CAF37','CAF62','CAF78','CAF49','CAF52','CAF84','CAF72','CAF48','CAF22','CAF60'])\n",
    "\n",
    "Ventricles = np.array([0.910262252, 3.865097316, 2.431031144, 0.092032777, 1.454238588, 1.31902801, 0, 0,  0.160132711, 0])\n",
    "ATs_james = np.array([51.3195, 80.325, 8.7005, 10.164, 46.095, 1.9035, 8.324, 9.541, 0.604, 1.5315])\n",
    "ATs_james_threshold_205 = np.array([66.3845, 84.9, 14.783, 16.177, 60.21, 3.5855, 13.2775, 11.0345, 0.9445, 3.2545])\n",
    "\n",
    "sexes = []\n",
    "sexes = np.array([saw.get_sex(tmpan) for tmpan in use_ans])\n",
    "\n",
    "M_idx = np.where(sexes == 'M')[0]\n",
    "F_idx = np.where(sexes == 'F')[0]\n",
    "\n"
   ]
  },
  {
   "cell_type": "code",
   "execution_count": 4,
   "id": "fe9303af",
   "metadata": {},
   "outputs": [],
   "source": [
    "#dfall = pd.read_pickle(f'/{basedir}/HlabShare/james/indv_param_with_dist8_justca1.pkl').reset_index()\n",
    "#dfall = pd.read_pickle(f'/{basedir}/HlabShare/james/indv_param_with_dist8_justca1_v8.pkl')\n",
    "#dfall = pd.read_pickle(f'/{basedir}/HlabShare/james/indv_param_with_dist8_justca1_v9_fixing_missing_data.pkl')\n",
    "dfall = pd.read_pickle(f'/{basedir}/HlabShare/te4_manuscript_james/indv_param_with_dist8_justca1_v13.pkl')\n",
    "\n",
    "#dfall = pd.read_pickle('/media/HlabShare/clayton_sahara_work/criticality/chpc/indv_param_with_dist6_justca1.pkl')\n",
    "\n",
    "dfall = dfall.drop_duplicates(subset=['animal','probe', 'date', 'time_frame', 'block_num', 'scored'], keep = 'last')\n",
    "\n",
    "df = dfall\n"
   ]
  },
  {
   "cell_type": "code",
   "execution_count": null,
   "id": "f8028103",
   "metadata": {},
   "outputs": [],
   "source": []
  },
  {
   "cell_type": "code",
   "execution_count": 6,
   "id": "a6e11181",
   "metadata": {
    "scrolled": true
   },
   "outputs": [
    {
     "data": {
      "text/html": [
       "<div>\n",
       "<style scoped>\n",
       "    .dataframe tbody tr th:only-of-type {\n",
       "        vertical-align: middle;\n",
       "    }\n",
       "\n",
       "    .dataframe tbody tr th {\n",
       "        vertical-align: top;\n",
       "    }\n",
       "\n",
       "    .dataframe thead th {\n",
       "        text-align: right;\n",
       "    }\n",
       "</style>\n",
       "<table border=\"1\" class=\"dataframe\">\n",
       "  <thead>\n",
       "    <tr style=\"text-align: right;\">\n",
       "      <th></th>\n",
       "      <th>Animal</th>\n",
       "      <th>mean_FR</th>\n",
       "    </tr>\n",
       "  </thead>\n",
       "  <tbody>\n",
       "    <tr>\n",
       "      <th>0</th>\n",
       "      <td>caf100</td>\n",
       "      <td>6.049955</td>\n",
       "    </tr>\n",
       "    <tr>\n",
       "      <th>1</th>\n",
       "      <td>caf101</td>\n",
       "      <td>7.000158</td>\n",
       "    </tr>\n",
       "    <tr>\n",
       "      <th>2</th>\n",
       "      <td>caf102</td>\n",
       "      <td>5.799624</td>\n",
       "    </tr>\n",
       "    <tr>\n",
       "      <th>3</th>\n",
       "      <td>caf103</td>\n",
       "      <td>8.528872</td>\n",
       "    </tr>\n",
       "    <tr>\n",
       "      <th>4</th>\n",
       "      <td>caf104</td>\n",
       "      <td>7.267525</td>\n",
       "    </tr>\n",
       "    <tr>\n",
       "      <th>5</th>\n",
       "      <td>caf107</td>\n",
       "      <td>6.444528</td>\n",
       "    </tr>\n",
       "    <tr>\n",
       "      <th>6</th>\n",
       "      <td>caf108</td>\n",
       "      <td>4.562110</td>\n",
       "    </tr>\n",
       "    <tr>\n",
       "      <th>7</th>\n",
       "      <td>caf109</td>\n",
       "      <td>6.819448</td>\n",
       "    </tr>\n",
       "    <tr>\n",
       "      <th>8</th>\n",
       "      <td>caf22</td>\n",
       "      <td>12.927674</td>\n",
       "    </tr>\n",
       "    <tr>\n",
       "      <th>9</th>\n",
       "      <td>caf26</td>\n",
       "      <td>6.087587</td>\n",
       "    </tr>\n",
       "    <tr>\n",
       "      <th>10</th>\n",
       "      <td>caf34</td>\n",
       "      <td>5.161759</td>\n",
       "    </tr>\n",
       "    <tr>\n",
       "      <th>11</th>\n",
       "      <td>caf37</td>\n",
       "      <td>6.583656</td>\n",
       "    </tr>\n",
       "    <tr>\n",
       "      <th>12</th>\n",
       "      <td>caf40</td>\n",
       "      <td>7.585591</td>\n",
       "    </tr>\n",
       "    <tr>\n",
       "      <th>13</th>\n",
       "      <td>caf42</td>\n",
       "      <td>7.660136</td>\n",
       "    </tr>\n",
       "    <tr>\n",
       "      <th>14</th>\n",
       "      <td>caf49</td>\n",
       "      <td>7.235361</td>\n",
       "    </tr>\n",
       "    <tr>\n",
       "      <th>15</th>\n",
       "      <td>caf50</td>\n",
       "      <td>7.246233</td>\n",
       "    </tr>\n",
       "    <tr>\n",
       "      <th>16</th>\n",
       "      <td>caf52</td>\n",
       "      <td>6.553942</td>\n",
       "    </tr>\n",
       "    <tr>\n",
       "      <th>17</th>\n",
       "      <td>caf61</td>\n",
       "      <td>6.569900</td>\n",
       "    </tr>\n",
       "    <tr>\n",
       "      <th>18</th>\n",
       "      <td>caf62</td>\n",
       "      <td>4.606037</td>\n",
       "    </tr>\n",
       "    <tr>\n",
       "      <th>19</th>\n",
       "      <td>caf72</td>\n",
       "      <td>8.027820</td>\n",
       "    </tr>\n",
       "    <tr>\n",
       "      <th>20</th>\n",
       "      <td>caf77</td>\n",
       "      <td>7.799089</td>\n",
       "    </tr>\n",
       "    <tr>\n",
       "      <th>21</th>\n",
       "      <td>caf78</td>\n",
       "      <td>7.958511</td>\n",
       "    </tr>\n",
       "    <tr>\n",
       "      <th>22</th>\n",
       "      <td>caf79</td>\n",
       "      <td>7.623194</td>\n",
       "    </tr>\n",
       "    <tr>\n",
       "      <th>23</th>\n",
       "      <td>caf82</td>\n",
       "      <td>8.888946</td>\n",
       "    </tr>\n",
       "    <tr>\n",
       "      <th>24</th>\n",
       "      <td>caf84</td>\n",
       "      <td>7.328314</td>\n",
       "    </tr>\n",
       "    <tr>\n",
       "      <th>25</th>\n",
       "      <td>caf88</td>\n",
       "      <td>8.919776</td>\n",
       "    </tr>\n",
       "    <tr>\n",
       "      <th>26</th>\n",
       "      <td>caf89</td>\n",
       "      <td>6.769776</td>\n",
       "    </tr>\n",
       "    <tr>\n",
       "      <th>27</th>\n",
       "      <td>caf90</td>\n",
       "      <td>5.411450</td>\n",
       "    </tr>\n",
       "    <tr>\n",
       "      <th>28</th>\n",
       "      <td>caf92</td>\n",
       "      <td>5.897401</td>\n",
       "    </tr>\n",
       "    <tr>\n",
       "      <th>29</th>\n",
       "      <td>caf94</td>\n",
       "      <td>6.497575</td>\n",
       "    </tr>\n",
       "    <tr>\n",
       "      <th>30</th>\n",
       "      <td>caf95</td>\n",
       "      <td>7.988471</td>\n",
       "    </tr>\n",
       "    <tr>\n",
       "      <th>31</th>\n",
       "      <td>caf97</td>\n",
       "      <td>11.829478</td>\n",
       "    </tr>\n",
       "    <tr>\n",
       "      <th>32</th>\n",
       "      <td>eab40</td>\n",
       "      <td>5.778399</td>\n",
       "    </tr>\n",
       "    <tr>\n",
       "      <th>33</th>\n",
       "      <td>eab47</td>\n",
       "      <td>5.944555</td>\n",
       "    </tr>\n",
       "    <tr>\n",
       "      <th>34</th>\n",
       "      <td>eab50</td>\n",
       "      <td>7.736578</td>\n",
       "    </tr>\n",
       "    <tr>\n",
       "      <th>35</th>\n",
       "      <td>kdr14</td>\n",
       "      <td>5.432149</td>\n",
       "    </tr>\n",
       "    <tr>\n",
       "      <th>36</th>\n",
       "      <td>kdr27</td>\n",
       "      <td>7.336725</td>\n",
       "    </tr>\n",
       "    <tr>\n",
       "      <th>37</th>\n",
       "      <td>kdr36</td>\n",
       "      <td>6.887065</td>\n",
       "    </tr>\n",
       "    <tr>\n",
       "      <th>38</th>\n",
       "      <td>caf48</td>\n",
       "      <td>3.976631</td>\n",
       "    </tr>\n",
       "    <tr>\n",
       "      <th>39</th>\n",
       "      <td>caf60</td>\n",
       "      <td>4.786479</td>\n",
       "    </tr>\n",
       "  </tbody>\n",
       "</table>\n",
       "</div>"
      ],
      "text/plain": [
       "    Animal    mean_FR\n",
       "0   caf100   6.049955\n",
       "1   caf101   7.000158\n",
       "2   caf102   5.799624\n",
       "3   caf103   8.528872\n",
       "4   caf104   7.267525\n",
       "5   caf107   6.444528\n",
       "6   caf108   4.562110\n",
       "7   caf109   6.819448\n",
       "8    caf22  12.927674\n",
       "9    caf26   6.087587\n",
       "10   caf34   5.161759\n",
       "11   caf37   6.583656\n",
       "12   caf40   7.585591\n",
       "13   caf42   7.660136\n",
       "14   caf49   7.235361\n",
       "15   caf50   7.246233\n",
       "16   caf52   6.553942\n",
       "17   caf61   6.569900\n",
       "18   caf62   4.606037\n",
       "19   caf72   8.027820\n",
       "20   caf77   7.799089\n",
       "21   caf78   7.958511\n",
       "22   caf79   7.623194\n",
       "23   caf82   8.888946\n",
       "24   caf84   7.328314\n",
       "25   caf88   8.919776\n",
       "26   caf89   6.769776\n",
       "27   caf90   5.411450\n",
       "28   caf92   5.897401\n",
       "29   caf94   6.497575\n",
       "30   caf95   7.988471\n",
       "31   caf97  11.829478\n",
       "32   eab40   5.778399\n",
       "33   eab47   5.944555\n",
       "34   eab50   7.736578\n",
       "35   kdr14   5.432149\n",
       "36   kdr27   7.336725\n",
       "37   kdr36   6.887065\n",
       "38   caf48   3.976631\n",
       "39   caf60   4.786479"
      ]
     },
     "execution_count": 6,
     "metadata": {},
     "output_type": "execute_result"
    }
   ],
   "source": [
    "df_FRs"
   ]
  },
  {
   "cell_type": "code",
   "execution_count": 5,
   "id": "0e4472d3",
   "metadata": {
    "scrolled": false
   },
   "outputs": [
    {
     "name": "stdout",
     "output_type": "stream",
     "text": [
      "caf37\n",
      "number of blocks (ALL): 143\n",
      "number of blocks (PASSED): 6\n",
      "number of blocks (near crit): 3.4965034965034967\n",
      "caf62\n",
      "number of blocks (ALL): 54\n",
      "number of blocks (PASSED): 1\n",
      "number of blocks (near crit): 1.8518518518518516\n",
      "caf78\n",
      "number of blocks (ALL): 270\n",
      "number of blocks (PASSED): 111\n",
      "number of blocks (near crit): 30.37037037037037\n",
      "caf49\n",
      "number of blocks (ALL): 861\n",
      "number of blocks (PASSED): 558\n",
      "number of blocks (near crit): 64.80836236933798\n",
      "caf52\n",
      "number of blocks (ALL): 408\n",
      "number of blocks (PASSED): 127\n",
      "number of blocks (near crit): 31.127450980392158\n",
      "caf84\n",
      "number of blocks (ALL): 71\n",
      "number of blocks (PASSED): 16\n",
      "number of blocks (near crit): 19.718309859154928\n",
      "caf72\n",
      "number of blocks (ALL): 542\n",
      "number of blocks (PASSED): 465\n",
      "number of blocks (near crit): 82.65682656826569\n",
      "caf48\n",
      "number of blocks (ALL): 422\n",
      "number of blocks (PASSED): 236\n",
      "number of blocks (near crit): 55.21327014218009\n",
      "caf22\n",
      "number of blocks (ALL): 472\n",
      "number of blocks (PASSED): 342\n",
      "number of blocks (near crit): 72.03389830508475\n",
      "caf60\n",
      "number of blocks (ALL): 255\n",
      "number of blocks (PASSED): 201\n",
      "number of blocks (near crit): 76.07843137254902\n"
     ]
    }
   ],
   "source": [
    "df_FRs = pd.read_pickle(f'/{basedir}/HlabShare/james/DF_meanFRs_all.pkl')\n",
    "df_CVs = pd.read_pickle(f'/{basedir}/HlabShare/james/DF_meanCVs_all.pkl')\n",
    "df_corr_entrs = pd.read_pickle(f'/{basedir}/HlabShare/james/df_corr_entr_all.pkl')\n",
    "\n",
    "Animals = ['caf37', 'caf62', 'caf78', 'caf49', 'caf52', 'caf84', 'caf72', 'caf48', 'caf22', 'caf60']\n",
    "#Ages = [393, 371, 354, 280, 269, 242, 167, 134, 112, 96]\n",
    "#Volumes = [3.76, 2.98, 6.51, 6.60, 5.77, 8.07, 8.29, 8.00, 7.62, 6.30]\n",
    "#AT8s = [16.7975, 61.3665, 11.69, 14.3025, 19.6255, 11.138, 33.384, 33.4825, 19.175, 39.7445]\n",
    "\n",
    "DCCs_all = []\n",
    "DCCs_end = []\n",
    "DCCs_all_passed = []\n",
    "DCCs_end_passed = []\n",
    "perc_passed = []\n",
    "mean_FR = []\n",
    "mean_CV = []\n",
    "mean_correlation = []\n",
    "entropy = []\n",
    "nearcrit_alldata = []\n",
    "nearcrit = []\n",
    "\n",
    "DAYS_PRIOR = 30\n",
    "\n",
    "for a in Animals:\n",
    "    print(a)\n",
    "    tmpdf = []\n",
    "    tmpdf = df[df.animal == a]\n",
    "    tmpdf = tmpdf.sort_values(by = 'age_days')\n",
    "    print('number of blocks (ALL): ' + str(len(tmpdf)))\n",
    "    print('number of blocks (PASSED): ' + str(len(tmpdf[tmpdf.passed == True])))\n",
    "    print('number of blocks (near crit): ' + str(len(tmpdf[(tmpdf.passed == True) & (tmpdf.dcc <= .3)])/len(tmpdf)*100))\n",
    "    \n",
    "    nearcrit_alldata.append(len(tmpdf[(tmpdf.passed == True) & (tmpdf.dcc < .3)])/len(tmpdf)*100)\n",
    "    nearcrit.append(len(tmpdf[(tmpdf.age_days >= tmpdf.age_days.max()-DAYS_PRIOR) & (tmpdf.passed == True) & (tmpdf.dcc < .3)])/len(tmpdf[((tmpdf.age_days > tmpdf.age_days.max()-DAYS_PRIOR))])*100)\n",
    "    \n",
    "    perc_passed.append(len(tmpdf[tmpdf.passed == True])/len(tmpdf)*100)\n",
    "    DCCs_all.append(np.mean(tmpdf.dcc))\n",
    "    DCCs_all_passed.append(np.mean(tmpdf[tmpdf.passed == True].dcc))\n",
    "    DCCs_end.append(np.mean(tmpdf.iloc[(len(tmpdf) - 24*1) : len(tmpdf)].dcc))\n",
    "    tmptmpdf = []\n",
    "    tmptmpdf = tmpdf[tmpdf.passed == True]\n",
    "    DCCs_end_passed.append(np.mean(tmptmpdf.iloc[(len(tmptmpdf) - 12*1) : len(tmptmpdf)].dcc))\n",
    "    \n",
    "    mean_FR.append(df_FRs[df_FRs.Animal == a].mean_FR.to_numpy()[0])\n",
    "    mean_CV.append(df_CVs[df_CVs.Animal == a].mean_CV.to_numpy()[0])\n",
    "    mean_correlation.append(df_corr_entrs[df_corr_entrs.Animal == a].mean_correlation.to_numpy()[0])\n",
    "    entropy.append(df_corr_entrs[df_corr_entrs.Animal == a].entropy.to_numpy()[0])\n",
    "    \n",
    "\n",
    "DCCs_all = np.array(DCCs_all)\n",
    "DCCs_end = np.array(DCCs_end)\n",
    "DCCs_all_passed = np.array(DCCs_all_passed)\n",
    "DCCs_end_passed = np.array(DCCs_end_passed)\n",
    "perc_passed = np.array(perc_passed)\n",
    "mean_FR = np.array(mean_FR)\n",
    "mean_CV = np.array(mean_CV)\n",
    "mean_correlation = np.array(mean_correlation)\n",
    "entropy = np.array(entropy)\n",
    "nearcrit = np.array(nearcrit)\n",
    "nearcrit_alldata = np.array(nearcrit_alldata)\n",
    "\n",
    "\n"
   ]
  },
  {
   "cell_type": "code",
   "execution_count": 67,
   "id": "bc98e644",
   "metadata": {},
   "outputs": [
    {
     "data": {
      "image/png": "[encoded data removed]",
      "text/plain": [
       "<Figure size 158.4x144 with 1 Axes>"
      ]
     },
     "metadata": {
      "needs_background": "light"
     },
     "output_type": "display_data"
    }
   ],
   "source": [
    "plt.figure(1, figsize = [2.2,2])\n",
    "\n",
    "plt.scatter(Ages, Volumes, s = 50, color = sns.xkcd_rgb['saffron'])\n",
    "slope, intercept, r_value, p_value, std_err = scipy.stats.linregress(Ages, Volumes)\n",
    "fitxs = np.arange(90,420,1)\n",
    "fitys = slope*fitxs + intercept\n",
    "plt.plot(fitxs, fitys, color = 'grey', linestyle = '--', linewidth=2.5)\n",
    "plt.text(300, 8, 'r$^2$ = ' + str(round(r_value**2,3)), fontsize=9)\n",
    "plt.text(300, 7.4, 'p = ' + str(round(p_value,3)), fontsize=9)\n",
    "#plt.ylim([0,9])\n",
    "plt.xticks(fontsize = 8)\n",
    "plt.yticks(fontsize = 8)\n",
    "plt.xlabel('Age (days)', fontsize = 9)\n",
    "plt.ylabel('Hippocampal vol. (mm$^3$)', fontsize = 9)\n",
    "\n",
    "sns.despine()\n",
    "\n",
    "if SAVEFIGS:\n",
    "    plt.savefig(f'/{basedir}/HlabShare/te4_manuscript_james/manuscript_folders/te4_figure_4/{today}_HippVolume_vs_Age.pdf', bbox_inches = \"tight\")\n",
    "    \n"
   ]
  },
  {
   "cell_type": "code",
   "execution_count": 36,
   "id": "fa77c6ad",
   "metadata": {},
   "outputs": [
    {
     "data": {
      "image/png": "[encoded data removed]",
      "text/plain": [
       "<Figure size 158.4x144 with 1 Axes>"
      ]
     },
     "metadata": {
      "needs_background": "light"
     },
     "output_type": "display_data"
    }
   ],
   "source": [
    "plt.figure(1, figsize = [2.2,2])\n",
    "\n",
    "plt.scatter(Ages, Ventricles, s = 50, color = sns.xkcd_rgb['saffron'])\n",
    "slope, intercept, r_value, p_value, std_err = scipy.stats.linregress(Ages, Ventricles)\n",
    "fitxs = np.arange(90,420,1)\n",
    "fitys = slope*fitxs + intercept\n",
    "plt.plot(fitxs, fitys, color = 'grey', linestyle = '--', linewidth=2.5)\n",
    "plt.text(100,3.6, 'r$^2$ = ' + str(round(r_value**2,3)), fontsize=9)\n",
    "plt.text(100, 3.1, 'p = ' + str(round(p_value,3)), fontsize=9)\n",
    "#plt.ylim([0,4.2])\n",
    "plt.xticks(fontsize = 8)\n",
    "plt.yticks(fontsize = 8)\n",
    "plt.xlabel('Age (days)', fontsize = 9)\n",
    "plt.ylabel('Ventricular vol. (mm$^3$)', fontsize = 9)\n",
    "\n",
    "sns.despine()\n",
    "\n",
    "if SAVEFIGS:\n",
    "    plt.savefig(f'/{basedir}/HlabShare/te4_manuscript_james/manuscript_folders/te4_figure_4/{today}_VentricularVolume_vs_Age.pdf', bbox_inches = \"tight\")\n",
    "    \n",
    "    "
   ]
  },
  {
   "cell_type": "code",
   "execution_count": 37,
   "id": "0874a1fd",
   "metadata": {},
   "outputs": [
    {
     "data": {
      "image/png": "[encoded data removed]",
      "text/plain": [
       "<Figure size 158.4x144 with 1 Axes>"
      ]
     },
     "metadata": {
      "needs_background": "light"
     },
     "output_type": "display_data"
    }
   ],
   "source": [
    "plt.figure(1, figsize = [2.2,2])\n",
    "\n",
    "plt.scatter(Ages, ATs_james, s = 50, color = sns.xkcd_rgb['saffron'])\n",
    "slope, intercept, r_value, p_value, std_err = scipy.stats.linregress(Ages, ATs_james)\n",
    "fitxs = np.arange(90,420,1)\n",
    "fitys = slope*fitxs + intercept\n",
    "plt.plot(fitxs, fitys, color = 'grey', linestyle = '--', linewidth=2.5)\n",
    "plt.text(100, 60, 'r$^2$ = ' + str(round(r_value**2,3)), fontsize=9)\n",
    "plt.text(100, 51, 'p = ' + str(round(p_value,3)), fontsize=9)\n",
    "plt.xticks(fontsize = 8)\n",
    "plt.yticks(fontsize = 8)\n",
    "plt.xlabel('Age (days)', fontsize = 9)\n",
    "plt.ylabel('AT8 coverage (%)', fontsize = 9)\n",
    "\n",
    "sns.despine()\n",
    "\n",
    "if SAVEFIGS:\n",
    "    plt.savefig(f'/{basedir}/HlabShare/te4_manuscript_james/manuscript_folders/te4_figure_4/{today}_AT8_vs_Age.pdf', bbox_inches = \"tight\")\n",
    "    \n",
    "    "
   ]
  },
  {
   "cell_type": "markdown",
   "id": "1dbcdcf7",
   "metadata": {},
   "source": [
    "# Mean FR and CV vs Histology:"
   ]
  },
  {
   "cell_type": "code",
   "execution_count": 38,
   "id": "d451a716",
   "metadata": {},
   "outputs": [
    {
     "data": {
      "text/plain": [
       "array([3.76, 2.98, 6.51, 6.6 , 5.77, 8.07, 8.29, 8.  , 7.62, 8.28])"
      ]
     },
     "execution_count": 38,
     "metadata": {},
     "output_type": "execute_result"
    }
   ],
   "source": [
    "Volumes"
   ]
  },
  {
   "cell_type": "code",
   "execution_count": 39,
   "id": "8c5f5a39",
   "metadata": {},
   "outputs": [
    {
     "data": {
      "text/plain": [
       "['caf37',\n",
       " 'caf62',\n",
       " 'caf78',\n",
       " 'caf49',\n",
       " 'caf52',\n",
       " 'caf84',\n",
       " 'caf72',\n",
       " 'caf48',\n",
       " 'caf22',\n",
       " 'caf60']"
      ]
     },
     "execution_count": 39,
     "metadata": {},
     "output_type": "execute_result"
    }
   ],
   "source": [
    "Animals"
   ]
  },
  {
   "cell_type": "code",
   "execution_count": 40,
   "id": "13bd1332",
   "metadata": {},
   "outputs": [
    {
     "name": "stderr",
     "output_type": "stream",
     "text": [
      "findfont: Font family ['Arial'] not found. Falling back to DejaVu Sans.\n"
     ]
    },
    {
     "name": "stdout",
     "output_type": "stream",
     "text": [
      "FR vs Hipp Volume p = 0.5022517759271182\n",
      "CV vs Hipp Volume p = 0.17408698794636748\n"
     ]
    },
    {
     "data": {
      "image/png": "[encoded data removed]",
      "text/plain": [
       "<Figure size 158.4x144 with 2 Axes>"
      ]
     },
     "metadata": {
      "needs_background": "light"
     },
     "output_type": "display_data"
    }
   ],
   "source": [
    "fig, ax1 = plt.subplots(figsize = [2.2,2])\n",
    "ax2 = ax1.twinx()\n",
    "\n",
    "ax1.scatter(Volumes[M_idx], mean_FR[M_idx], s = 25, marker='s', color = sns.xkcd_rgb['sea green'])\n",
    "ax2.scatter(Volumes[M_idx], mean_CV[M_idx], s = 25, marker='s', color = sns.xkcd_rgb['indigo'])\n",
    "\n",
    "ax1.scatter(Volumes[F_idx], mean_FR[F_idx], s = 25, marker='o', color = sns.xkcd_rgb['sea green'])\n",
    "ax2.scatter(Volumes[F_idx], mean_CV[F_idx], s = 25, marker='o', color = sns.xkcd_rgb['indigo'])\n",
    "\n",
    "slope, intercept, r_value, p_value, std_err = scipy.stats.linregress(Volumes, mean_FR)\n",
    "print(f'FR vs Hipp Volume p = {p_value}')\n",
    "slope, intercept, r_value, p_value, std_err = scipy.stats.linregress(Volumes, mean_CV)\n",
    "print(f'CV vs Hipp Volume p = {p_value}')\n",
    "\n",
    "plt.xlim([1,10])\n",
    "plt.xticks(fontsize = 8)\n",
    "plt.yticks(fontsize = 8)\n",
    "ax1.set_xlabel('Hippocampal vol. (mm$^3$)', fontsize = 9)\n",
    "ax1.set_ylabel('Mean Firing Rate (Hz)', fontsize = 9)\n",
    "ax2.set_ylabel('Mean C.V.', fontsize = 9)\n",
    "\n",
    "plt.text(2,2.1,'n.s.', color=sns.xkcd_rgb['sea green'])\n",
    "plt.text(2,2,'n.s.', color=sns.xkcd_rgb['indigo'])\n",
    "\n",
    "sns.despine(top=True, right=False)\n",
    "\n",
    "if SAVEFIGS:\n",
    "    plt.savefig(f'/{basedir}/HlabShare/te4_manuscript_james/manuscript_folders/UPDATED_Fig6_figures/{today}_FR_and_CV_vs_HippVol.pdf', bbox_inches = \"tight\")\n",
    "    \n",
    "    "
   ]
  },
  {
   "cell_type": "code",
   "execution_count": 41,
   "id": "c35f2fe1",
   "metadata": {},
   "outputs": [
    {
     "name": "stdout",
     "output_type": "stream",
     "text": [
      "FR vs Ventricular Volume p = 0.5379769874716338\n",
      "CV vs Ventricular Volume p = 0.15434165989261964\n"
     ]
    },
    {
     "data": {
      "image/png": "[encoded data removed]",
      "text/plain": [
       "<Figure size 158.4x144 with 2 Axes>"
      ]
     },
     "metadata": {
      "needs_background": "light"
     },
     "output_type": "display_data"
    }
   ],
   "source": [
    "fig, ax1 = plt.subplots(figsize = [2.2,2])\n",
    "ax2 = ax1.twinx()\n",
    "\n",
    "ax1.scatter(Ventricles[M_idx], mean_FR[M_idx], s = 25, marker='s', color = sns.xkcd_rgb['sea green'])\n",
    "ax2.scatter(Ventricles[M_idx], mean_CV[M_idx], s = 25, marker='s', color = sns.xkcd_rgb['indigo'])\n",
    "\n",
    "ax1.scatter(Ventricles[F_idx], mean_FR[F_idx], s = 25, marker='o', color = sns.xkcd_rgb['sea green'])\n",
    "ax2.scatter(Ventricles[F_idx], mean_CV[F_idx], s = 25, marker='o', color = sns.xkcd_rgb['indigo'])\n",
    "\n",
    "slope, intercept, r_value, p_value, std_err = scipy.stats.linregress(Ventricles, mean_FR)\n",
    "print(f'FR vs Ventricular Volume p = {p_value}')\n",
    "slope, intercept, r_value, p_value, std_err = scipy.stats.linregress(Ventricles, mean_CV)\n",
    "print(f'CV vs Ventricular Volume p = {p_value}')\n",
    "\n",
    "plt.xlim([-.3,4.3])\n",
    "plt.xticks(fontsize = 8)\n",
    "plt.yticks(fontsize = 8)\n",
    "ax1.set_xlabel('Ventricular vol. (mm$^3$)', fontsize = 9)\n",
    "ax1.set_ylabel('Mean Firing Rate (Hz)', fontsize = 9)\n",
    "ax2.set_ylabel('Mean C.V.', fontsize = 9)\n",
    "\n",
    "plt.text(3,2.1,'n.s.', color=sns.xkcd_rgb['sea green'])\n",
    "plt.text(3,2,'n.s.', color=sns.xkcd_rgb['indigo'])\n",
    "\n",
    "sns.despine(top=True, right=False)\n",
    "\n",
    "if SAVEFIGS:\n",
    "    plt.savefig(f'/{basedir}/HlabShare/te4_manuscript_james/manuscript_folders/UPDATED_Fig6_figures/{today}_FR_and_CV_vs_VentrVol.pdf', bbox_inches = \"tight\")\n",
    "    "
   ]
  },
  {
   "cell_type": "code",
   "execution_count": 46,
   "id": "9e8b67e6",
   "metadata": {},
   "outputs": [
    {
     "name": "stdout",
     "output_type": "stream",
     "text": [
      "FR vs AT8% p = 0.26680805731757856\n",
      "CV vs AT8% p = 0.17561950979869173\n"
     ]
    },
    {
     "data": {
      "image/png": "[encoded data removed]",
      "text/plain": [
       "<Figure size 158.4x144 with 2 Axes>"
      ]
     },
     "metadata": {
      "needs_background": "light"
     },
     "output_type": "display_data"
    }
   ],
   "source": [
    "fig, ax1 = plt.subplots(figsize = [2.2,2])\n",
    "ax2 = ax1.twinx()\n",
    "\n",
    "ax1.scatter(ATs_james[M_idx], mean_FR[M_idx], s = 25, marker='s', color = sns.xkcd_rgb['sea green'])\n",
    "ax2.scatter(ATs_james[M_idx], mean_CV[M_idx], s = 25, marker='s', color = sns.xkcd_rgb['indigo'])\n",
    "\n",
    "ax1.scatter(ATs_james[F_idx], mean_FR[F_idx], s = 25, marker='o', color = sns.xkcd_rgb['sea green'])\n",
    "ax2.scatter(ATs_james[F_idx], mean_CV[F_idx], s = 25, marker='o', color = sns.xkcd_rgb['indigo'])\n",
    "\n",
    "slope, intercept, r_value, p_value, std_err = scipy.stats.linregress(ATs_james, mean_FR)\n",
    "print(f'FR vs AT8% p = {p_value}')\n",
    "slope, intercept, r_value, p_value, std_err = scipy.stats.linregress(ATs_james, mean_CV)\n",
    "print(f'CV vs AT8% p = {p_value}')\n",
    "\n",
    "plt.xlim([-3,100])\n",
    "plt.xticks(fontsize = 8)\n",
    "plt.yticks(fontsize = 8)\n",
    "ax1.set_xlabel('AT8 coverage (%)', fontsize = 9)\n",
    "ax1.set_ylabel('Mean Firing Rate (Hz)', fontsize = 9)\n",
    "ax2.set_ylabel('Mean C.V.', fontsize = 9)\n",
    "\n",
    "plt.text(70,2.1,'n.s.', color=sns.xkcd_rgb['sea green'])\n",
    "plt.text(70,2,'n.s.', color=sns.xkcd_rgb['indigo'])\n",
    "\n",
    "sns.despine(top=True, right=False)\n",
    "\n",
    "if SAVEFIGS:\n",
    "    plt.savefig(f'/{basedir}/HlabShare/te4_manuscript_james/manuscript_folders/UPDATED_Fig6_figures/{today}_FR_and_CV_vs_AT8.pdf', bbox_inches = \"tight\")\n",
    "    "
   ]
  },
  {
   "cell_type": "code",
   "execution_count": 49,
   "id": "dff57ed0",
   "metadata": {},
   "outputs": [],
   "source": [
    "SAVEFIGS = 0"
   ]
  },
  {
   "cell_type": "code",
   "execution_count": null,
   "id": "7fefb6bd",
   "metadata": {},
   "outputs": [],
   "source": []
  },
  {
   "cell_type": "markdown",
   "id": "c5b083bd",
   "metadata": {},
   "source": [
    "# DCC vs Histology, using percent passed blocks:"
   ]
  },
  {
   "cell_type": "code",
   "execution_count": 85,
   "id": "4c302a0c",
   "metadata": {},
   "outputs": [
    {
     "data": {
      "image/png": "[encoded data removed]",
      "text/plain": [
       "<Figure size 158.4x144 with 1 Axes>"
      ]
     },
     "metadata": {
      "needs_background": "light"
     },
     "output_type": "display_data"
    },
    {
     "data": {
      "image/png": "[encoded data removed]",
      "text/plain": [
       "<Figure size 158.4x144 with 1 Axes>"
      ]
     },
     "metadata": {
      "needs_background": "light"
     },
     "output_type": "display_data"
    }
   ],
   "source": [
    "plt.figure(1, figsize = [2.2,2])\n",
    "\n",
    "DCC_measure = perc_passed\n",
    "\n",
    "plt.scatter(DCC_measure[M_idx], Volumes[M_idx], s = 50, marker='s', color = sns.xkcd_rgb['saffron'])\n",
    "plt.scatter(DCC_measure[F_idx], Volumes[F_idx], s = 50, marker='o', color = sns.xkcd_rgb['saffron'])\n",
    "\n",
    "slope, intercept, r_value, p_value, std_err = scipy.stats.linregress(DCC_measure, Volumes)\n",
    "fitxs = np.arange(0, 100,.05)\n",
    "fitys = slope*fitxs + intercept\n",
    "plt.plot(fitxs, fitys, color = 'grey', linestyle = '--', linewidth=2.5)\n",
    "#plt.text(10, 6, 'n.s.', color = sns.xkcd_rgb['saffron'], fontsize=10)\n",
    "plt.text(65, 4.8, 'r$^2$ = ' + str(round(r_value**2,3)), fontsize=9)\n",
    "plt.text(65, 4.3, 'p = ' + str(round(p_value,3)), fontsize=9)\n",
    "plt.xlim([0,100])\n",
    "plt.xticks(fontsize = 8)\n",
    "plt.yticks(fontsize = 8)\n",
    "plt.xlabel('% blocks that pass pval test', fontsize = 9)\n",
    "plt.ylabel('Hippocampal vol. (mm$^3$)', fontsize = 9)\n",
    "\n",
    "sns.despine()\n",
    "\n",
    "plt.figure(2, figsize = [2.2,2])\n",
    "\n",
    "DCC_measure = nearcrit\n",
    "\n",
    "plt.scatter(DCC_measure[M_idx], Volumes[M_idx], s = 50, marker='s', color = sns.xkcd_rgb['saffron'])\n",
    "plt.scatter(DCC_measure[F_idx], Volumes[F_idx], s = 50, marker='o', color = sns.xkcd_rgb['saffron'])\n",
    "\n",
    "slope, intercept, r_value, p_value, std_err = scipy.stats.linregress(DCC_measure, Volumes)\n",
    "fitxs = np.arange(0, 100,.05)\n",
    "fitys = slope*fitxs + intercept\n",
    "plt.plot(fitxs, fitys, color = 'grey', linestyle = '--', linewidth=2.5)\n",
    "#plt.text(10, 6, 'n.s.', color = sns.xkcd_rgb['saffron'], fontsize=10)\n",
    "plt.text(65, 4.8, 'r$^2$ = ' + str(round(r_value**2,3)), fontsize=9)\n",
    "plt.text(65, 4.3, 'p = ' + str(round(p_value,3)), fontsize=9)\n",
    "plt.xlim([0,100])\n",
    "plt.xticks(fontsize = 8)\n",
    "plt.yticks(fontsize = 8)\n",
    "plt.xlabel('% blocks that are near-critical', fontsize = 9)\n",
    "plt.ylabel('Hippocampal vol. (mm$^3$)', fontsize = 9)\n",
    "\n",
    "sns.despine()\n",
    "\n",
    "if SAVEFIGS:\n",
    "    plt.savefig(f'/{basedir}/HlabShare/te4_manuscript_james/manuscript_folders/UPDATED_Fig6_figures/{today}_percpassed_vs_HippVol.pdf', bbox_inches = \"tight\")\n",
    "    "
   ]
  },
  {
   "cell_type": "code",
   "execution_count": 86,
   "id": "db938087",
   "metadata": {},
   "outputs": [
    {
     "data": {
      "image/png": "[encoded data removed]",
      "text/plain": [
       "<Figure size 158.4x144 with 1 Axes>"
      ]
     },
     "metadata": {
      "needs_background": "light"
     },
     "output_type": "display_data"
    },
    {
     "data": {
      "image/png": "[encoded data removed]",
      "text/plain": [
       "<Figure size 158.4x144 with 1 Axes>"
      ]
     },
     "metadata": {
      "needs_background": "light"
     },
     "output_type": "display_data"
    }
   ],
   "source": [
    "plt.figure(1, figsize = [2.2,2])\n",
    "\n",
    "DCC_measure = perc_passed\n",
    "\n",
    "plt.scatter(DCC_measure[M_idx], Ventricles[M_idx], s = 50, marker='s', color = sns.xkcd_rgb['saffron'])\n",
    "plt.scatter(DCC_measure[F_idx], Ventricles[F_idx], s = 50, marker='o', color = sns.xkcd_rgb['saffron'])\n",
    "\n",
    "slope, intercept, r_value, p_value, std_err = scipy.stats.linregress(DCC_measure, Ventricles)\n",
    "fitxs = np.arange(0, 100,.05)\n",
    "fitys = slope*fitxs + intercept\n",
    "plt.plot(fitxs, fitys, color = 'grey', linestyle = '--', linewidth=2.5)\n",
    "#plt.text(10, 6, 'n.s.', color = sns.xkcd_rgb['saffron'], fontsize=10)\n",
    "plt.text(55, 3.5, 'r$^2$ = ' + str(round(r_value**2,3)), fontsize=9)\n",
    "plt.text(55, 3, 'p = ' + str(round(p_value,3)), fontsize=9)\n",
    "plt.xlim([0,100])\n",
    "plt.xticks(fontsize = 8)\n",
    "plt.yticks(fontsize = 8)\n",
    "plt.xlabel('% blocks that pass pval test', fontsize = 9)\n",
    "plt.ylabel('Ventricular vol. (mm$^3$)', fontsize = 9)\n",
    "\n",
    "sns.despine()\n",
    "\n",
    "if SAVEFIGS:\n",
    "    plt.savefig(f'/{basedir}/HlabShare/te4_manuscript_james/manuscript_folders/UPDATED_Fig6_figures/{today}_percpassed_vs_VentrVol.pdf', bbox_inches = \"tight\")\n",
    "    \n",
    "    \n",
    "plt.figure(2, figsize = [2.2,2])\n",
    "\n",
    "DCC_measure = nearcrit\n",
    "\n",
    "plt.scatter(DCC_measure[M_idx], Ventricles[M_idx], s = 50, marker='s', color = sns.xkcd_rgb['saffron'])\n",
    "plt.scatter(DCC_measure[F_idx], Ventricles[F_idx], s = 50, marker='o', color = sns.xkcd_rgb['saffron'])\n",
    "\n",
    "slope, intercept, r_value, p_value, std_err = scipy.stats.linregress(DCC_measure, Ventricles)\n",
    "fitxs = np.arange(0, 100,.05)\n",
    "fitys = slope*fitxs + intercept\n",
    "plt.plot(fitxs, fitys, color = 'grey', linestyle = '--', linewidth=2.5)\n",
    "#plt.text(10, 6, 'n.s.', color = sns.xkcd_rgb['saffron'], fontsize=10)\n",
    "plt.text(55, 3.5, 'r$^2$ = ' + str(round(r_value**2,3)), fontsize=9)\n",
    "plt.text(55, 3, 'p = ' + str(round(p_value,3)), fontsize=9)\n",
    "plt.xlim([0,100])\n",
    "plt.xticks(fontsize = 8)\n",
    "plt.yticks(fontsize = 8)\n",
    "plt.xlabel('% blocks that are near-critical', fontsize = 9)\n",
    "plt.ylabel('Ventricular vol. (mm$^3$)', fontsize = 9)\n",
    "\n",
    "sns.despine()\n",
    "\n",
    "if SAVEFIGS:\n",
    "    plt.savefig(f'/{basedir}/HlabShare/te4_manuscript_james/manuscript_folders/UPDATED_Fig6_figures/{today}_percpassed_vs_VentrVol.pdf', bbox_inches = \"tight\")\n",
    "    \n",
    "    "
   ]
  },
  {
   "cell_type": "code",
   "execution_count": 87,
   "id": "1ad50047",
   "metadata": {},
   "outputs": [
    {
     "data": {
      "image/png": "[encoded data removed]",
      "text/plain": [
       "<Figure size 158.4x144 with 1 Axes>"
      ]
     },
     "metadata": {
      "needs_background": "light"
     },
     "output_type": "display_data"
    },
    {
     "data": {
      "image/png": "[encoded data removed]",
      "text/plain": [
       "<Figure size 158.4x144 with 1 Axes>"
      ]
     },
     "metadata": {
      "needs_background": "light"
     },
     "output_type": "display_data"
    }
   ],
   "source": [
    "plt.figure(1, figsize = [2.2,2])\n",
    "\n",
    "DCC_measure = perc_passed\n",
    "\n",
    "plt.scatter(DCC_measure[M_idx], ATs_james[M_idx], s = 50, marker='s', color = sns.xkcd_rgb['saffron'])\n",
    "plt.scatter(DCC_measure[F_idx], ATs_james[F_idx], s = 50, color = sns.xkcd_rgb['saffron'])\n",
    "\n",
    "slope, intercept, r_value, p_value, std_err = scipy.stats.linregress(DCC_measure, ATs_james)\n",
    "fitxs = np.arange(0, 100,.05)\n",
    "fitys = slope*fitxs + intercept\n",
    "plt.plot(fitxs, fitys, color = 'grey', linestyle = '--', linewidth=2.5)\n",
    "#plt.text(10, 6, 'n.s.', color = sns.xkcd_rgb['saffron'], fontsize=10)\n",
    "plt.text(55, 55, 'r$^2$ = ' + str(round(r_value**2,3)), fontsize=9)\n",
    "plt.text(55, 45, 'p = ' + str(round(p_value,3)), fontsize=9)\n",
    "plt.xlim([0,100])\n",
    "plt.xticks(fontsize = 8)\n",
    "plt.yticks(fontsize = 8)\n",
    "plt.xlabel('% blocks that pass pval test', fontsize = 9)\n",
    "plt.ylabel('AT8 coverage (%)', fontsize = 9)\n",
    "\n",
    "sns.despine()\n",
    "\n",
    "if SAVEFIGS:\n",
    "    plt.savefig(f'/{basedir}/HlabShare/te4_manuscript_james/manuscript_folders/UPDATED_Fig6_figures/{today}_percpassed_vs_AT8.pdf', bbox_inches = \"tight\")\n",
    "    \n",
    "plt.figure(2, figsize = [2.2,2])\n",
    "DCC_measure = nearcrit\n",
    "\n",
    "plt.scatter(DCC_measure[M_idx], ATs_james[M_idx], s = 50, marker='s', color = sns.xkcd_rgb['saffron'])\n",
    "plt.scatter(DCC_measure[F_idx], ATs_james[F_idx], s = 50, marker='o', color = sns.xkcd_rgb['saffron'])\n",
    "\n",
    "slope, intercept, r_value, p_value, std_err = scipy.stats.linregress(DCC_measure, ATs_james)\n",
    "fitxs = np.arange(0, 100,.05)\n",
    "fitys = slope*fitxs + intercept\n",
    "plt.plot(fitxs, fitys, color = 'grey', linestyle = '--', linewidth=2.5)\n",
    "#plt.text(10, 6, 'n.s.', color = sns.xkcd_rgb['saffron'], fontsize=10)\n",
    "plt.text(55, 55, 'r$^2$ = ' + str(round(r_value**2,3)), fontsize=9)\n",
    "plt.text(55, 45, 'p = ' + str(round(p_value,3)), fontsize=9)\n",
    "plt.xlim([0,100])\n",
    "plt.xticks(fontsize = 8)\n",
    "plt.yticks(fontsize = 8)\n",
    "plt.xlabel('% blocks that are near-critical', fontsize = 9)\n",
    "plt.ylabel('AT8 coverage (%)', fontsize = 9)\n",
    "\n",
    "sns.despine()\n",
    "\n",
    "if SAVEFIGS:\n",
    "    plt.savefig(f'/{basedir}/HlabShare/te4_manuscript_james/manuscript_folders/UPDATED_Fig6_figures/{today}_percpassed_vs_AT8.pdf', bbox_inches = \"tight\")\n",
    "    \n",
    "    "
   ]
  },
  {
   "cell_type": "code",
   "execution_count": 75,
   "id": "f8bfb99c",
   "metadata": {},
   "outputs": [],
   "source": [
    "SAVEFIGS = 0"
   ]
  },
  {
   "cell_type": "markdown",
   "id": "fd117ec2",
   "metadata": {},
   "source": [
    "# DCC vs Histology:"
   ]
  },
  {
   "cell_type": "code",
   "execution_count": 40,
   "id": "15244568",
   "metadata": {},
   "outputs": [
    {
     "name": "stderr",
     "output_type": "stream",
     "text": [
      "findfont: Font family ['Arial'] not found. Falling back to DejaVu Sans.\n",
      "findfont: Font family ['Arial'] not found. Falling back to DejaVu Sans.\n"
     ]
    },
    {
     "data": {
      "image/png": "[encoded data removed]",
      "text/plain": [
       "<Figure size 180x144 with 1 Axes>"
      ]
     },
     "metadata": {
      "needs_background": "light"
     },
     "output_type": "display_data"
    }
   ],
   "source": [
    "plt.figure(1, figsize = [2.5,2])\n",
    "\n",
    "DCC_measure = DCCs_end\n",
    "\n",
    "plt.scatter(DCC_measure, Volumes, s = 50, color = sns.xkcd_rgb['saffron'])\n",
    "slope, intercept, r_value, p_value, std_err = scipy.stats.linregress(DCC_measure, Volumes)\n",
    "fitxs = np.arange(0, .6,.05)\n",
    "fitys = slope*fitxs + intercept\n",
    "plt.plot(fitxs, fitys, color = 'grey', linestyle = '--', linewidth=2.5)\n",
    "#plt.text(10, 6, 'n.s.', color = sns.xkcd_rgb['saffron'], fontsize=10)\n",
    "plt.text(.3, 7.8, 'R$^2$ = ' + str(round(r_value**2,3)), fontsize=10)\n",
    "plt.text(.3, 7.3, 'p = ' + str(round(p_value,3)), fontsize=10)\n",
    "plt.xticks(fontsize = 10)\n",
    "plt.yticks(fontsize = 10)\n",
    "plt.xlabel('Mean DCC', fontsize = 11)\n",
    "plt.ylabel('Hippocampal vol. (mm$^3$)', fontsize = 11)\n",
    "\n",
    "sns.despine()\n",
    "\n",
    "#plt.savefig('/media/HlabShare/james/HippVol_vs_DCC_END.pdf')  \n"
   ]
  },
  {
   "cell_type": "code",
   "execution_count": 73,
   "id": "17d874a7",
   "metadata": {},
   "outputs": [
    {
     "data": {
      "image/png": "[encoded data removed]",
      "text/plain": [
       "<Figure size 180x144 with 1 Axes>"
      ]
     },
     "metadata": {
      "needs_background": "light"
     },
     "output_type": "display_data"
    }
   ],
   "source": [
    "plt.figure(1, figsize = [2.5,2])\n",
    "\n",
    "plt.scatter(DCC_measure, Ventricles, s = 50, color = sns.xkcd_rgb['saffron'])\n",
    "slope, intercept, r_value, p_value, std_err = scipy.stats.linregress(DCC_measure, Ventricles)\n",
    "fitxs = np.arange(0, .7,.05)\n",
    "fitys = slope*fitxs + intercept\n",
    "plt.plot(fitxs, fitys, color = 'grey', linestyle = '--', linewidth=2.5)\n",
    "#plt.text(10, 6, 'n.s.', color = sns.xkcd_rgb['saffron'], fontsize=10)\n",
    "plt.text(.4, .8, 'R$^2$ = ' + str(round(r_value**2,3)), fontsize=10)\n",
    "plt.text(.4, .3, 'p = ' + str(round(p_value,3)), fontsize=10)\n",
    "plt.xticks(fontsize = 10)\n",
    "plt.yticks(fontsize = 10)\n",
    "plt.xlabel('Mean DCC', fontsize = 11)\n",
    "plt.ylabel('Ventricular vol. (mm$^3$)', fontsize = 11)\n",
    "\n",
    "sns.despine()\n",
    "\n",
    "#plt.savefig('/media/HlabShare/james/VentricularVol_vs_DCC_END.pdf')  \n"
   ]
  },
  {
   "cell_type": "code",
   "execution_count": 74,
   "id": "62a09aea",
   "metadata": {},
   "outputs": [
    {
     "data": {
      "image/png": "[encoded data removed]",
      "text/plain": [
       "<Figure size 180x144 with 1 Axes>"
      ]
     },
     "metadata": {
      "needs_background": "light"
     },
     "output_type": "display_data"
    }
   ],
   "source": [
    "plt.figure(1, figsize = [2.5,2])\n",
    "\n",
    "plt.scatter(DCC_measure, ATs_james, s = 50, color = sns.xkcd_rgb['saffron'])\n",
    "slope, intercept, r_value, p_value, std_err = scipy.stats.linregress(DCC_measure, ATs_james)\n",
    "fitxs = np.arange(0, .7,.05)\n",
    "fitys = slope*fitxs + intercept\n",
    "plt.plot(fitxs, fitys, color = 'grey', linestyle = '--', linewidth=2.5)\n",
    "#plt.text(10, 6, 'n.s.', color = sns.xkcd_rgb['saffron'], fontsize=10)\n",
    "plt.text(.4, 32, 'R$^2$ = ' + str(round(r_value**2,3)), fontsize=10)\n",
    "plt.text(.4, 24, 'p = ' + str(round(p_value,3)), fontsize=10)\n",
    "plt.xticks(fontsize = 10)\n",
    "plt.yticks(fontsize = 10)\n",
    "plt.xlabel('Mean DCC', fontsize = 11)\n",
    "plt.ylabel('AT8 coverage (%)', fontsize = 11)\n",
    "\n",
    "sns.despine()\n",
    "\n",
    "#plt.savefig('/media/HlabShare/james/AT8_vs_DCC_END.pdf')  \n"
   ]
  },
  {
   "cell_type": "code",
   "execution_count": 42,
   "id": "ccf67ed8",
   "metadata": {},
   "outputs": [
    {
     "data": {
      "image/png": "[encoded data removed]",
      "text/plain": [
       "<Figure size 180x144 with 1 Axes>"
      ]
     },
     "metadata": {
      "needs_background": "light"
     },
     "output_type": "display_data"
    }
   ],
   "source": [
    "plt.figure(1, figsize = [2.5,2])\n",
    "\n",
    "plt.scatter(DCC_measure, ATs_james_threshold_205, s = 50, color = sns.xkcd_rgb['saffron'])\n",
    "slope, intercept, r_value, p_value, std_err = scipy.stats.linregress(DCC_measure, ATs_james_threshold_205)\n",
    "fitxs = np.arange(0, .7,.05)\n",
    "fitys = slope*fitxs + intercept\n",
    "plt.plot(fitxs, fitys, color = 'grey', linestyle = '--', linewidth=2.5)\n",
    "#plt.text(10, 6, 'n.s.', color = sns.xkcd_rgb['saffron'], fontsize=10)\n",
    "plt.text(.4, 32, 'R$^2$ = ' + str(round(r_value**2,3)), fontsize=10)\n",
    "plt.text(.4, 24, 'p = ' + str(round(p_value,3)), fontsize=10)\n",
    "plt.xticks(fontsize = 10)\n",
    "plt.yticks(fontsize = 10)\n",
    "plt.xlabel('Mean DCC', fontsize = 11)\n",
    "plt.ylabel('AT8 coverage (%)', fontsize = 11)\n",
    "\n",
    "sns.despine()\n",
    "\n",
    "#plt.savefig('/media/HlabShare/james/AT8_vs_DCC_END.pdf')  \n"
   ]
  },
  {
   "cell_type": "code",
   "execution_count": null,
   "id": "fd1b629a",
   "metadata": {},
   "outputs": [],
   "source": []
  },
  {
   "cell_type": "markdown",
   "id": "2c47a1a1",
   "metadata": {},
   "source": [
    "# DCC and nearcrit vs sleep/wake regplots, using ML scored data:"
   ]
  },
  {
   "cell_type": "code",
   "execution_count": 6,
   "id": "d38996ab",
   "metadata": {},
   "outputs": [
    {
     "name": "stderr",
     "output_type": "stream",
     "text": [
      "/hlabhome/wg-mjames/.conda/envs/james_test/lib/python3.8/site-packages/numpy/core/_methods.py:265: RuntimeWarning: Degrees of freedom <= 0 for slice\n",
      "  ret = _var(a, axis=axis, dtype=dtype, out=out, ddof=ddof,\n",
      "/hlabhome/wg-mjames/.conda/envs/james_test/lib/python3.8/site-packages/numpy/core/_methods.py:257: RuntimeWarning: invalid value encountered in double_scalars\n",
      "  ret = ret.dtype.type(ret / rcount)\n",
      "findfont: Font family ['Arial'] not found. Falling back to DejaVu Sans.\n",
      "findfont: Font family ['Arial'] not found. Falling back to DejaVu Sans.\n"
     ]
    },
    {
     "data": {
      "image/png": "[encoded data removed]",
      "text/plain": [
       "<Figure size 144x144 with 1 Axes>"
      ]
     },
     "metadata": {
      "needs_background": "light"
     },
     "output_type": "display_data"
    }
   ],
   "source": [
    "#figa, axa = plt.subplots(ncols = 1, nrows = 2, figsize = [3,3])\n",
    "\n",
    "dcc_df = []\n",
    "dcc_df = df\n",
    "dcc_df = dcc_df.sort_values(by='age_days')\n",
    "\n",
    "bins = np.arange(50,530,7)\n",
    "dcc_df['bin'] = pd.cut(dcc_df['age_days'], bins)\n",
    "\n",
    "wtpassed = []\n",
    "te4passed = []\n",
    "  \n",
    "wt_means_passed = []\n",
    "wt_sems_passed = []\n",
    "te4_means_passed = []\n",
    "te4_sems_passed = []\n",
    "\n",
    "for a in np.arange(0,len(bins)-1):\n",
    "    tmpdf = []\n",
    "    tmpdf = dcc_df[dcc_df.age_days > bins[a]]\n",
    "    tmpdf = tmpdf[tmpdf.age_days < bins[a+1]]\n",
    "    \n",
    "    tmpwt = []\n",
    "    tmpte4 = []\n",
    "    \n",
    "    tmpwt = tmpdf[tmpdf.geno != 'te4']\n",
    "    tmpte4 = tmpdf[tmpdf.geno == 'te4']\n",
    "    \n",
    "    wt_an_bin = []\n",
    "    if len(tmpwt) > 0:\n",
    "        for b in tmpwt.animal.unique():\n",
    "            tmpanimalwt = []\n",
    "            tmpanimalwt = tmpwt[tmpwt.animal == b]\n",
    "            wt_an_bin.append(len(tmpanimalwt[(tmpanimalwt.passed == True) & (tmpanimalwt.dcc < .3)])/len(tmpanimalwt))\n",
    "    if len(wt_an_bin) > 0:\n",
    "        wt_means_passed.append(np.mean(wt_an_bin))\n",
    "        wt_sems_passed.append(scipy.stats.sem(wt_an_bin))\n",
    "    else:\n",
    "        wt_means_passed.append(np.nan)\n",
    "        wt_sems_passed.append(scipy.stats.sem(np.nan))\n",
    "        \n",
    "    te4_an_bin = []\n",
    "    if len(tmpte4) > 0:\n",
    "        for b in tmpte4.animal.unique():\n",
    "            tmpanimalte4 = []\n",
    "            tmpanimalte4 = tmpte4[tmpte4.animal == b]\n",
    "            te4_an_bin.append(len(tmpanimalte4[(tmpanimalte4.passed == True) & (tmpanimalte4.dcc < .3)])/len(tmpanimalte4))\n",
    "    if len(te4_an_bin) > 0:\n",
    "        te4_means_passed.append(np.mean(te4_an_bin))\n",
    "        te4_sems_passed.append(scipy.stats.sem(te4_an_bin))\n",
    "    else:\n",
    "        te4_means_passed.append(np.nan)\n",
    "        te4_sems_passed.append(scipy.stats.sem(np.nan))\n",
    "            \n",
    "    if len(tmpwt) > 0:\n",
    "        wtpassed.append(len(tmpwt[(tmpwt.passed == True) & (tmpwt.dcc < .3)])/len(tmpwt))\n",
    "    else:\n",
    "        wtpassed.append(np.nan)\n",
    "    if len(tmpte4) > 0:\n",
    "        te4passed.append(len(tmpte4[(tmpte4.passed == True) & (tmpte4.dcc < .3)])/len(tmpte4))\n",
    "    else:\n",
    "        te4passed.append(np.nan)\n",
    "\n",
    "fig, ax = plt.subplots(ncols = 1, nrows = 1, figsize = [2,2])\n",
    "\n",
    "ax.scatter(bins[:-1], wtpassed, s=7, color=sns.xkcd_rgb['gunmetal'], alpha = 0.5, edgecolor = [])\n",
    "ax.scatter(bins[:-1], te4passed, s=7, color=sns.xkcd_rgb['saffron'], alpha = 0.5, edgecolor = [])\n",
    "\n",
    "tmpdata = {\n",
    "  \"Xs\": bins[:-1],\n",
    "  \"wtpassed\": wtpassed,\n",
    "    \"te4passed\": te4passed,\n",
    "}\n",
    "\n",
    "#load data into a DataFrame object:\n",
    "testdf = pd.DataFrame(tmpdata)\n",
    "testdf['te4passed'] = testdf['te4passed']*100\n",
    "testdf['wtpassed'] = testdf['wtpassed']*100\n",
    "\n",
    "sns.regplot(data = testdf, x = bins[:-1], y = wtpassed, order = 2, color = sns.xkcd_rgb['gunmetal'], scatter=False)\n",
    "sns.regplot(data = testdf, x = bins[:-1], y = te4passed, order = 2, color = sns.xkcd_rgb['saffron'], scatter=False)\n",
    "\n",
    "plt.xlabel('Age (days)', fontsize=9)\n",
    "plt.ylabel('% blocks near-critical', fontsize=9)\n",
    "plt.yticks(fontsize=8)\n",
    "plt.xticks(fontsize=8)\n",
    "\n",
    "sns.despine()\n",
    "\n",
    "if SAVEFIGS:\n",
    "    plt.savefig(f'/{basedir}/HlabShare/te4_manuscript_james/manuscript_folders/UPDATED_Fig6_figures/{today}_percentnearcritical.pdf')\n",
    "    "
   ]
  },
  {
   "cell_type": "code",
   "execution_count": 89,
   "id": "4cb13e6e",
   "metadata": {},
   "outputs": [],
   "source": [
    "te4_timewake = pd.read_pickle('/media/HlabShare/james_work/filtered_timewake_te4_v0.pkl')\n",
    "te4_timewake['%Wake'] = te4_timewake['Time']*100\n",
    "te4_timewake['%Sleep'] = 100 - te4_timewake['%Wake']\n",
    "\n",
    "wt_timewake = pd.read_pickle('/media/HlabShare/james_work/filtered_timewake_wte4_v0.pkl')\n",
    "wt_timewake['%Wake'] = wt_timewake['Time']*100\n",
    "wt_timewake['%Sleep'] = 100 - wt_timewake['%Wake']\n",
    "\n"
   ]
  },
  {
   "cell_type": "code",
   "execution_count": 8,
   "id": "b3bd58ea",
   "metadata": {},
   "outputs": [
    {
     "name": "stderr",
     "output_type": "stream",
     "text": [
      "findfont: Font family ['Arial'] not found. Falling back to DejaVu Sans.\n"
     ]
    },
    {
     "name": "stdout",
     "output_type": "stream",
     "text": [
      "y = 4.41e-06*x**2 + -0.00102*x + 0.15851\n",
      "Inflection point of DCC data: 115\n",
      "y = 0.00047852*x**2 + -0.14181*x + 66.34691\n",
      "Inflection point of DCC data: 148\n"
     ]
    },
    {
     "data": {
      "image/png": "[encoded data removed]",
      "text/plain": [
       "<Figure size 144x144 with 2 Axes>"
      ]
     },
     "metadata": {},
     "output_type": "display_data"
    }
   ],
   "source": [
    "plot_wt = 1 #1 to plot wt data, 0 to skip plotting wt\n",
    "\n",
    "dcc_df_te4 = []\n",
    "dcc_df_te4 = df[df['geno'] == 'te4']\n",
    "dcc_df_te4 = dcc_df_te4[dcc_df_te4.dcc < 1]\n",
    "dcc_df_wt = []\n",
    "dcc_df_wt = df[df['geno'] != 'te4']\n",
    "dcc_df_wt = dcc_df_wt[dcc_df_wt.dcc < 1]\n",
    "\n",
    "fig, ax1 = plt.subplots(figsize = [2,2])\n",
    "ax2 = ax1.twinx()\n",
    "\n",
    "g = sns.regplot(x = 'age_days', y= 'dcc', data = df[df['geno'] == 'te4'], order=2, color = sns.xkcd_rgb['greenish blue'], label='TE4', scatter=False, ax=ax1)\n",
    "g2 = sns.regplot(x = 'Age', y= '%Wake', data = te4_timewake, order=2, color = sns.xkcd_rgb['lilac'], label='TE4', scatter=False, ax=ax2)\n",
    "#g3 = sns.regplot(x = 'age_days', y= 'dcc', data = df[df['geno'] != 'te4'], order=1, color = sns.xkcd_rgb['gunmetal'], scatter=False, ax=ax1)\n",
    "\n",
    "deg = 2\n",
    "my_fitting = np.polyfit(dcc_df_te4['age_days'], dcc_df_te4['dcc'], deg, full=True)\n",
    "x = np.linspace(0,500, 500)\n",
    "y = my_fitting[0][0]*x**2 + my_fitting[0][1]*x +my_fitting[0][2]\n",
    "dy = np.diff(y) # first derivative\n",
    "dcc_infl = np.min(np.where(dy > 0))\n",
    "print(f'y = {round(my_fitting[0][0], 8)}*x**2 + {round(my_fitting[0][1], 5)}*x + {round(my_fitting[0][2], 5)}')\n",
    "print(f'Inflection point of DCC data: {dcc_infl}')\n",
    "my_fitting = np.polyfit(te4_timewake['Age'], te4_timewake['%Wake'], deg, full=True)\n",
    "x = np.linspace(0,500, 500)\n",
    "y = my_fitting[0][0]*x**2 + my_fitting[0][1]*x +my_fitting[0][2]\n",
    "dy = np.diff(y) # first derivative\n",
    "timewake_infl = np.min(np.where(dy > 0))\n",
    "print(f'y = {round(my_fitting[0][0], 8)}*x**2 + {round(my_fitting[0][1], 5)}*x + {round(my_fitting[0][2], 5)}')\n",
    "print(f'Inflection point of DCC data: {timewake_infl}')\n",
    "ax1.vlines(dcc_infl, 0.0, 0.5, linestyle='--', color=sns.xkcd_rgb['greenish blue'])\n",
    "ax2.vlines(timewake_infl, 45, 90, linestyle='--', color=sns.xkcd_rgb['lilac'])\n",
    "\n",
    "plt.xlim([30,410])\n",
    "plt.xticks(fontsize = 8)\n",
    "plt.yticks(fontsize = 8)\n",
    "ax1.set_xlabel('Age (days)', fontsize = 9)\n",
    "ax1.set_ylabel('DCC', fontsize = 9, color=sns.xkcd_rgb['greenish blue'])\n",
    "ax1.set_yticks(np.arange(0,.52,.05),np.around(np.arange(0,.52,.05),3),color=sns.xkcd_rgb['greenish blue'], fontsize = 8)\n",
    "ax2.set_ylabel('% of Day Spent Awake', fontsize = 9, color=sns.xkcd_rgb['lilac'])\n",
    "ax2.set_yticks(np.arange(45,92,5),np.around(np.arange(45,92,5),1),color=sns.xkcd_rgb['lilac'], fontsize = 8)\n",
    "\n",
    "if plot_wt == 1:\n",
    "    my_fitting = np.polyfit(dcc_df_wt['age_days'], dcc_df_wt['dcc'], 1, full=True)\n",
    "    x = np.linspace(40,400,500)\n",
    "    y = my_fitting[0][0]*x + my_fitting[0][1]\n",
    "    ax1.plot(x, y, color='grey', linestyle='-')\n",
    "\n",
    "sns.despine(top=True, right=False)\n",
    "\n",
    "plt.title('DCC and time spent awake in TE4 mice', fontsize=9)\n",
    "SAVEFIGS = 0\n",
    "if SAVEFIGS:\n",
    "    if plot_wt == 1:\n",
    "        plt.savefig(f'/{basedir}/HlabShare/te4_manuscript_james/manuscript_folders/UPDATED_Fig6_figures/{today}_TimeAwake_vs_DCC_overlay_MLoutput_plusWT.pdf')\n",
    "    elif plot_wt == 0:\n",
    "        plt.savefig(f'/{basedir}/HlabShare/te4_manuscript_james/manuscript_folders/UPDATED_Fig6_figures/{today}_TimeAwake_vs_DCC_overlay_MLoutput.pdf')\n",
    "    \n"
   ]
  },
  {
   "cell_type": "code",
   "execution_count": null,
   "id": "d44a2b0b",
   "metadata": {},
   "outputs": [],
   "source": []
  },
  {
   "cell_type": "code",
   "execution_count": 131,
   "id": "2cf4dfeb",
   "metadata": {},
   "outputs": [
    {
     "name": "stdout",
     "output_type": "stream",
     "text": [
      "y = -0.00056*x**2 + 0.03371*x + 73.35599\n",
      "inflection point for near crit data: 30\n",
      "\n",
      "y = -0.00048*x**2 + 0.14181*x + 33.65309\n",
      "inflection point for timesleep data: 148\n"
     ]
    },
    {
     "data": {
      "image/png": "[encoded data removed]",
      "text/plain": [
       "<Figure size 144x144 with 2 Axes>"
      ]
     },
     "metadata": {},
     "output_type": "display_data"
    }
   ],
   "source": [
    "plot_wt = 1 #1 to plot wt data, 0 to skip plotting wt\n",
    "\n",
    "fig, ax1 = plt.subplots(figsize = [2,2])\n",
    "ax2 = ax1.twinx()\n",
    "\n",
    "sns.regplot(data = testdf, x = bins[:-1], y = 'te4passed', order = 2, color = sns.xkcd_rgb['saffron'], scatter=False, ax=ax1)\n",
    "sns.regplot(x = 'Age', y= '%Sleep', data = te4_timewake, order=2, color = sns.xkcd_rgb['lilac'], label='TE4', scatter=False, ax=ax2)\n",
    "\n",
    "deg = 2\n",
    "mask = ~np.isnan(testdf['te4passed'])\n",
    "bins_masked = bins[:-1][mask]\n",
    "te4passed_masked = np.array(testdf['te4passed'])[mask]\n",
    "my_fitting = np.polyfit(bins_masked, te4passed_masked, deg, full=True)\n",
    "x = np.linspace(0, 500, 500)\n",
    "y = my_fitting[0][0]*x**2 + my_fitting[0][1]*x + my_fitting[0][2]\n",
    "dy = np.diff(y)\n",
    "nearcrit_infl = np.min(np.where(dy < 0)[0])\n",
    "print(f'y = {round(my_fitting[0][0], 5)}*x**2 + {round(my_fitting[0][1], 5)}*x + {round(my_fitting[0][2], 5)}')\n",
    "print(f'inflection point for near crit data: {nearcrit_infl}')\n",
    "print('')\n",
    "deg = 2\n",
    "my_fitting = np.polyfit(te4_timewake['Age'], te4_timewake['%Sleep'], deg, full=True)\n",
    "x = np.linspace(0, 500, 500)\n",
    "y = my_fitting[0][0]*x**2 + my_fitting[0][1]*x + my_fitting[0][2]\n",
    "dy = np.diff(y)\n",
    "timesleep_infl = np.min(np.where(dy < 0)[0])\n",
    "print(f'y = {round(my_fitting[0][0], 5)}*x**2 + {round(my_fitting[0][1], 5)}*x + {round(my_fitting[0][2], 5)}')\n",
    "print(f'inflection point for timesleep data: {timesleep_infl}')\n",
    "\n",
    "ax1.vlines(50, 0, 80, linestyle='--', color=sns.xkcd_rgb['saffron'])\n",
    "ax2.vlines(timesleep_infl, 15, 65, linestyle='--', color=sns.xkcd_rgb['lilac'])\n",
    "\n",
    "plt.xlim([30,410])\n",
    "plt.xticks(fontsize = 8)\n",
    "plt.yticks(fontsize = 9)\n",
    "ax1.set_xlabel('Age (days)', fontsize = 9)\n",
    "ax1.set_ylabel('% blocks near-critical', fontsize = 9, color=sns.xkcd_rgb['saffron'])\n",
    "ax1.set_yticks(np.arange(0,90,10),np.around(np.arange(0,90,10),3),color=sns.xkcd_rgb['saffron'])\n",
    "ax2.set_ylabel('% of Day Spent Asleep', fontsize = 9, color=sns.xkcd_rgb['lilac'])\n",
    "ax2.set_yticks(np.arange(20,70,10),np.around(np.arange(20,70,10),1),color=sns.xkcd_rgb['lilac'])\n",
    "\n",
    "if plot_wt == 1:\n",
    "    mask = ~np.isnan(testdf['wtpassed'])\n",
    "    bins_masked = bins[:-1][mask]\n",
    "    wtpassed_masked = np.array(testdf['wtpassed'])[mask]\n",
    "    my_fitting = np.polyfit(bins_masked, wtpassed_masked, 1, full=True)\n",
    "    x = np.linspace(40,400,500)\n",
    "    y = my_fitting[0][0]*x+ my_fitting[0][1]\n",
    "    ax1.plot(x, y, color='grey', linestyle='-')\n",
    "\n",
    "sns.despine(top=True, right=False)\n",
    "\n",
    "#plt.title('DCC and time spent awake in TE4 mice', fontsize=12)\n",
    "SAVEFIGS=0\n",
    "if SAVEFIGS:\n",
    "    if plot_wt == 1:\n",
    "        plt.savefig(f'/{basedir}/HlabShare/te4_manuscript_james/manuscript_folders/UPDATED_Fig6_figures/{today}_TimeAwake_vs_nearcrit_overlay_plusWT.pdf')\n",
    "    elif plot_wt == 0:\n",
    "        plt.savefig(f'/{basedir}/HlabShare/te4_manuscript_james/manuscript_folders/UPDATED_Fig6_figures/{today}_TimeAwake_vs_nearcrit_overlay.pdf')\n",
    "        \n",
    "    "
   ]
  },
  {
   "cell_type": "code",
   "execution_count": 133,
   "id": "bfd88aae",
   "metadata": {},
   "outputs": [
    {
     "data": {
      "text/plain": [
       "54"
      ]
     },
     "execution_count": 133,
     "metadata": {},
     "output_type": "execute_result"
    }
   ],
   "source": [
    "te4_timewake['Age'].min()"
   ]
  },
  {
   "cell_type": "markdown",
   "id": "9016e0e2",
   "metadata": {},
   "source": [
    "# Lagged cross-correlation:"
   ]
  },
  {
   "cell_type": "markdown",
   "id": "49b04fab",
   "metadata": {},
   "source": [
    "# DCC vs time wake:"
   ]
  },
  {
   "cell_type": "code",
   "execution_count": 130,
   "id": "e717dc66",
   "metadata": {},
   "outputs": [
    {
     "name": "stdout",
     "output_type": "stream",
     "text": [
      "Max cross-correlation at a lag of 3680\n"
     ]
    },
    {
     "data": {
      "text/plain": [
       "[<matplotlib.lines.Line2D at 0x7f2034393130>]"
      ]
     },
     "execution_count": 130,
     "metadata": {},
     "output_type": "execute_result"
    },
    {
     "data": {
      "image/png": "[encoded data removed]",
      "text/plain": [
       "<Figure size 432x288 with 1 Axes>"
      ]
     },
     "metadata": {
      "needs_background": "light"
     },
     "output_type": "display_data"
    }
   ],
   "source": [
    "from scipy import signal\n",
    "\n",
    "# Assume you have two datasets x1, y1 and x2, y2\n",
    "x1 = dcc_df_te4['age_days']\n",
    "y1 = dcc_df_te4['dcc']\n",
    "x2 = te4_timewake['Age']\n",
    "y2 =  te4_timewake['%Wake']\n",
    "\n",
    "# Fit polynomials\n",
    "deg = 2  # degree of polynomial for linear fit\n",
    "p1 = np.polyfit(x1, y1, deg)\n",
    "p2 = np.polyfit(x2, y2, deg)\n",
    "y1_fit = np.polyval(p1, x1)\n",
    "y2_fit = np.polyval(p2, x2)\n",
    "\n",
    "# Calculate cross-correlation\n",
    "xcorr = signal.correlate(y1_fit, y2_fit)\n",
    "lags = signal.correlation_lags(len(y1_fit), len(y2_fit))\n",
    "# Find the lag with maximum cross-correlation\n",
    "lag_max_corr = lags[np.argmax(xcorr)]\n",
    "print(f\"Max cross-correlation at a lag of {lag_max_corr}\")\n",
    "\n",
    "plt.plot(lags, xcorr)\n"
   ]
  },
  {
   "cell_type": "markdown",
   "id": "015b783a",
   "metadata": {},
   "source": [
    "# Near crit vs time sleep:"
   ]
  },
  {
   "cell_type": "code",
   "execution_count": 125,
   "id": "eb58a32c",
   "metadata": {},
   "outputs": [
    {
     "name": "stdout",
     "output_type": "stream",
     "text": [
      "Max cross-correlation at a lag of -189\n"
     ]
    },
    {
     "data": {
      "text/plain": [
       "[<matplotlib.lines.Line2D at 0x7f20582002b0>]"
      ]
     },
     "execution_count": 125,
     "metadata": {},
     "output_type": "execute_result"
    },
    {
     "data": {
      "image/png": "[encoded data removed]",
      "text/plain": [
       "<Figure size 432x288 with 1 Axes>"
      ]
     },
     "metadata": {
      "needs_background": "light"
     },
     "output_type": "display_data"
    }
   ],
   "source": [
    "from scipy import signal\n",
    "\n",
    "mask = ~np.isnan(testdf['te4passed'])\n",
    "bins_masked = bins[:-1][mask]\n",
    "te4passed_masked = np.array(testdf['te4passed'])[mask]\n",
    "\n",
    "# Assume you have two datasets x1, y1 and x2, y2\n",
    "x1 = bins_masked\n",
    "y1 = te4passed_masked\n",
    "x2 = te4_timewake['Age']\n",
    "y2 =  te4_timewake['%Sleep']\n",
    "\n",
    "# Fit polynomials\n",
    "deg = 1  # degree of polynomial for linear fit\n",
    "p1 = np.polyfit(x1, y1, deg)\n",
    "p2 = np.polyfit(x2, y2, deg)\n",
    "y1_fit = np.polyval(p1, x1)\n",
    "y2_fit = np.polyval(p2, x2)\n",
    "sns.regplot(x=x1, y=y1)\n",
    "sns.regplot(x=x2, y=y2)\n",
    "\n",
    "# Calculate cross-correlation\n",
    "xcorr = signal.correlate(y1_fit, y2_fit)\n",
    "lags = signal.correlation_lags(len(y1_fit), len(y2_fit))\n",
    "# Find the lag with maximum cross-correlation\n",
    "lag_max_corr = lags[np.argmax(xcorr)]\n",
    "print(f\"Max cross-correlation at a lag of {lag_max_corr}\")\n",
    "\n",
    "plt.plot(lags, xcorr)\n"
   ]
  },
  {
   "cell_type": "code",
   "execution_count": null,
   "id": "9cb0554f",
   "metadata": {},
   "outputs": [],
   "source": [
    "deg = 2\n",
    "mask = ~np.isnan(testdf['te4passed'])\n",
    "bins_masked = bins[:-1][mask]\n",
    "te4passed_masked = np.array(testdf['te4passed'])[mask]\n",
    "my_fitting = np.polyfit(bins_masked, te4passed_masked, deg, full=True)\n",
    "x = np.linspace(0, 500, 500)\n",
    "y = my_fitting[0][0]*x**2 + my_fitting[0][1]*x + my_fitting[0][2]\n",
    "dy = np.diff(y)\n",
    "nearcrit_infl = np.min(np.where(dy < 0)[0])\n",
    "print(f'y = {round(my_fitting[0][0], 5)}*x**2 + {round(my_fitting[0][1], 5)}*x + {round(my_fitting[0][2], 5)}')\n",
    "print(f'inflection point for near crit data: {nearcrit_infl}')\n",
    "print('')\n",
    "deg = 2\n",
    "my_fitting = np.polyfit(te4_timewake['Age'], te4_timewake['%Sleep'], deg, full=True)\n",
    "x = np.linspace(0, 500, 500)\n",
    "y = my_fitting[0][0]*x**2 + my_fitting[0][1]*x + my_fitting[0][2]\n",
    "dy = np.diff(y)\n",
    "timesleep_infl = np.min(np.where(dy < 0)[0])\n",
    "print(f'y = {round(my_fitting[0][0], 5)}*x**2 + {round(my_fitting[0][1], 5)}*x + {round(my_fitting[0][2], 5)}')\n",
    "print(f'inflection point for timesleep data: {timesleep_infl}')"
   ]
  },
  {
   "cell_type": "code",
   "execution_count": null,
   "id": "e009e606",
   "metadata": {},
   "outputs": [],
   "source": []
  },
  {
   "cell_type": "code",
   "execution_count": null,
   "id": "02d5a07b",
   "metadata": {},
   "outputs": [],
   "source": []
  },
  {
   "cell_type": "code",
   "execution_count": null,
   "id": "f7cb2c86",
   "metadata": {},
   "outputs": [],
   "source": []
  },
  {
   "cell_type": "code",
   "execution_count": null,
   "id": "9c012ebf",
   "metadata": {},
   "outputs": [],
   "source": []
  },
  {
   "cell_type": "code",
   "execution_count": null,
   "id": "19f59695",
   "metadata": {},
   "outputs": [],
   "source": []
  },
  {
   "cell_type": "code",
   "execution_count": null,
   "id": "d52a8ae5",
   "metadata": {},
   "outputs": [],
   "source": []
  },
  {
   "cell_type": "code",
   "execution_count": null,
   "id": "501ba4a2",
   "metadata": {},
   "outputs": [],
   "source": []
  },
  {
   "cell_type": "code",
   "execution_count": null,
   "id": "59bd6f8a",
   "metadata": {},
   "outputs": [],
   "source": []
  },
  {
   "cell_type": "code",
   "execution_count": null,
   "id": "50458d40",
   "metadata": {},
   "outputs": [],
   "source": []
  },
  {
   "cell_type": "code",
   "execution_count": null,
   "id": "f1f0a710",
   "metadata": {},
   "outputs": [],
   "source": []
  },
  {
   "cell_type": "code",
   "execution_count": null,
   "id": "7d8321c4",
   "metadata": {},
   "outputs": [],
   "source": []
  },
  {
   "cell_type": "markdown",
   "id": "5b3749a5",
   "metadata": {},
   "source": [
    "# DCC vs sleep/wake, using manually scored data:"
   ]
  },
  {
   "cell_type": "code",
   "execution_count": 6,
   "id": "d2b484ce",
   "metadata": {},
   "outputs": [],
   "source": [
    "SW = pd.read_pickle(f'/{basedir}/HlabShare/te4_manuscript_james/manuscript_folders/te4_figure_5/Sleep_Wake_df.pkl')\n"
   ]
  },
  {
   "cell_type": "code",
   "execution_count": 7,
   "id": "351767fa",
   "metadata": {},
   "outputs": [
    {
     "name": "stderr",
     "output_type": "stream",
     "text": [
      "findfont: Font family ['Arial'] not found. Falling back to DejaVu Sans.\n",
      "findfont: Font family ['Arial'] not found. Falling back to DejaVu Sans.\n",
      "findfont: Font family ['Arial'] not found. Falling back to DejaVu Sans.\n"
     ]
    },
    {
     "data": {
      "image/png": "[encoded data removed]",
      "text/plain": [
       "<Figure size 216x216 with 2 Axes>"
      ]
     },
     "metadata": {},
     "output_type": "display_data"
    }
   ],
   "source": [
    "fig, ax1 = plt.subplots(figsize = [3,3])\n",
    "ax2 = ax1.twinx()\n",
    "\n",
    "g = sns.regplot(x = 'age_days', y= 'dcc', data = df[df['geno'] == 'te4'], order=2, color = sns.xkcd_rgb['greenish blue'], label='TE4', scatter=False, ax=ax1)\n",
    "g2 = sns.regplot(x = 'Age', y= '%Wake', data = SW[SW['Genotype'] == 'TE4'], order=2, color = sns.xkcd_rgb['lilac'], label='TE4', scatter=False, ax=ax2)\n",
    "\n",
    "plt.xlim([30,400])\n",
    "plt.xticks(fontsize = 11)\n",
    "plt.yticks(fontsize = 11)\n",
    "ax1.set_xlabel('Age (days)', fontsize = 12)\n",
    "ax1.set_ylabel('DCC', fontsize = 12, color=sns.xkcd_rgb['greenish blue'])\n",
    "ax1.set_yticks(np.arange(0,.52,.05),np.around(np.arange(0,.52,.05),3),color=sns.xkcd_rgb['greenish blue'])\n",
    "ax2.set_ylabel('% of Day Spent Awake', fontsize = 12, color=sns.xkcd_rgb['lilac'])\n",
    "ax2.set_yticks(np.arange(45,82,5),np.around(np.arange(45,82,5),1),color=sns.xkcd_rgb['lilac'])\n",
    "\n",
    "#plt.text(3,2.1,'n.s.', color=sns.xkcd_rgb['sea green'])\n",
    "#plt.text(3,2,'n.s.', color=sns.xkcd_rgb['indigo'])\n",
    "\n",
    "sns.despine(top=True, right=False)\n",
    "\n",
    "plt.title('DCC and time spent awake in TE4 mice', fontsize=12)\n",
    "\n",
    "if SAVEFIGS:\n",
    "    plt.savefig(f'/{basedir}/HlabShare/te4_manuscript_james/manuscript_folders/UPDATED_Fig6_figures/{today}_TimeAwake_vs_DCC_overlay.pdf')\n",
    "    \n"
   ]
  },
  {
   "cell_type": "markdown",
   "id": "7db2cc1b",
   "metadata": {},
   "source": [
    "# Near-critical vs sleep/wake:"
   ]
  },
  {
   "cell_type": "code",
   "execution_count": 141,
   "id": "d0af0603",
   "metadata": {},
   "outputs": [
    {
     "name": "stderr",
     "output_type": "stream",
     "text": [
      "/hlabhome/wg-mjames/.conda/envs/james_test/lib/python3.8/site-packages/numpy/core/_methods.py:265: RuntimeWarning: Degrees of freedom <= 0 for slice\n",
      "  ret = _var(a, axis=axis, dtype=dtype, out=out, ddof=ddof,\n",
      "/hlabhome/wg-mjames/.conda/envs/james_test/lib/python3.8/site-packages/numpy/core/_methods.py:257: RuntimeWarning: invalid value encountered in double_scalars\n",
      "  ret = ret.dtype.type(ret / rcount)\n"
     ]
    },
    {
     "data": {
      "image/png": "[encoded data removed]",
      "text/plain": [
       "<Figure size 144x144 with 1 Axes>"
      ]
     },
     "metadata": {
      "needs_background": "light"
     },
     "output_type": "display_data"
    }
   ],
   "source": [
    "#figa, axa = plt.subplots(ncols = 1, nrows = 2, figsize = [3,3])\n",
    "\n",
    "dcc_df = []\n",
    "dcc_df = df\n",
    "dcc_df = dcc_df.sort_values(by='age_days')\n",
    "\n",
    "bins = np.arange(50,530,7)\n",
    "dcc_df['bin'] = pd.cut(dcc_df['age_days'], bins)\n",
    "\n",
    "wtpassed = []\n",
    "te4passed = []\n",
    "  \n",
    "wt_means_passed = []\n",
    "wt_sems_passed = []\n",
    "te4_means_passed = []\n",
    "te4_sems_passed = []\n",
    "\n",
    "for a in np.arange(0,len(bins)-1):\n",
    "    tmpdf = []\n",
    "    tmpdf = dcc_df[dcc_df.age_days > bins[a]]\n",
    "    tmpdf = tmpdf[tmpdf.age_days < bins[a+1]]\n",
    "    \n",
    "    tmpwt = []\n",
    "    tmpte4 = []\n",
    "    \n",
    "    tmpwt = tmpdf[tmpdf.geno == 'wt']\n",
    "    tmpte4 = tmpdf[tmpdf.geno == 'te4']\n",
    "    \n",
    "    wt_an_bin = []\n",
    "    if len(tmpwt) > 0:\n",
    "        for b in tmpwt.animal.unique():\n",
    "            tmpanimalwt = []\n",
    "            tmpanimalwt = tmpwt[tmpwt.animal == b]\n",
    "            wt_an_bin.append(len(tmpanimalwt[(tmpanimalwt.passed == True) & (tmpanimalwt.dcc < .3)])/len(tmpanimalwt))\n",
    "    if len(wt_an_bin) > 0:\n",
    "        wt_means_passed.append(np.mean(wt_an_bin))\n",
    "        wt_sems_passed.append(scipy.stats.sem(wt_an_bin))\n",
    "    else:\n",
    "        wt_means_passed.append(np.nan)\n",
    "        wt_sems_passed.append(scipy.stats.sem(np.nan))\n",
    "        \n",
    "    te4_an_bin = []\n",
    "    if len(tmpte4) > 0:\n",
    "        for b in tmpte4.animal.unique():\n",
    "            tmpanimalte4 = []\n",
    "            tmpanimalte4 = tmpte4[tmpte4.animal == b]\n",
    "            te4_an_bin.append(len(tmpanimalte4[(tmpanimalte4.passed == True) & (tmpanimalte4.dcc < .3)])/len(tmpanimalte4))\n",
    "    if len(te4_an_bin) > 0:\n",
    "        te4_means_passed.append(np.mean(te4_an_bin))\n",
    "        te4_sems_passed.append(scipy.stats.sem(te4_an_bin))\n",
    "    else:\n",
    "        te4_means_passed.append(np.nan)\n",
    "        te4_sems_passed.append(scipy.stats.sem(np.nan))\n",
    "            \n",
    "    if len(tmpwt) > 0:\n",
    "        wtpassed.append(len(tmpwt[(tmpwt.passed == True) & (tmpwt.dcc < .3)])/len(tmpwt))\n",
    "    else:\n",
    "        wtpassed.append(np.nan)\n",
    "    if len(tmpte4) > 0:\n",
    "        te4passed.append(len(tmpte4[(tmpte4.passed == True) & (tmpte4.dcc < .3)])/len(tmpte4))\n",
    "    else:\n",
    "        te4passed.append(np.nan)\n",
    "\n",
    "fig, ax = plt.subplots(ncols = 1, nrows = 1, figsize = [2,2])\n",
    "\n",
    "ax.scatter(bins[:-1], wtpassed, s=7, color=sns.xkcd_rgb['gunmetal'], alpha = 0.5, edgecolor = [])\n",
    "ax.scatter(bins[:-1], te4passed, s=7, color=sns.xkcd_rgb['saffron'], alpha = 0.5, edgecolor = [])\n",
    "\n",
    "tmpdata = {\n",
    "  \"Xs\": bins[:-1],\n",
    "  \"wtpassed\": wtpassed,\n",
    "    \"te4passed\": te4passed,\n",
    "}\n",
    "\n",
    "#load data into a DataFrame object:\n",
    "testdf = pd.DataFrame(tmpdata)\n",
    "testdf['te4passed'] = testdf['te4passed']*100\n",
    "testdf['wtpassed'] = testdf['wtpassed']*100\n",
    "\n",
    "sns.regplot(data = testdf, x = bins[:-1], y = wtpassed, order = 2, color = sns.xkcd_rgb['gunmetal'], scatter=False)\n",
    "sns.regplot(data = testdf, x = bins[:-1], y = te4passed, order = 2, color = sns.xkcd_rgb['saffron'], scatter=False)\n",
    "\n",
    "plt.xlabel('Age (days)', fontsize=9)\n",
    "plt.ylabel('% blocks near-critical', fontsize=9)\n",
    "plt.yticks(fontsize=8)\n",
    "plt.xticks(fontsize=8)\n",
    "\n",
    "sns.despine()\n",
    "\n",
    "if SAVEFIGS:\n",
    "    plt.savefig(f'/{basedir}/HlabShare/te4_manuscript_james/manuscript_folders/UPDATED_Fig6_figures/{today}_percentnearcritical.pdf')\n",
    "    "
   ]
  },
  {
   "cell_type": "code",
   "execution_count": 51,
   "id": "b7c952fd",
   "metadata": {},
   "outputs": [
    {
     "data": {
      "image/png": "[encoded data removed]",
      "text/plain": [
       "<Figure size 144x144 with 1 Axes>"
      ]
     },
     "metadata": {
      "needs_background": "light"
     },
     "output_type": "display_data"
    }
   ],
   "source": [
    "SW['%Sleep'] = 100 - SW['%Wake']\n",
    "\n",
    "fig, ax = plt.subplots(ncols = 1, nrows = 1, figsize = [2,2])\n",
    "\n",
    "sns.regplot(data = testdf, x = bins[:-1], y = 'te4passed', order = 2, color = sns.xkcd_rgb['saffron'], scatter=False)\n",
    "sns.regplot(x = 'Age', y= '%Sleep', data = SW[SW['Genotype'] == 'TE4'], order=2, color = sns.xkcd_rgb['lilac'], label='TE4', scatter=False)\n",
    "\n",
    "plt.xlabel('Age (days)', fontsize=9)\n",
    "plt.ylabel('% blocks near-critical', fontsize=9)\n",
    "plt.yticks(fontsize=8)\n",
    "plt.xticks(fontsize=8)\n",
    "\n",
    "sns.despine()\n",
    "\n",
    "# if SAVEFIGS:\n",
    "#     plt.savefig(f'/{basedir}/HlabShare/te4_manuscript_james/manuscript_folders/UPDATED_Fig6_figures/{today}_percentnearcritical.pdf')\n",
    "    \n"
   ]
  },
  {
   "cell_type": "code",
   "execution_count": 10,
   "id": "159b3f70",
   "metadata": {},
   "outputs": [
    {
     "data": {
      "image/png": "[encoded data removed]",
      "text/plain": [
       "<Figure size 216x216 with 2 Axes>"
      ]
     },
     "metadata": {},
     "output_type": "display_data"
    }
   ],
   "source": [
    "fig, ax1 = plt.subplots(figsize = [3,3])\n",
    "ax2 = ax1.twinx()\n",
    "\n",
    "sns.regplot(data = testdf, x = bins[:-1], y = 'te4passed', order = 2, color = sns.xkcd_rgb['saffron'], scatter=False, ax=ax1)\n",
    "sns.regplot(x = 'Age', y= '%Sleep', data = SW[SW['Genotype'] == 'TE4'], order=2, color = sns.xkcd_rgb['lilac'], label='TE4', scatter=False, ax=ax2)\n",
    "\n",
    "plt.xlim([30,400])\n",
    "plt.xticks(fontsize = 11)\n",
    "plt.yticks(fontsize = 11)\n",
    "ax1.set_xlabel('Age (days)', fontsize = 12)\n",
    "ax1.set_ylabel('% blocks near-critical', fontsize = 12, color=sns.xkcd_rgb['saffron'])\n",
    "ax1.set_yticks(np.arange(0,100,10),np.around(np.arange(0,100,10),3),color=sns.xkcd_rgb['saffron'])\n",
    "ax2.set_ylabel('% of Day Spent Asleep', fontsize = 12, color=sns.xkcd_rgb['lilac'])\n",
    "ax2.set_yticks(np.arange(0,100,10),np.around(np.arange(0,100,10),1),color=sns.xkcd_rgb['lilac'])\n",
    "\n",
    "#plt.text(3,2.1,'n.s.', color=sns.xkcd_rgb['sea green'])\n",
    "#plt.text(3,2,'n.s.', color=sns.xkcd_rgb['indigo'])\n",
    "\n",
    "sns.despine(top=True, right=False)\n",
    "\n",
    "#plt.title('DCC and time spent awake in TE4 mice', fontsize=12)\n",
    "\n",
    "if SAVEFIGS:\n",
    "    plt.savefig(f'/{basedir}/HlabShare/te4_manuscript_james/manuscript_folders/UPDATED_Fig6_figures/{today}_TimeAwake_vs_DCC_overlay.pdf')\n",
    "    "
   ]
  },
  {
   "cell_type": "code",
   "execution_count": null,
   "id": "fbc86f45",
   "metadata": {},
   "outputs": [],
   "source": []
  },
  {
   "cell_type": "code",
   "execution_count": null,
   "id": "48d37761",
   "metadata": {},
   "outputs": [],
   "source": []
  },
  {
   "cell_type": "markdown",
   "id": "82ce6c0b",
   "metadata": {},
   "source": [
    "# Here's where I make the best version of the figure panels showing DCC and nearcrit vs time awake or asleep regplots:"
   ]
  },
  {
   "cell_type": "code",
   "execution_count": 90,
   "id": "6c42a138",
   "metadata": {},
   "outputs": [],
   "source": [
    "te4_timewake = pd.read_pickle('/media/HlabShare/james_work/filtered_timewake_te4_v0.pkl')\n",
    "te4_timewake['%Wake'] = te4_timewake['Time']*100\n",
    "te4_timewake['%Sleep'] = 100 - te4_timewake['%Wake']\n",
    "\n",
    "wt_timewake = pd.read_pickle('/media/HlabShare/james_work/filtered_timewake_wte4_v0.pkl')\n",
    "wt_timewake['%Wake'] = wt_timewake['Time']*100\n",
    "wt_timewake['%Sleep'] = 100 - wt_timewake['%Wake']\n",
    "\n"
   ]
  },
  {
   "cell_type": "code",
   "execution_count": 91,
   "id": "3f7824d1",
   "metadata": {},
   "outputs": [
    {
     "data": {
      "text/html": [
       "<div>\n",
       "<style scoped>\n",
       "    .dataframe tbody tr th:only-of-type {\n",
       "        vertical-align: middle;\n",
       "    }\n",
       "\n",
       "    .dataframe tbody tr th {\n",
       "        vertical-align: top;\n",
       "    }\n",
       "\n",
       "    .dataframe thead th {\n",
       "        text-align: right;\n",
       "    }\n",
       "</style>\n",
       "<table border=\"1\" class=\"dataframe\">\n",
       "  <thead>\n",
       "    <tr style=\"text-align: right;\">\n",
       "      <th></th>\n",
       "      <th>Animal</th>\n",
       "      <th>Date</th>\n",
       "      <th>State</th>\n",
       "      <th>Time</th>\n",
       "      <th>Age</th>\n",
       "      <th>Genotype</th>\n",
       "      <th>%Wake</th>\n",
       "      <th>%Sleep</th>\n",
       "    </tr>\n",
       "  </thead>\n",
       "  <tbody>\n",
       "    <tr>\n",
       "      <th>0</th>\n",
       "      <td>CAF00022</td>\n",
       "      <td>2020-04-20 12:07:45</td>\n",
       "      <td>1</td>\n",
       "      <td>0.558796</td>\n",
       "      <td>63</td>\n",
       "      <td>te4</td>\n",
       "      <td>55.879630</td>\n",
       "      <td>44.120370</td>\n",
       "    </tr>\n",
       "    <tr>\n",
       "      <th>3</th>\n",
       "      <td>CAF00022</td>\n",
       "      <td>2020-04-22 12:07:45</td>\n",
       "      <td>1</td>\n",
       "      <td>0.664537</td>\n",
       "      <td>65</td>\n",
       "      <td>te4</td>\n",
       "      <td>66.453704</td>\n",
       "      <td>33.546296</td>\n",
       "    </tr>\n",
       "    <tr>\n",
       "      <th>6</th>\n",
       "      <td>CAF00022</td>\n",
       "      <td>2020-04-23 12:07:45</td>\n",
       "      <td>1</td>\n",
       "      <td>0.455787</td>\n",
       "      <td>66</td>\n",
       "      <td>te4</td>\n",
       "      <td>45.578704</td>\n",
       "      <td>54.421296</td>\n",
       "    </tr>\n",
       "    <tr>\n",
       "      <th>12</th>\n",
       "      <td>CAF00022</td>\n",
       "      <td>2020-04-25 12:07:45</td>\n",
       "      <td>1</td>\n",
       "      <td>0.426481</td>\n",
       "      <td>68</td>\n",
       "      <td>te4</td>\n",
       "      <td>42.648148</td>\n",
       "      <td>57.351852</td>\n",
       "    </tr>\n",
       "    <tr>\n",
       "      <th>15</th>\n",
       "      <td>CAF00022</td>\n",
       "      <td>2020-04-26 12:07:45</td>\n",
       "      <td>1</td>\n",
       "      <td>0.539074</td>\n",
       "      <td>69</td>\n",
       "      <td>te4</td>\n",
       "      <td>53.907407</td>\n",
       "      <td>46.092593</td>\n",
       "    </tr>\n",
       "    <tr>\n",
       "      <th>...</th>\n",
       "      <td>...</td>\n",
       "      <td>...</td>\n",
       "      <td>...</td>\n",
       "      <td>...</td>\n",
       "      <td>...</td>\n",
       "      <td>...</td>\n",
       "      <td>...</td>\n",
       "      <td>...</td>\n",
       "    </tr>\n",
       "    <tr>\n",
       "      <th>1528</th>\n",
       "      <td>CAF00084</td>\n",
       "      <td>2021-03-16 23:49:28</td>\n",
       "      <td>1</td>\n",
       "      <td>0.512731</td>\n",
       "      <td>218</td>\n",
       "      <td>te4</td>\n",
       "      <td>51.273148</td>\n",
       "      <td>48.726852</td>\n",
       "    </tr>\n",
       "    <tr>\n",
       "      <th>1531</th>\n",
       "      <td>CAF00084</td>\n",
       "      <td>2021-03-17 23:49:28</td>\n",
       "      <td>1</td>\n",
       "      <td>0.512778</td>\n",
       "      <td>219</td>\n",
       "      <td>te4</td>\n",
       "      <td>51.277778</td>\n",
       "      <td>48.722222</td>\n",
       "    </tr>\n",
       "    <tr>\n",
       "      <th>1534</th>\n",
       "      <td>CAF00084</td>\n",
       "      <td>2021-04-04 06:06:29</td>\n",
       "      <td>1</td>\n",
       "      <td>0.453750</td>\n",
       "      <td>236</td>\n",
       "      <td>te4</td>\n",
       "      <td>45.375000</td>\n",
       "      <td>54.625000</td>\n",
       "    </tr>\n",
       "    <tr>\n",
       "      <th>1537</th>\n",
       "      <td>CAF00084</td>\n",
       "      <td>2021-04-05 22:06:29</td>\n",
       "      <td>1</td>\n",
       "      <td>0.475093</td>\n",
       "      <td>238</td>\n",
       "      <td>te4</td>\n",
       "      <td>47.509259</td>\n",
       "      <td>52.490741</td>\n",
       "    </tr>\n",
       "    <tr>\n",
       "      <th>1540</th>\n",
       "      <td>CAF00084</td>\n",
       "      <td>2021-04-07 10:06:29</td>\n",
       "      <td>1</td>\n",
       "      <td>0.440278</td>\n",
       "      <td>240</td>\n",
       "      <td>te4</td>\n",
       "      <td>44.027778</td>\n",
       "      <td>55.972222</td>\n",
       "    </tr>\n",
       "  </tbody>\n",
       "</table>\n",
       "<p>274 rows × 8 columns</p>\n",
       "</div>"
      ],
      "text/plain": [
       "        Animal                 Date  State      Time  Age Genotype      %Wake  \\\n",
       "0     CAF00022  2020-04-20 12:07:45      1  0.558796   63      te4  55.879630   \n",
       "3     CAF00022  2020-04-22 12:07:45      1  0.664537   65      te4  66.453704   \n",
       "6     CAF00022  2020-04-23 12:07:45      1  0.455787   66      te4  45.578704   \n",
       "12    CAF00022  2020-04-25 12:07:45      1  0.426481   68      te4  42.648148   \n",
       "15    CAF00022  2020-04-26 12:07:45      1  0.539074   69      te4  53.907407   \n",
       "...        ...                  ...    ...       ...  ...      ...        ...   \n",
       "1528  CAF00084  2021-03-16 23:49:28      1  0.512731  218      te4  51.273148   \n",
       "1531  CAF00084  2021-03-17 23:49:28      1  0.512778  219      te4  51.277778   \n",
       "1534  CAF00084  2021-04-04 06:06:29      1  0.453750  236      te4  45.375000   \n",
       "1537  CAF00084  2021-04-05 22:06:29      1  0.475093  238      te4  47.509259   \n",
       "1540  CAF00084  2021-04-07 10:06:29      1  0.440278  240      te4  44.027778   \n",
       "\n",
       "         %Sleep  \n",
       "0     44.120370  \n",
       "3     33.546296  \n",
       "6     54.421296  \n",
       "12    57.351852  \n",
       "15    46.092593  \n",
       "...         ...  \n",
       "1528  48.726852  \n",
       "1531  48.722222  \n",
       "1534  54.625000  \n",
       "1537  52.490741  \n",
       "1540  55.972222  \n",
       "\n",
       "[274 rows x 8 columns]"
      ]
     },
     "execution_count": 91,
     "metadata": {},
     "output_type": "execute_result"
    }
   ],
   "source": [
    "te4_timewake"
   ]
  },
  {
   "cell_type": "code",
   "execution_count": 148,
   "id": "6f95b8b2",
   "metadata": {},
   "outputs": [
    {
     "name": "stdout",
     "output_type": "stream",
     "text": [
      "y = 0.0*x**2 + -0.00102*x + 0.15851\n",
      "Inflection point of DCC data: 115\n",
      "y = 0.00048*x**2 + -0.14181*x + 66.34691\n",
      "Inflection point of DCC data: 148\n"
     ]
    },
    {
     "data": {
      "image/png": "[encoded data removed]",
      "text/plain": [
       "<Figure size 144x144 with 2 Axes>"
      ]
     },
     "metadata": {},
     "output_type": "display_data"
    }
   ],
   "source": [
    "dcc_df_te4 = []\n",
    "dcc_df_te4 = df[df['geno'] == 'te4']\n",
    "dcc_df_te4 = dcc_df_te4[dcc_df_te4.dcc < 1]\n",
    "dcc_df_wt = []\n",
    "dcc_df_wt = df[df['geno'] != 'te4']\n",
    "dcc_df_wt = dcc_df_wt[dcc_df_wt.dcc < 1]\n",
    "\n",
    "fig, ax1 = plt.subplots(figsize = [2,2])\n",
    "ax2 = ax1.twinx()\n",
    "\n",
    "g = sns.regplot(x = 'age_days', y= 'dcc', data = df[df['geno'] == 'te4'], order=2, color = sns.xkcd_rgb['greenish blue'], label='TE4', scatter=False, ax=ax1)\n",
    "g2 = sns.regplot(x = 'Age', y= '%Wake', data = te4_timewake, order=2, color = sns.xkcd_rgb['lilac'], label='TE4', scatter=False, ax=ax2)\n",
    "\n",
    "deg = 2\n",
    "my_fitting = np.polyfit(dcc_df_te4['age_days'], dcc_df_te4['dcc'], deg, full=True)\n",
    "x = np.linspace(0,500, 500)\n",
    "y = my_fitting[0][0]*x**2 + my_fitting[0][1]*x +my_fitting[0][2]\n",
    "dy = np.diff(y) # first derivative\n",
    "dcc_infl = np.min(np.where(dy > 0))\n",
    "print(f'y = {round(my_fitting[0][0], 5)}*x**2 + {round(my_fitting[0][1], 5)}*x + {round(my_fitting[0][2], 5)}')\n",
    "print(f'Inflection point of DCC data: {dcc_infl}')\n",
    "my_fitting = np.polyfit(te4_timewake['Age'], te4_timewake['%Wake'], deg, full=True)\n",
    "x = np.linspace(0,500, 500)\n",
    "y = my_fitting[0][0]*x**2 + my_fitting[0][1]*x +my_fitting[0][2]\n",
    "dy = np.diff(y) # first derivative\n",
    "timewake_infl = np.min(np.where(dy > 0))\n",
    "print(f'y = {round(my_fitting[0][0], 5)}*x**2 + {round(my_fitting[0][1], 5)}*x + {round(my_fitting[0][2], 5)}')\n",
    "print(f'Inflection point of DCC data: {timewake_infl}')\n",
    "ax1.vlines(dcc_infl, 0.0, 0.5, linestyle='--', color=sns.xkcd_rgb['greenish blue'])\n",
    "ax2.vlines(timewake_infl, 45, 90, linestyle='--', color=sns.xkcd_rgb['lilac'])\n",
    "\n",
    "plt.xlim([30,410])\n",
    "plt.xticks(fontsize = 8)\n",
    "plt.yticks(fontsize = 8)\n",
    "ax1.set_xlabel('Age (days)', fontsize = 9)\n",
    "ax1.set_ylabel('DCC', fontsize = 9, color=sns.xkcd_rgb['greenish blue'])\n",
    "ax1.set_yticks(np.arange(0,.52,.05),np.around(np.arange(0,.52,.05),3),color=sns.xkcd_rgb['greenish blue'], fontsize = 8)\n",
    "ax2.set_ylabel('% of Day Spent Awake', fontsize = 9, color=sns.xkcd_rgb['lilac'])\n",
    "ax2.set_yticks(np.arange(45,92,5),np.around(np.arange(45,92,5),1),color=sns.xkcd_rgb['lilac'], fontsize = 8)\n",
    "\n",
    "\n",
    "#plt.text(3,2.1,'n.s.', color=sns.xkcd_rgb['sea green'])\n",
    "#plt.text(3,2,'n.s.', color=sns.xkcd_rgb['indigo'])\n",
    "\n",
    "sns.despine(top=True, right=False)\n",
    "\n",
    "plt.title('DCC and time spent awake in TE4 mice', fontsize=9)\n",
    "\n",
    "if SAVEFIGS:\n",
    "    plt.savefig(f'/{basedir}/HlabShare/te4_manuscript_james/manuscript_folders/UPDATED_Fig6_figures/{today}_TimeAwake_vs_DCC_overlay_MLoutput.pdf')\n",
    "    \n"
   ]
  },
  {
   "cell_type": "code",
   "execution_count": 175,
   "id": "184285a9",
   "metadata": {},
   "outputs": [
    {
     "name": "stdout",
     "output_type": "stream",
     "text": [
      "Inflection point of DCC data: 115\n",
      "Inflection point (or rather the vertex) of DCC data: 115.29818956707238\n",
      "Inflection point of DCC data: 148\n",
      "Inflection point (or rather the vertex) of DCC data: 148.17962984422644\n"
     ]
    }
   ],
   "source": [
    "deg = 2\n",
    "my_fitting = np.polyfit(dcc_df_te4['age_days'], dcc_df_te4['dcc'], deg, full=True)\n",
    "x = np.linspace(0,500, 500)\n",
    "y = my_fitting[0][0]*x**2 + my_fitting[0][1]*x +my_fitting[0][2]\n",
    "dy = np.diff(y) # first derivative\n",
    "dcc_infl = np.min(np.where(dy > 0))\n",
    "print(f'Inflection point of DCC data: {dcc_infl}')\n",
    "\n",
    "deg = 2\n",
    "my_fitting = np.polyfit(dcc_df_te4['age_days'], dcc_df_te4['dcc'], deg, full=True)\n",
    "\n",
    "a = my_fitting[0][0]\n",
    "b = my_fitting[0][1]\n",
    "\n",
    "# Calculate the x-value of the vertex for the quadratic polynomial\n",
    "vertex_x = -b / (2 * a)\n",
    "print(f'Inflection point (or rather the vertex) of DCC data: {vertex_x}')\n",
    "\n",
    "\n",
    "\n",
    "deg = 2\n",
    "my_fitting = np.polyfit(te4_timewake['Age'], te4_timewake['%Wake'], deg, full=True)\n",
    "x = np.linspace(0,500, 500)\n",
    "y = my_fitting[0][0]*x**2 + my_fitting[0][1]*x +my_fitting[0][2]\n",
    "dy = np.diff(y) # first derivative\n",
    "dcc_infl = np.min(np.where(dy > 0))\n",
    "print(f'Inflection point of DCC data: {dcc_infl}')\n",
    "\n",
    "deg = 2\n",
    "my_fitting = np.polyfit(te4_timewake['Age'], te4_timewake['%Wake'], deg, full=True)\n",
    "\n",
    "a = my_fitting[0][0]\n",
    "b = my_fitting[0][1]\n",
    "\n",
    "# Calculate the x-value of the vertex for the quadratic polynomial\n",
    "vertex_x = -b / (2 * a)\n",
    "print(f'Inflection point (or rather the vertex) of DCC data: {vertex_x}')\n",
    "\n"
   ]
  },
  {
   "cell_type": "code",
   "execution_count": null,
   "id": "d8dc8eb4",
   "metadata": {},
   "outputs": [],
   "source": []
  },
  {
   "cell_type": "code",
   "execution_count": 165,
   "id": "1a3abec7",
   "metadata": {},
   "outputs": [
    {
     "name": "stdout",
     "output_type": "stream",
     "text": [
      "TE4 DCC:\n",
      "\n",
      "R squared value: 0.21666619602481763\n",
      "Overall model F(2, N-3) = 551.1154930231079 p = 4.88804792649175e-212\n"
     ]
    }
   ],
   "source": [
    "print('TE4 DCC:')\n",
    "print('')\n",
    "\n",
    "x = df[df['geno'] == 'te4']['age_days']\n",
    "y = df[df['geno'] == 'te4']['dcc']\n",
    "\n",
    "x_poly = np.column_stack((x**2, x, np.ones_like(x)))\n",
    "\n",
    "# Fit the model\n",
    "model = sm.OLS(y, x_poly).fit()\n",
    "\n",
    "# Get R squared and p-values\n",
    "print(\"R squared value:\", model.rsquared)\n",
    "#print(\"P-values:\\n\", model.pvalues)\n",
    "print(\"Overall model F(2, N-3) =\", model.fvalue, \"p =\", model.f_pvalue)\n",
    "\n"
   ]
  },
  {
   "cell_type": "code",
   "execution_count": 166,
   "id": "0e456368",
   "metadata": {},
   "outputs": [
    {
     "name": "stdout",
     "output_type": "stream",
     "text": [
      "TE4 Time Wake:\n",
      "\n",
      "R squared value: 0.2720877952649583\n",
      "Overall model F(2, N-3) = 50.64882278189259 p = 2.0497677534754656e-19\n"
     ]
    }
   ],
   "source": [
    "print('TE4 Time Wake:')\n",
    "print('')\n",
    "\n",
    "x = te4_timewake['Age']\n",
    "y = te4_timewake['%Wake']\n",
    "\n",
    "x_poly = np.column_stack((x**2, x, np.ones_like(x)))\n",
    "\n",
    "# Fit the model\n",
    "model = sm.OLS(y, x_poly).fit()\n",
    "\n",
    "# Get R squared and p-values\n",
    "print(\"R squared value:\", model.rsquared)\n",
    "#print(\"P-values:\\n\", model.pvalues)\n",
    "print(\"Overall model F(2, N-3) =\", model.fvalue, \"p =\", model.f_pvalue)\n"
   ]
  },
  {
   "cell_type": "code",
   "execution_count": null,
   "id": "79dc3d45",
   "metadata": {},
   "outputs": [],
   "source": []
  },
  {
   "cell_type": "code",
   "execution_count": null,
   "id": "9e4bb2da",
   "metadata": {},
   "outputs": [],
   "source": []
  },
  {
   "cell_type": "code",
   "execution_count": null,
   "id": "b0cb7108",
   "metadata": {},
   "outputs": [],
   "source": []
  },
  {
   "cell_type": "code",
   "execution_count": null,
   "id": "d4bcefea",
   "metadata": {},
   "outputs": [],
   "source": []
  },
  {
   "cell_type": "code",
   "execution_count": null,
   "id": "81eef116",
   "metadata": {},
   "outputs": [],
   "source": []
  },
  {
   "cell_type": "code",
   "execution_count": null,
   "id": "6f6271b1",
   "metadata": {},
   "outputs": [],
   "source": []
  },
  {
   "cell_type": "code",
   "execution_count": null,
   "id": "05aec27a",
   "metadata": {},
   "outputs": [],
   "source": []
  },
  {
   "cell_type": "code",
   "execution_count": 157,
   "id": "eea3a1f5",
   "metadata": {},
   "outputs": [
    {
     "name": "stdout",
     "output_type": "stream",
     "text": [
      "0.21666619602481763\n"
     ]
    }
   ],
   "source": [
    "from sklearn.metrics import r2_score\n",
    "\n",
    "x = df[df['geno'] == 'te4']['age_days']\n",
    "y = df[df['geno'] == 'te4']['dcc']\n",
    "\n",
    "mymodel = np.poly1d(np.polyfit(x, y, 2))\n",
    "print(r2_score(y, mymodel(x)))\n",
    "\n"
   ]
  },
  {
   "cell_type": "code",
   "execution_count": 158,
   "id": "f8fc72fb",
   "metadata": {},
   "outputs": [
    {
     "name": "stdout",
     "output_type": "stream",
     "text": [
      "0.2720877952649583\n"
     ]
    }
   ],
   "source": [
    "from sklearn.metrics import r2_score\n",
    "\n",
    "x = te4_timewake['Age']\n",
    "y = te4_timewake['%Wake']\n",
    "\n",
    "mymodel = np.poly1d(np.polyfit(x, y, 2))\n",
    "print(r2_score(y, mymodel(x)))\n",
    "\n"
   ]
  },
  {
   "cell_type": "code",
   "execution_count": 159,
   "id": "fa3f5fc2",
   "metadata": {},
   "outputs": [
    {
     "data": {
      "text/plain": [
       "poly1d([ 4.78521507e-04, -1.41814280e-01,  6.63469112e+01])"
      ]
     },
     "execution_count": 159,
     "metadata": {},
     "output_type": "execute_result"
    }
   ],
   "source": [
    "mymodel"
   ]
  },
  {
   "cell_type": "code",
   "execution_count": null,
   "id": "bf69b3f0",
   "metadata": {},
   "outputs": [],
   "source": []
  },
  {
   "cell_type": "code",
   "execution_count": null,
   "id": "f7347b13",
   "metadata": {},
   "outputs": [],
   "source": []
  },
  {
   "cell_type": "code",
   "execution_count": null,
   "id": "99104e0a",
   "metadata": {},
   "outputs": [],
   "source": []
  },
  {
   "cell_type": "code",
   "execution_count": null,
   "id": "447de5ec",
   "metadata": {},
   "outputs": [],
   "source": []
  },
  {
   "cell_type": "code",
   "execution_count": 149,
   "id": "959e783a",
   "metadata": {
    "scrolled": true
   },
   "outputs": [
    {
     "data": {
      "text/plain": [
       "(array([ 4.78521507e-04, -1.41814280e-01,  6.63469112e+01]),\n",
       " array([23771.73997094]),\n",
       " 3,\n",
       " array([1.63214573, 0.57407466, 0.0808615 ]),\n",
       " 6.084022174945858e-14)"
      ]
     },
     "execution_count": 149,
     "metadata": {},
     "output_type": "execute_result"
    }
   ],
   "source": [
    "np.polyfit(te4_timewake['Age'], te4_timewake['%Wake'], deg, full=True)"
   ]
  },
  {
   "cell_type": "code",
   "execution_count": 150,
   "id": "1b7554a8",
   "metadata": {},
   "outputs": [
    {
     "name": "stdout",
     "output_type": "stream",
     "text": [
      "R squared value: 0.2720877952649583\n",
      "P-values:\n",
      " x1       6.684600e-10\n",
      "x2       8.268327e-06\n",
      "const    1.184182e-70\n",
      "dtype: float64\n"
     ]
    }
   ],
   "source": [
    "import statsmodels.api as sm\n",
    "\n",
    "x = te4_timewake['Age']\n",
    "y = te4_timewake['%Wake']\n",
    "\n",
    "# Generate polynomial features\n",
    "x_poly = np.column_stack((x**2, x, np.ones_like(x)))\n",
    "\n",
    "# Fit the model\n",
    "model = sm.OLS(y, x_poly).fit()\n",
    "\n",
    "# Get R squared and p-values\n",
    "print(\"R squared value:\", model.rsquared)\n",
    "print(\"P-values:\\n\", model.pvalues)\n",
    "\n"
   ]
  },
  {
   "cell_type": "code",
   "execution_count": 156,
   "id": "ff673184",
   "metadata": {},
   "outputs": [
    {
     "name": "stdout",
     "output_type": "stream",
     "text": [
      "0.2720877952649583\n"
     ]
    }
   ],
   "source": []
  },
  {
   "cell_type": "code",
   "execution_count": null,
   "id": "5a107bdf",
   "metadata": {},
   "outputs": [],
   "source": []
  },
  {
   "cell_type": "code",
   "execution_count": null,
   "id": "9d7ccd9f",
   "metadata": {},
   "outputs": [],
   "source": []
  },
  {
   "cell_type": "code",
   "execution_count": null,
   "id": "b3d9ecf7",
   "metadata": {},
   "outputs": [],
   "source": []
  },
  {
   "cell_type": "code",
   "execution_count": 138,
   "id": "c34d33f2",
   "metadata": {},
   "outputs": [
    {
     "data": {
      "text/plain": [
       "(array([ 4.78521507e-04, -1.41814280e-01,  6.63469112e+01]),\n",
       " array([23771.73997094]),\n",
       " 3,\n",
       " array([1.63214573, 0.57407466, 0.0808615 ]),\n",
       " 6.084022174945858e-14)"
      ]
     },
     "execution_count": 138,
     "metadata": {},
     "output_type": "execute_result"
    }
   ],
   "source": [
    "my_fitting"
   ]
  },
  {
   "cell_type": "code",
   "execution_count": 139,
   "id": "3a12019b",
   "metadata": {},
   "outputs": [],
   "source": [
    "SAVEFIGS = 0"
   ]
  },
  {
   "cell_type": "code",
   "execution_count": 177,
   "id": "0f4e74f1",
   "metadata": {},
   "outputs": [
    {
     "name": "stdout",
     "output_type": "stream",
     "text": [
      "y = -0.00056*x**2 + 0.03371*x + 73.35599\n",
      "inflection point for near crit data: 30\n",
      "\n",
      "y = -0.00048*x**2 + 0.14181*x + 33.65309\n",
      "inflection point for timesleep data: 148\n"
     ]
    },
    {
     "data": {
      "image/png": "[encoded data removed]",
      "text/plain": [
       "<Figure size 144x144 with 2 Axes>"
      ]
     },
     "metadata": {},
     "output_type": "display_data"
    }
   ],
   "source": [
    "fig, ax1 = plt.subplots(figsize = [2,2])\n",
    "ax2 = ax1.twinx()\n",
    "\n",
    "sns.regplot(data = testdf, x = bins[:-1], y = 'te4passed', order = 2, color = sns.xkcd_rgb['saffron'], scatter=False, ax=ax1)\n",
    "sns.regplot(x = 'Age', y= '%Sleep', data = te4_timewake, order=2, color = sns.xkcd_rgb['lilac'], label='TE4', scatter=False, ax=ax2)\n",
    "\n",
    "deg = 2\n",
    "mask = ~np.isnan(testdf['te4passed'])\n",
    "bins_masked = bins[:-1][mask]\n",
    "te4passed_masked = np.array(testdf['te4passed'])[mask]\n",
    "my_fitting = np.polyfit(bins_masked, te4passed_masked, deg, full=True)\n",
    "x = np.linspace(0, 500, 500)\n",
    "y = my_fitting[0][0]*x**2 + my_fitting[0][1]*x + my_fitting[0][2]\n",
    "dy = np.diff(y)\n",
    "nearcrit_infl = np.min(np.where(dy < 0)[0])\n",
    "print(f'y = {round(my_fitting[0][0], 5)}*x**2 + {round(my_fitting[0][1], 5)}*x + {round(my_fitting[0][2], 5)}')\n",
    "print(f'inflection point for near crit data: {nearcrit_infl}')\n",
    "print('')\n",
    "deg = 2\n",
    "my_fitting = np.polyfit(te4_timewake['Age'], te4_timewake['%Sleep'], deg, full=True)\n",
    "x = np.linspace(0, 500, 500)\n",
    "y = my_fitting[0][0]*x**2 + my_fitting[0][1]*x + my_fitting[0][2]\n",
    "dy = np.diff(y)\n",
    "timesleep_infl = np.min(np.where(dy < 0)[0])\n",
    "print(f'y = {round(my_fitting[0][0], 5)}*x**2 + {round(my_fitting[0][1], 5)}*x + {round(my_fitting[0][2], 5)}')\n",
    "print(f'inflection point for timesleep data: {timesleep_infl}')\n",
    "\n",
    "ax1.vlines(50, 0, 80, linestyle='--', color=sns.xkcd_rgb['saffron'])\n",
    "ax2.vlines(timesleep_infl, 15, 65, linestyle='--', color=sns.xkcd_rgb['lilac'])\n",
    "\n",
    "plt.xlim([30,410])\n",
    "plt.xticks(fontsize = 8)\n",
    "plt.yticks(fontsize = 9)\n",
    "ax1.set_xlabel('Age (days)', fontsize = 9)\n",
    "ax1.set_ylabel('% blocks near-critical', fontsize = 9, color=sns.xkcd_rgb['saffron'])\n",
    "ax1.set_yticks(np.arange(0,90,10),np.around(np.arange(0,90,10),3),color=sns.xkcd_rgb['saffron'])\n",
    "ax2.set_ylabel('% of Day Spent Asleep', fontsize = 9, color=sns.xkcd_rgb['lilac'])\n",
    "ax2.set_yticks(np.arange(20,70,10),np.around(np.arange(20,70,10),1),color=sns.xkcd_rgb['lilac'])\n",
    "\n",
    "#plt.text(3,2.1,'n.s.', color=sns.xkcd_rgb['sea green'])\n",
    "#plt.text(3,2,'n.s.', color=sns.xkcd_rgb['indigo'])\n",
    "\n",
    "sns.despine(top=True, right=False)\n",
    "\n",
    "#plt.title('DCC and time spent awake in TE4 mice', fontsize=12)\n",
    "\n",
    "if SAVEFIGS:\n",
    "    plt.savefig(f'/{basedir}/HlabShare/te4_manuscript_james/manuscript_folders/UPDATED_Fig6_figures/{today}_TimeAwake_vs_nearcrit_overlay.pdf')\n",
    "    "
   ]
  },
  {
   "cell_type": "code",
   "execution_count": 178,
   "id": "f3c78061",
   "metadata": {},
   "outputs": [
    {
     "name": "stdout",
     "output_type": "stream",
     "text": [
      "TE4 % near-critical:\n",
      "\n",
      "R squared value: 0.6706874810845633\n",
      "Overall model F(2, N-3) = 41.75089792369582 p = 1.2911269242163886e-10\n"
     ]
    }
   ],
   "source": [
    "print('TE4 % near-critical:')\n",
    "print('')\n",
    "\n",
    "x = bins_masked\n",
    "y = te4passed_masked\n",
    "\n",
    "x_poly = np.column_stack((x**2, x, np.ones_like(x)))\n",
    "\n",
    "# Fit the model\n",
    "model = sm.OLS(y, x_poly).fit()\n",
    "\n",
    "# Get R squared and p-values\n",
    "print(\"R squared value:\", model.rsquared)\n",
    "#print(\"P-values:\\n\", model.pvalues)\n",
    "print(\"Overall model F(2, N-3) =\", model.fvalue, \"p =\", model.f_pvalue)\n",
    "\n"
   ]
  },
  {
   "cell_type": "code",
   "execution_count": null,
   "id": "e9a1c0a4",
   "metadata": {},
   "outputs": [],
   "source": []
  },
  {
   "cell_type": "code",
   "execution_count": null,
   "id": "108a98e6",
   "metadata": {},
   "outputs": [],
   "source": []
  },
  {
   "cell_type": "code",
   "execution_count": null,
   "id": "0f9aa850",
   "metadata": {},
   "outputs": [],
   "source": []
  },
  {
   "cell_type": "code",
   "execution_count": null,
   "id": "db644b26",
   "metadata": {},
   "outputs": [],
   "source": []
  },
  {
   "cell_type": "code",
   "execution_count": null,
   "id": "527fbe88",
   "metadata": {},
   "outputs": [],
   "source": []
  },
  {
   "cell_type": "code",
   "execution_count": null,
   "id": "4b77127b",
   "metadata": {},
   "outputs": [],
   "source": []
  },
  {
   "cell_type": "code",
   "execution_count": null,
   "id": "2977ddcf",
   "metadata": {},
   "outputs": [],
   "source": []
  },
  {
   "cell_type": "code",
   "execution_count": null,
   "id": "51f89df9",
   "metadata": {},
   "outputs": [],
   "source": []
  },
  {
   "cell_type": "code",
   "execution_count": null,
   "id": "5c9f9f3c",
   "metadata": {},
   "outputs": [],
   "source": []
  },
  {
   "cell_type": "code",
   "execution_count": null,
   "id": "8ab7974b",
   "metadata": {},
   "outputs": [],
   "source": []
  },
  {
   "cell_type": "code",
   "execution_count": 78,
   "id": "9ce5e4f0",
   "metadata": {},
   "outputs": [],
   "source": [
    "SAVEFIGS = 0"
   ]
  },
  {
   "cell_type": "code",
   "execution_count": 120,
   "id": "503fa1d0",
   "metadata": {},
   "outputs": [
    {
     "name": "stdout",
     "output_type": "stream",
     "text": [
      "y = -0.01174*x + 53.88271\n"
     ]
    }
   ],
   "source": [
    "deg = 1\n",
    "my_fitting = np.polyfit(wt_timewake['Age'], wt_timewake['%Wake'], deg, full=True)\n",
    "x = np.linspace(0,500, 500)\n",
    "y = my_fitting[0][0]*x +my_fitting[0][1]\n",
    "print(f'y = {round(my_fitting[0][0], 5)}*x + {round(my_fitting[0][1], 5)}')\n",
    "\n"
   ]
  },
  {
   "cell_type": "code",
   "execution_count": 125,
   "id": "b5c4aa5f",
   "metadata": {},
   "outputs": [
    {
     "name": "stdout",
     "output_type": "stream",
     "text": [
      "0.017995503290649712\n",
      "0.011404288911252721\n"
     ]
    }
   ],
   "source": [
    "slope, intercept, r_value, p_value, std_err = scipy.stats.linregress(wt_timewake['Age'], wt_timewake['%Wake'])\n",
    "\n",
    "print(r_value**2)\n",
    "print(p_value)\n",
    "\n"
   ]
  },
  {
   "cell_type": "code",
   "execution_count": 126,
   "id": "be5dc3b0",
   "metadata": {},
   "outputs": [
    {
     "data": {
      "text/html": [
       "<div>\n",
       "<style scoped>\n",
       "    .dataframe tbody tr th:only-of-type {\n",
       "        vertical-align: middle;\n",
       "    }\n",
       "\n",
       "    .dataframe tbody tr th {\n",
       "        vertical-align: top;\n",
       "    }\n",
       "\n",
       "    .dataframe thead th {\n",
       "        text-align: right;\n",
       "    }\n",
       "</style>\n",
       "<table border=\"1\" class=\"dataframe\">\n",
       "  <thead>\n",
       "    <tr style=\"text-align: right;\">\n",
       "      <th></th>\n",
       "      <th>level_0</th>\n",
       "      <th>index</th>\n",
       "      <th>animal</th>\n",
       "      <th>probe</th>\n",
       "      <th>date</th>\n",
       "      <th>time_frame</th>\n",
       "      <th>block_num</th>\n",
       "      <th>scored</th>\n",
       "      <th>bday</th>\n",
       "      <th>rstart_time</th>\n",
       "      <th>...</th>\n",
       "      <th>acc2</th>\n",
       "      <th>br1</th>\n",
       "      <th>br2</th>\n",
       "      <th>burst</th>\n",
       "      <th>T</th>\n",
       "      <th>num_cells</th>\n",
       "      <th>npy_file</th>\n",
       "      <th>region</th>\n",
       "      <th>age_days</th>\n",
       "      <th>phase</th>\n",
       "    </tr>\n",
       "  </thead>\n",
       "  <tbody>\n",
       "    <tr>\n",
       "      <th>2</th>\n",
       "      <td>2.0</td>\n",
       "      <td>0.0</td>\n",
       "      <td>caf95</td>\n",
       "      <td>probe1</td>\n",
       "      <td>041921</td>\n",
       "      <td>156_158</td>\n",
       "      <td>0</td>\n",
       "      <td>xgb</td>\n",
       "      <td>2021-01-30 07:30:00</td>\n",
       "      <td>2021-04-26 03:01:32</td>\n",
       "      <td>...</td>\n",
       "      <td>0.94249</td>\n",
       "      <td>0.861141</td>\n",
       "      <td>0.925759</td>\n",
       "      <td>[3, 10, 13, 12, 8, 2, 11, 9, 1, 27, 4, 26, 5, ...</td>\n",
       "      <td>[2, 4, 4, 3, 2, 1, 3, 3, 1, 7, 3, 6, 2, 1, 7, ...</td>\n",
       "      <td>26</td>\n",
       "      <td>/scratch/khengen_lab/crit_sahara/DATA/media/Hl...</td>\n",
       "      <td>CA1</td>\n",
       "      <td>85.813565</td>\n",
       "      <td>B</td>\n",
       "    </tr>\n",
       "    <tr>\n",
       "      <th>3</th>\n",
       "      <td>3.0</td>\n",
       "      <td>0.0</td>\n",
       "      <td>caf88</td>\n",
       "      <td>probe1</td>\n",
       "      <td>040221</td>\n",
       "      <td>88_92</td>\n",
       "      <td>0</td>\n",
       "      <td>xgb</td>\n",
       "      <td>2019-12-05 07:30:00</td>\n",
       "      <td>2021-04-06 05:07:39</td>\n",
       "      <td>...</td>\n",
       "      <td>0.872497</td>\n",
       "      <td>0.994047</td>\n",
       "      <td>0.99331</td>\n",
       "      <td>[1, 10, 4, 3, 6, 4, 8, 4, 13, 4, 4, 6, 4, 3, 4...</td>\n",
       "      <td>[1, 5, 2, 1, 3, 3, 2, 3, 5, 1, 1, 3, 2, 2, 1, ...</td>\n",
       "      <td>33</td>\n",
       "      <td>/scratch/khengen_lab/crit_sahara/DATA/media/Hl...</td>\n",
       "      <td>CA1</td>\n",
       "      <td>487.901146</td>\n",
       "      <td>C</td>\n",
       "    </tr>\n",
       "    <tr>\n",
       "      <th>4</th>\n",
       "      <td>4.0</td>\n",
       "      <td>0.0</td>\n",
       "      <td>caf88</td>\n",
       "      <td>probe1</td>\n",
       "      <td>040221</td>\n",
       "      <td>88_92</td>\n",
       "      <td>1</td>\n",
       "      <td>xgb</td>\n",
       "      <td>2019-12-05 07:30:00</td>\n",
       "      <td>2021-04-06 05:07:39</td>\n",
       "      <td>...</td>\n",
       "      <td>0.612341</td>\n",
       "      <td>0.995305</td>\n",
       "      <td>0.995259</td>\n",
       "      <td>[2, 3, 8, 3, 2, 3, 3, 2, 3, 5, 1, 4, 5, 2, 2, ...</td>\n",
       "      <td>[1, 1, 5, 2, 1, 1, 1, 2, 1, 2, 1, 2, 2, 2, 1, ...</td>\n",
       "      <td>33</td>\n",
       "      <td>/scratch/khengen_lab/crit_sahara/DATA/media/Hl...</td>\n",
       "      <td>CA1</td>\n",
       "      <td>487.984479</td>\n",
       "      <td>C</td>\n",
       "    </tr>\n",
       "    <tr>\n",
       "      <th>9</th>\n",
       "      <td>9.0</td>\n",
       "      <td>0.0</td>\n",
       "      <td>caf26</td>\n",
       "      <td>probe2</td>\n",
       "      <td>081020</td>\n",
       "      <td>8_16</td>\n",
       "      <td>0</td>\n",
       "      <td>xgb</td>\n",
       "      <td>2020-02-20 07:30:00</td>\n",
       "      <td>2020-08-10 23:03:49</td>\n",
       "      <td>...</td>\n",
       "      <td>0.89467</td>\n",
       "      <td>0.988284</td>\n",
       "      <td>0.98803</td>\n",
       "      <td>[2, 4, 1, 5, 3, 2, 3, 3, 6, 1, 2, 1, 1, 1, 2, ...</td>\n",
       "      <td>[1, 2, 1, 2, 1, 1, 2, 1, 3, 1, 1, 1, 1, 1, 2, ...</td>\n",
       "      <td>21</td>\n",
       "      <td>/scratch/khengen_lab/crit_sahara/DATA/media/Hl...</td>\n",
       "      <td>CA1</td>\n",
       "      <td>172.648484</td>\n",
       "      <td>B</td>\n",
       "    </tr>\n",
       "    <tr>\n",
       "      <th>10</th>\n",
       "      <td>10.0</td>\n",
       "      <td>0.0</td>\n",
       "      <td>caf26</td>\n",
       "      <td>probe2</td>\n",
       "      <td>081020</td>\n",
       "      <td>8_16</td>\n",
       "      <td>1</td>\n",
       "      <td>xgb</td>\n",
       "      <td>2020-02-20 07:30:00</td>\n",
       "      <td>2020-08-10 23:03:49</td>\n",
       "      <td>...</td>\n",
       "      <td>0.905339</td>\n",
       "      <td>0.991756</td>\n",
       "      <td>0.985811</td>\n",
       "      <td>[18, 17, 2, 3, 4, 6, 7, 1, 22, 2, 1, 33, 6, 1,...</td>\n",
       "      <td>[7, 8, 2, 1, 2, 5, 3, 1, 9, 1, 1, 12, 3, 1, 2,...</td>\n",
       "      <td>21</td>\n",
       "      <td>/scratch/khengen_lab/crit_sahara/DATA/media/Hl...</td>\n",
       "      <td>CA1</td>\n",
       "      <td>172.731817</td>\n",
       "      <td>B</td>\n",
       "    </tr>\n",
       "    <tr>\n",
       "      <th>...</th>\n",
       "      <td>...</td>\n",
       "      <td>...</td>\n",
       "      <td>...</td>\n",
       "      <td>...</td>\n",
       "      <td>...</td>\n",
       "      <td>...</td>\n",
       "      <td>...</td>\n",
       "      <td>...</td>\n",
       "      <td>...</td>\n",
       "      <td>...</td>\n",
       "      <td>...</td>\n",
       "      <td>...</td>\n",
       "      <td>...</td>\n",
       "      <td>...</td>\n",
       "      <td>...</td>\n",
       "      <td>...</td>\n",
       "      <td>...</td>\n",
       "      <td>...</td>\n",
       "      <td>...</td>\n",
       "      <td>...</td>\n",
       "      <td>...</td>\n",
       "    </tr>\n",
       "    <tr>\n",
       "      <th>0</th>\n",
       "      <td>NaN</td>\n",
       "      <td>NaN</td>\n",
       "      <td>caf102</td>\n",
       "      <td>probe1</td>\n",
       "      <td>052021</td>\n",
       "      <td>192_196</td>\n",
       "      <td>0</td>\n",
       "      <td>xgb</td>\n",
       "      <td>2021-01-30 07:30:00</td>\n",
       "      <td>2021-05-28 16:34:19</td>\n",
       "      <td>...</td>\n",
       "      <td>None</td>\n",
       "      <td>None</td>\n",
       "      <td>None</td>\n",
       "      <td>[12, 1, 1, 1, 6, 2, 1, 8, 3, 4, 7, 5, 4, 2, 1,...</td>\n",
       "      <td>[7, 1, 1, 1, 2, 2, 1, 4, 2, 3, 3, 2, 2, 1, 1, ...</td>\n",
       "      <td>25</td>\n",
       "      <td>/media/HlabShare/Clustering_Data/CAF00102/caf1...</td>\n",
       "      <td>NaN</td>\n",
       "      <td>118.377998</td>\n",
       "      <td>NaN</td>\n",
       "    </tr>\n",
       "    <tr>\n",
       "      <th>0</th>\n",
       "      <td>NaN</td>\n",
       "      <td>NaN</td>\n",
       "      <td>caf102</td>\n",
       "      <td>probe1</td>\n",
       "      <td>052021</td>\n",
       "      <td>192_196</td>\n",
       "      <td>1</td>\n",
       "      <td>xgb</td>\n",
       "      <td>2021-01-30 07:30:00</td>\n",
       "      <td>2021-05-28 16:34:19</td>\n",
       "      <td>...</td>\n",
       "      <td>None</td>\n",
       "      <td>None</td>\n",
       "      <td>None</td>\n",
       "      <td>[2, 1, 1, 1, 2, 1, 1, 1, 1, 6, 9, 5, 2, 1, 6, ...</td>\n",
       "      <td>[2, 1, 1, 1, 1, 1, 1, 1, 1, 3, 5, 3, 1, 1, 3, ...</td>\n",
       "      <td>25</td>\n",
       "      <td>/media/HlabShare/Clustering_Data/CAF00102/caf1...</td>\n",
       "      <td>NaN</td>\n",
       "      <td>118.461331</td>\n",
       "      <td>NaN</td>\n",
       "    </tr>\n",
       "    <tr>\n",
       "      <th>0</th>\n",
       "      <td>NaN</td>\n",
       "      <td>NaN</td>\n",
       "      <td>caf102</td>\n",
       "      <td>probe1</td>\n",
       "      <td>052021</td>\n",
       "      <td>196_200</td>\n",
       "      <td>0</td>\n",
       "      <td>xgb</td>\n",
       "      <td>2021-01-30 07:30:00</td>\n",
       "      <td>2021-05-28 20:34:19</td>\n",
       "      <td>...</td>\n",
       "      <td>None</td>\n",
       "      <td>None</td>\n",
       "      <td>None</td>\n",
       "      <td>[36, 2, 7, 5, 2, 8, 6, 5, 21, 5, 30, 7, 2, 2, ...</td>\n",
       "      <td>[16, 1, 3, 2, 1, 4, 3, 4, 8, 3, 12, 3, 2, 1, 1...</td>\n",
       "      <td>19</td>\n",
       "      <td>/media/HlabShare/Clustering_Data/CAF00102/caf1...</td>\n",
       "      <td>NaN</td>\n",
       "      <td>118.544664</td>\n",
       "      <td>NaN</td>\n",
       "    </tr>\n",
       "    <tr>\n",
       "      <th>0</th>\n",
       "      <td>NaN</td>\n",
       "      <td>NaN</td>\n",
       "      <td>caf102</td>\n",
       "      <td>probe1</td>\n",
       "      <td>052021</td>\n",
       "      <td>196_200</td>\n",
       "      <td>1</td>\n",
       "      <td>xgb</td>\n",
       "      <td>2021-01-30 07:30:00</td>\n",
       "      <td>2021-05-28 20:34:19</td>\n",
       "      <td>...</td>\n",
       "      <td>None</td>\n",
       "      <td>None</td>\n",
       "      <td>None</td>\n",
       "      <td>[4, 1, 5, 6, 1, 13, 4, 2, 2, 4, 3, 1, 2, 2, 4,...</td>\n",
       "      <td>[3, 1, 4, 5, 1, 10, 3, 2, 2, 2, 2, 1, 1, 2, 2,...</td>\n",
       "      <td>19</td>\n",
       "      <td>/media/HlabShare/Clustering_Data/CAF00102/caf1...</td>\n",
       "      <td>NaN</td>\n",
       "      <td>118.627998</td>\n",
       "      <td>NaN</td>\n",
       "    </tr>\n",
       "    <tr>\n",
       "      <th>0</th>\n",
       "      <td>NaN</td>\n",
       "      <td>NaN</td>\n",
       "      <td>caf102</td>\n",
       "      <td>probe1</td>\n",
       "      <td>052021</td>\n",
       "      <td>200_204</td>\n",
       "      <td>1</td>\n",
       "      <td>xgb</td>\n",
       "      <td>2021-01-30 07:30:00</td>\n",
       "      <td>2021-05-29 00:34:19</td>\n",
       "      <td>...</td>\n",
       "      <td>None</td>\n",
       "      <td>None</td>\n",
       "      <td>None</td>\n",
       "      <td>[2, 2, 9, 3, 1, 4, 2, 5, 6, 3, 3, 1, 2, 1, 2, ...</td>\n",
       "      <td>[1, 2, 4, 1, 1, 2, 1, 3, 4, 2, 2, 1, 2, 1, 2, ...</td>\n",
       "      <td>11</td>\n",
       "      <td>/media/HlabShare/Clustering_Data/CAF00102/caf1...</td>\n",
       "      <td>NaN</td>\n",
       "      <td>118.794664</td>\n",
       "      <td>NaN</td>\n",
       "    </tr>\n",
       "  </tbody>\n",
       "</table>\n",
       "<p>4677 rows × 47 columns</p>\n",
       "</div>"
      ],
      "text/plain": [
       "    level_0  index  animal   probe    date time_frame  block_num scored  \\\n",
       "2       2.0    0.0   caf95  probe1  041921    156_158          0    xgb   \n",
       "3       3.0    0.0   caf88  probe1  040221      88_92          0    xgb   \n",
       "4       4.0    0.0   caf88  probe1  040221      88_92          1    xgb   \n",
       "9       9.0    0.0   caf26  probe2  081020       8_16          0    xgb   \n",
       "10     10.0    0.0   caf26  probe2  081020       8_16          1    xgb   \n",
       "..      ...    ...     ...     ...     ...        ...        ...    ...   \n",
       "0       NaN    NaN  caf102  probe1  052021    192_196          0    xgb   \n",
       "0       NaN    NaN  caf102  probe1  052021    192_196          1    xgb   \n",
       "0       NaN    NaN  caf102  probe1  052021    196_200          0    xgb   \n",
       "0       NaN    NaN  caf102  probe1  052021    196_200          1    xgb   \n",
       "0       NaN    NaN  caf102  probe1  052021    200_204          1    xgb   \n",
       "\n",
       "                  bday         rstart_time  ...      acc2       br1       br2  \\\n",
       "2  2021-01-30 07:30:00 2021-04-26 03:01:32  ...   0.94249  0.861141  0.925759   \n",
       "3  2019-12-05 07:30:00 2021-04-06 05:07:39  ...  0.872497  0.994047   0.99331   \n",
       "4  2019-12-05 07:30:00 2021-04-06 05:07:39  ...  0.612341  0.995305  0.995259   \n",
       "9  2020-02-20 07:30:00 2020-08-10 23:03:49  ...   0.89467  0.988284   0.98803   \n",
       "10 2020-02-20 07:30:00 2020-08-10 23:03:49  ...  0.905339  0.991756  0.985811   \n",
       "..                 ...                 ...  ...       ...       ...       ...   \n",
       "0  2021-01-30 07:30:00 2021-05-28 16:34:19  ...      None      None      None   \n",
       "0  2021-01-30 07:30:00 2021-05-28 16:34:19  ...      None      None      None   \n",
       "0  2021-01-30 07:30:00 2021-05-28 20:34:19  ...      None      None      None   \n",
       "0  2021-01-30 07:30:00 2021-05-28 20:34:19  ...      None      None      None   \n",
       "0  2021-01-30 07:30:00 2021-05-29 00:34:19  ...      None      None      None   \n",
       "\n",
       "                                                burst  \\\n",
       "2   [3, 10, 13, 12, 8, 2, 11, 9, 1, 27, 4, 26, 5, ...   \n",
       "3   [1, 10, 4, 3, 6, 4, 8, 4, 13, 4, 4, 6, 4, 3, 4...   \n",
       "4   [2, 3, 8, 3, 2, 3, 3, 2, 3, 5, 1, 4, 5, 2, 2, ...   \n",
       "9   [2, 4, 1, 5, 3, 2, 3, 3, 6, 1, 2, 1, 1, 1, 2, ...   \n",
       "10  [18, 17, 2, 3, 4, 6, 7, 1, 22, 2, 1, 33, 6, 1,...   \n",
       "..                                                ...   \n",
       "0   [12, 1, 1, 1, 6, 2, 1, 8, 3, 4, 7, 5, 4, 2, 1,...   \n",
       "0   [2, 1, 1, 1, 2, 1, 1, 1, 1, 6, 9, 5, 2, 1, 6, ...   \n",
       "0   [36, 2, 7, 5, 2, 8, 6, 5, 21, 5, 30, 7, 2, 2, ...   \n",
       "0   [4, 1, 5, 6, 1, 13, 4, 2, 2, 4, 3, 1, 2, 2, 4,...   \n",
       "0   [2, 2, 9, 3, 1, 4, 2, 5, 6, 3, 3, 1, 2, 1, 2, ...   \n",
       "\n",
       "                                                    T  num_cells  \\\n",
       "2   [2, 4, 4, 3, 2, 1, 3, 3, 1, 7, 3, 6, 2, 1, 7, ...         26   \n",
       "3   [1, 5, 2, 1, 3, 3, 2, 3, 5, 1, 1, 3, 2, 2, 1, ...         33   \n",
       "4   [1, 1, 5, 2, 1, 1, 1, 2, 1, 2, 1, 2, 2, 2, 1, ...         33   \n",
       "9   [1, 2, 1, 2, 1, 1, 2, 1, 3, 1, 1, 1, 1, 1, 2, ...         21   \n",
       "10  [7, 8, 2, 1, 2, 5, 3, 1, 9, 1, 1, 12, 3, 1, 2,...         21   \n",
       "..                                                ...        ...   \n",
       "0   [7, 1, 1, 1, 2, 2, 1, 4, 2, 3, 3, 2, 2, 1, 1, ...         25   \n",
       "0   [2, 1, 1, 1, 1, 1, 1, 1, 1, 3, 5, 3, 1, 1, 3, ...         25   \n",
       "0   [16, 1, 3, 2, 1, 4, 3, 4, 8, 3, 12, 3, 2, 1, 1...         19   \n",
       "0   [3, 1, 4, 5, 1, 10, 3, 2, 2, 2, 2, 1, 1, 2, 2,...         19   \n",
       "0   [1, 2, 4, 1, 1, 2, 1, 3, 4, 2, 2, 1, 2, 1, 2, ...         11   \n",
       "\n",
       "                                             npy_file region    age_days phase  \n",
       "2   /scratch/khengen_lab/crit_sahara/DATA/media/Hl...    CA1   85.813565     B  \n",
       "3   /scratch/khengen_lab/crit_sahara/DATA/media/Hl...    CA1  487.901146     C  \n",
       "4   /scratch/khengen_lab/crit_sahara/DATA/media/Hl...    CA1  487.984479     C  \n",
       "9   /scratch/khengen_lab/crit_sahara/DATA/media/Hl...    CA1  172.648484     B  \n",
       "10  /scratch/khengen_lab/crit_sahara/DATA/media/Hl...    CA1  172.731817     B  \n",
       "..                                                ...    ...         ...   ...  \n",
       "0   /media/HlabShare/Clustering_Data/CAF00102/caf1...    NaN  118.377998   NaN  \n",
       "0   /media/HlabShare/Clustering_Data/CAF00102/caf1...    NaN  118.461331   NaN  \n",
       "0   /media/HlabShare/Clustering_Data/CAF00102/caf1...    NaN  118.544664   NaN  \n",
       "0   /media/HlabShare/Clustering_Data/CAF00102/caf1...    NaN  118.627998   NaN  \n",
       "0   /media/HlabShare/Clustering_Data/CAF00102/caf1...    NaN  118.794664   NaN  \n",
       "\n",
       "[4677 rows x 47 columns]"
      ]
     },
     "execution_count": 126,
     "metadata": {},
     "output_type": "execute_result"
    }
   ],
   "source": [
    "dcc_df_te4 = []\n",
    "dcc_df_te4 = df[df['geno'] == 'te4']\n",
    "dcc_df_te4 = dcc_df_te4[dcc_df_te4.dcc < 1]\n",
    "dcc_df_wt = []\n",
    "dcc_df_wt = df[df['geno'] != 'te4']\n",
    "dcc_df_wt = dcc_df_wt[dcc_df_wt.dcc < 1]\n",
    "dcc_df_wt\n"
   ]
  },
  {
   "cell_type": "code",
   "execution_count": 134,
   "id": "2595aa1e",
   "metadata": {},
   "outputs": [
    {
     "name": "stdout",
     "output_type": "stream",
     "text": [
      "WT DCC linear fit:\n",
      "y = -0.00014*x + 0.20288\n",
      "r sqaured = 0.007842591302717701\n",
      "p = 1.305745901269054e-09\n"
     ]
    }
   ],
   "source": [
    "print('WT DCC linear fit:')\n",
    "deg = 1\n",
    "my_fitting = np.polyfit(dcc_df_wt['age_days'], dcc_df_wt['dcc'], deg, full=True)\n",
    "x = np.linspace(0,500, 500)\n",
    "y = my_fitting[0][0]*x +my_fitting[0][1]\n",
    "print(f'y = {round(my_fitting[0][0], 5)}*x + {round(my_fitting[0][1], 5)}')\n",
    "\n",
    "slope, intercept, r_value, p_value, std_err = scipy.stats.linregress(dcc_df_wt['age_days'], dcc_df_wt['dcc'])\n",
    "print('r squared = ' + str(r_value**2))\n",
    "print('p = ' + str(p_value))\n"
   ]
  },
  {
   "cell_type": "code",
   "execution_count": null,
   "id": "3d5941f3",
   "metadata": {},
   "outputs": [],
   "source": []
  },
  {
   "cell_type": "code",
   "execution_count": 144,
   "id": "206fbc3b",
   "metadata": {},
   "outputs": [
    {
     "data": {
      "text/plain": [
       "0     46.153846\n",
       "1     55.038760\n",
       "2     53.900709\n",
       "3     42.514970\n",
       "4     47.635135\n",
       "        ...    \n",
       "63          NaN\n",
       "64          NaN\n",
       "65          NaN\n",
       "66          NaN\n",
       "67          NaN\n",
       "Name: wtpassed, Length: 68, dtype: float64"
      ]
     },
     "execution_count": 144,
     "metadata": {},
     "output_type": "execute_result"
    }
   ],
   "source": [
    "testdf['wtpassed']"
   ]
  },
  {
   "cell_type": "code",
   "execution_count": 147,
   "id": "75eb80fc",
   "metadata": {},
   "outputs": [
    {
     "name": "stdout",
     "output_type": "stream",
     "text": [
      "y = 0.03997*x + 49.80986\n",
      "r squared = 0.0844309197511726\n",
      "p = 0.06532799666615516\n"
     ]
    }
   ],
   "source": [
    "deg = 1\n",
    "mask = ~np.isnan(testdf['wtpassed'])\n",
    "bins_masked = bins[:-1][mask]\n",
    "wtpassed_masked = np.array(testdf['wtpassed'])[mask]\n",
    "my_fitting = np.polyfit(bins_masked, wtpassed_masked, deg, full=True)\n",
    "x = np.linspace(0, 500, 500)\n",
    "y = my_fitting[0][0]*x + my_fitting[0][1]\n",
    "\n",
    "print(f'y = {round(my_fitting[0][0], 5)}*x + {round(my_fitting[0][1], 5)}')\n",
    "\n",
    "slope, intercept, r_value, p_value, std_err = scipy.stats.linregress(bins_masked, wtpassed_masked)\n",
    "print('r squared = ' + str(r_value**2))\n",
    "print('p = ' + str(p_value))\n",
    "\n",
    "\n"
   ]
  },
  {
   "cell_type": "code",
   "execution_count": null,
   "id": "e2fe5132",
   "metadata": {},
   "outputs": [],
   "source": []
  },
  {
   "cell_type": "code",
   "execution_count": null,
   "id": "2dceb801",
   "metadata": {},
   "outputs": [],
   "source": []
  },
  {
   "cell_type": "code",
   "execution_count": null,
   "id": "1742e226",
   "metadata": {},
   "outputs": [],
   "source": []
  },
  {
   "cell_type": "code",
   "execution_count": null,
   "id": "3ef10207",
   "metadata": {},
   "outputs": [],
   "source": []
  },
  {
   "cell_type": "code",
   "execution_count": null,
   "id": "980ce339",
   "metadata": {},
   "outputs": [],
   "source": []
  },
  {
   "cell_type": "code",
   "execution_count": null,
   "id": "337ada3f",
   "metadata": {},
   "outputs": [],
   "source": []
  },
  {
   "cell_type": "code",
   "execution_count": null,
   "id": "6e47e0f4",
   "metadata": {},
   "outputs": [],
   "source": []
  },
  {
   "cell_type": "code",
   "execution_count": null,
   "id": "57d9ca05",
   "metadata": {},
   "outputs": [],
   "source": []
  },
  {
   "cell_type": "code",
   "execution_count": null,
   "id": "bb653641",
   "metadata": {},
   "outputs": [],
   "source": []
  },
  {
   "cell_type": "code",
   "execution_count": null,
   "id": "3ae7d049",
   "metadata": {},
   "outputs": [],
   "source": []
  },
  {
   "cell_type": "code",
   "execution_count": null,
   "id": "0cec1c66",
   "metadata": {},
   "outputs": [],
   "source": []
  },
  {
   "cell_type": "markdown",
   "id": "d7fcff8b",
   "metadata": {},
   "source": [
    "# LMER on timewake:"
   ]
  },
  {
   "cell_type": "code",
   "execution_count": 96,
   "id": "2b259f4f",
   "metadata": {},
   "outputs": [],
   "source": [
    "# Define a function to categorize age\n",
    "def categorize_age(age):\n",
    "    if age < 91:\n",
    "        return 'young'\n",
    "    elif 91 <= age <= 274:\n",
    "        return 'mid'\n",
    "    else:\n",
    "        return 'old'\n",
    "\n",
    "# Apply the function to the age column to create the age_group column\n",
    "te4_timewake['age_group'] = te4_timewake['Age'].apply(categorize_age)\n",
    "wt_timewake['age_group'] = wt_timewake['Age'].apply(categorize_age)\n",
    "\n"
   ]
  },
  {
   "cell_type": "code",
   "execution_count": 97,
   "id": "22a179c9",
   "metadata": {},
   "outputs": [],
   "source": [
    "timewake_df = pd.concat([te4_timewake, wt_timewake], ignore_index=True)"
   ]
  },
  {
   "cell_type": "code",
   "execution_count": 105,
   "id": "06b57789",
   "metadata": {},
   "outputs": [
    {
     "data": {
      "text/html": [
       "<div>\n",
       "<style scoped>\n",
       "    .dataframe tbody tr th:only-of-type {\n",
       "        vertical-align: middle;\n",
       "    }\n",
       "\n",
       "    .dataframe tbody tr th {\n",
       "        vertical-align: top;\n",
       "    }\n",
       "\n",
       "    .dataframe thead th {\n",
       "        text-align: right;\n",
       "    }\n",
       "</style>\n",
       "<table border=\"1\" class=\"dataframe\">\n",
       "  <thead>\n",
       "    <tr style=\"text-align: right;\">\n",
       "      <th></th>\n",
       "      <th>Animal</th>\n",
       "      <th>Date</th>\n",
       "      <th>State</th>\n",
       "      <th>Time</th>\n",
       "      <th>Age</th>\n",
       "      <th>Genotype</th>\n",
       "      <th>%Wake</th>\n",
       "      <th>%Sleep</th>\n",
       "      <th>age_group</th>\n",
       "      <th>PercentWake</th>\n",
       "      <th>PercentSleep</th>\n",
       "    </tr>\n",
       "  </thead>\n",
       "  <tbody>\n",
       "    <tr>\n",
       "      <th>0</th>\n",
       "      <td>CAF00022</td>\n",
       "      <td>2020-04-20 12:07:45</td>\n",
       "      <td>1</td>\n",
       "      <td>0.558796</td>\n",
       "      <td>63</td>\n",
       "      <td>te4</td>\n",
       "      <td>55.879630</td>\n",
       "      <td>44.120370</td>\n",
       "      <td>young</td>\n",
       "      <td>55.879630</td>\n",
       "      <td>44.120370</td>\n",
       "    </tr>\n",
       "    <tr>\n",
       "      <th>1</th>\n",
       "      <td>CAF00022</td>\n",
       "      <td>2020-04-22 12:07:45</td>\n",
       "      <td>1</td>\n",
       "      <td>0.664537</td>\n",
       "      <td>65</td>\n",
       "      <td>te4</td>\n",
       "      <td>66.453704</td>\n",
       "      <td>33.546296</td>\n",
       "      <td>young</td>\n",
       "      <td>66.453704</td>\n",
       "      <td>33.546296</td>\n",
       "    </tr>\n",
       "    <tr>\n",
       "      <th>2</th>\n",
       "      <td>CAF00022</td>\n",
       "      <td>2020-04-23 12:07:45</td>\n",
       "      <td>1</td>\n",
       "      <td>0.455787</td>\n",
       "      <td>66</td>\n",
       "      <td>te4</td>\n",
       "      <td>45.578704</td>\n",
       "      <td>54.421296</td>\n",
       "      <td>young</td>\n",
       "      <td>45.578704</td>\n",
       "      <td>54.421296</td>\n",
       "    </tr>\n",
       "    <tr>\n",
       "      <th>3</th>\n",
       "      <td>CAF00022</td>\n",
       "      <td>2020-04-25 12:07:45</td>\n",
       "      <td>1</td>\n",
       "      <td>0.426481</td>\n",
       "      <td>68</td>\n",
       "      <td>te4</td>\n",
       "      <td>42.648148</td>\n",
       "      <td>57.351852</td>\n",
       "      <td>young</td>\n",
       "      <td>42.648148</td>\n",
       "      <td>57.351852</td>\n",
       "    </tr>\n",
       "    <tr>\n",
       "      <th>4</th>\n",
       "      <td>CAF00022</td>\n",
       "      <td>2020-04-26 12:07:45</td>\n",
       "      <td>1</td>\n",
       "      <td>0.539074</td>\n",
       "      <td>69</td>\n",
       "      <td>te4</td>\n",
       "      <td>53.907407</td>\n",
       "      <td>46.092593</td>\n",
       "      <td>young</td>\n",
       "      <td>53.907407</td>\n",
       "      <td>46.092593</td>\n",
       "    </tr>\n",
       "    <tr>\n",
       "      <th>...</th>\n",
       "      <td>...</td>\n",
       "      <td>...</td>\n",
       "      <td>...</td>\n",
       "      <td>...</td>\n",
       "      <td>...</td>\n",
       "      <td>...</td>\n",
       "      <td>...</td>\n",
       "      <td>...</td>\n",
       "      <td>...</td>\n",
       "      <td>...</td>\n",
       "      <td>...</td>\n",
       "    </tr>\n",
       "    <tr>\n",
       "      <th>624</th>\n",
       "      <td>KDR00036</td>\n",
       "      <td>2022-02-04 06:03:42</td>\n",
       "      <td>1</td>\n",
       "      <td>0.470880</td>\n",
       "      <td>94</td>\n",
       "      <td>wt</td>\n",
       "      <td>47.087963</td>\n",
       "      <td>52.912037</td>\n",
       "      <td>mid</td>\n",
       "      <td>47.087963</td>\n",
       "      <td>52.912037</td>\n",
       "    </tr>\n",
       "    <tr>\n",
       "      <th>625</th>\n",
       "      <td>KDR00036</td>\n",
       "      <td>2022-02-05 16:21:25</td>\n",
       "      <td>1</td>\n",
       "      <td>0.430417</td>\n",
       "      <td>96</td>\n",
       "      <td>wt</td>\n",
       "      <td>43.041667</td>\n",
       "      <td>56.958333</td>\n",
       "      <td>mid</td>\n",
       "      <td>43.041667</td>\n",
       "      <td>56.958333</td>\n",
       "    </tr>\n",
       "    <tr>\n",
       "      <th>626</th>\n",
       "      <td>KDR00036</td>\n",
       "      <td>2022-02-06 16:21:25</td>\n",
       "      <td>1</td>\n",
       "      <td>0.503426</td>\n",
       "      <td>97</td>\n",
       "      <td>wt</td>\n",
       "      <td>50.342593</td>\n",
       "      <td>49.657407</td>\n",
       "      <td>mid</td>\n",
       "      <td>50.342593</td>\n",
       "      <td>49.657407</td>\n",
       "    </tr>\n",
       "    <tr>\n",
       "      <th>627</th>\n",
       "      <td>KDR00036</td>\n",
       "      <td>2022-02-08 01:21:25</td>\n",
       "      <td>1</td>\n",
       "      <td>0.447407</td>\n",
       "      <td>98</td>\n",
       "      <td>wt</td>\n",
       "      <td>44.740741</td>\n",
       "      <td>55.259259</td>\n",
       "      <td>mid</td>\n",
       "      <td>44.740741</td>\n",
       "      <td>55.259259</td>\n",
       "    </tr>\n",
       "    <tr>\n",
       "      <th>628</th>\n",
       "      <td>KDR00036</td>\n",
       "      <td>2022-02-09 01:21:25</td>\n",
       "      <td>1</td>\n",
       "      <td>0.517593</td>\n",
       "      <td>99</td>\n",
       "      <td>wt</td>\n",
       "      <td>51.759259</td>\n",
       "      <td>48.240741</td>\n",
       "      <td>mid</td>\n",
       "      <td>51.759259</td>\n",
       "      <td>48.240741</td>\n",
       "    </tr>\n",
       "  </tbody>\n",
       "</table>\n",
       "<p>629 rows × 11 columns</p>\n",
       "</div>"
      ],
      "text/plain": [
       "       Animal                 Date  State      Time  Age Genotype      %Wake  \\\n",
       "0    CAF00022  2020-04-20 12:07:45      1  0.558796   63      te4  55.879630   \n",
       "1    CAF00022  2020-04-22 12:07:45      1  0.664537   65      te4  66.453704   \n",
       "2    CAF00022  2020-04-23 12:07:45      1  0.455787   66      te4  45.578704   \n",
       "3    CAF00022  2020-04-25 12:07:45      1  0.426481   68      te4  42.648148   \n",
       "4    CAF00022  2020-04-26 12:07:45      1  0.539074   69      te4  53.907407   \n",
       "..        ...                  ...    ...       ...  ...      ...        ...   \n",
       "624  KDR00036  2022-02-04 06:03:42      1  0.470880   94       wt  47.087963   \n",
       "625  KDR00036  2022-02-05 16:21:25      1  0.430417   96       wt  43.041667   \n",
       "626  KDR00036  2022-02-06 16:21:25      1  0.503426   97       wt  50.342593   \n",
       "627  KDR00036  2022-02-08 01:21:25      1  0.447407   98       wt  44.740741   \n",
       "628  KDR00036  2022-02-09 01:21:25      1  0.517593   99       wt  51.759259   \n",
       "\n",
       "        %Sleep age_group  PercentWake  PercentSleep  \n",
       "0    44.120370     young    55.879630     44.120370  \n",
       "1    33.546296     young    66.453704     33.546296  \n",
       "2    54.421296     young    45.578704     54.421296  \n",
       "3    57.351852     young    42.648148     57.351852  \n",
       "4    46.092593     young    53.907407     46.092593  \n",
       "..         ...       ...          ...           ...  \n",
       "624  52.912037       mid    47.087963     52.912037  \n",
       "625  56.958333       mid    43.041667     56.958333  \n",
       "626  49.657407       mid    50.342593     49.657407  \n",
       "627  55.259259       mid    44.740741     55.259259  \n",
       "628  48.240741       mid    51.759259     48.240741  \n",
       "\n",
       "[629 rows x 11 columns]"
      ]
     },
     "execution_count": 105,
     "metadata": {},
     "output_type": "execute_result"
    }
   ],
   "source": [
    "timewake_df['PercentWake'] = timewake_df['%Wake']\n",
    "timewake_df['PercentSleep'] = timewake_df['%Sleep']\n",
    "timewake_df"
   ]
  },
  {
   "cell_type": "code",
   "execution_count": 103,
   "id": "6f4ccbe8",
   "metadata": {},
   "outputs": [],
   "source": [
    "timewake_df.to_csv(f'/media/HlabShare/te4_manuscript_james/manuscript_folders/{today}_timewake_ML_grouped_e4_wt.csv')\n"
   ]
  },
  {
   "cell_type": "code",
   "execution_count": 104,
   "id": "6638f0ce",
   "metadata": {},
   "outputs": [
    {
     "name": "stdout",
     "output_type": "stream",
     "text": [
      "The rpy2.ipython extension is already loaded. To reload it, use:\n",
      "  %reload_ext rpy2.ipython\n"
     ]
    }
   ],
   "source": [
    "from rpy2.robjects.packages import importr\n",
    "from rpy2.robjects.vectors import StrVector\n",
    "\n",
    "%load_ext rpy2.ipython\n",
    "# Enable cell magic for Rpy2 interface"
   ]
  },
  {
   "cell_type": "code",
   "execution_count": 111,
   "id": "65a894a9",
   "metadata": {},
   "outputs": [
    {
     "name": "stdout",
     "output_type": "stream",
     "text": [
      "New names:\n",
      "• `` -> `...1`\n",
      "Rows: 629 Columns: 12\n",
      "── Column specification ────────────────────────────────────────────────────────\n",
      "Delimiter: \",\"\n",
      "chr  (3): Animal, Genotype, age_group\n",
      "dbl  (8): ...1, State, Time, Age, %Wake, %Sleep, PercentWake, PercentSleep\n",
      "dttm (1): Date\n",
      "\n",
      "ℹ Use `spec()` to retrieve the full column specification for this data.\n",
      "ℹ Specify the column types or set `show_col_types = FALSE` to quiet this message.\n"
     ]
    }
   ],
   "source": [
    "%%R\n",
    "\n",
    "# load LMER libraries\n",
    "library(tidyverse)\n",
    "library(lme4)\n",
    "library(lmerTest)\n",
    "library(emmeans)\n",
    "# load dataset in R\n",
    "#fn = '/media/HlabShare/te4_manuscript_james/manuscript_folders/FR_by_SW_grouped_e4_wt.csv'\n",
    "\n",
    "fn = '/media/HlabShare/te4_manuscript_james/manuscript_folders/2023-08-15_timewake_ML_grouped_e4_wt.csv'\n",
    "wake_data <- read_csv(file = fn)\n",
    "\n",
    "#fr_lmer = lmer(firing_rates ~ age_group * geno * state * cell_type  + (1|animal), data = filtered_data)\n",
    "wake_lmer = lmer(PercentWake ~ age_group * Genotype  + (1|Animal), data = wake_data)\n"
   ]
  },
  {
   "cell_type": "code",
   "execution_count": 112,
   "id": "a7c35cbe",
   "metadata": {},
   "outputs": [
    {
     "name": "stdout",
     "output_type": "stream",
     "text": [
      "Linear mixed model fit by REML. t-tests use Satterthwaite's method [\n",
      "lmerModLmerTest]\n",
      "Formula: PercentWake ~ age_group * Genotype + (1 | Animal)\n",
      "   Data: wake_data\n",
      "\n",
      "REML criterion at convergence: 4514.9\n",
      "\n",
      "Scaled residuals: \n",
      "    Min      1Q  Median      3Q     Max \n",
      "-3.5644 -0.4993 -0.0599  0.4021  3.2775 \n",
      "\n",
      "Random effects:\n",
      " Groups   Name        Variance Std.Dev.\n",
      " Animal   (Intercept) 37.07    6.089   \n",
      " Residual             71.90    8.480   \n",
      "Number of obs: 629, groups:  Animal, 32\n",
      "\n",
      "Fixed effects:\n",
      "                          Estimate Std. Error      df t value Pr(>|t|)    \n",
      "(Intercept)                 54.687      2.448  24.978  22.343  < 2e-16 ***\n",
      "age_groupold                17.894      4.667  28.964   3.834 0.000628 ***\n",
      "age_groupyoung               2.887      1.537 620.857   1.878 0.060909 .  \n",
      "Genotypewt                  -3.676      3.098  27.938  -1.187 0.245407    \n",
      "age_groupold:Genotypewt    -17.722      5.623  30.142  -3.152 0.003652 ** \n",
      "age_groupyoung:Genotypewt   -3.442      2.299 555.166  -1.497 0.134927    \n",
      "---\n",
      "Signif. codes:  0 ‘***’ 0.001 ‘**’ 0.01 ‘*’ 0.05 ‘.’ 0.1 ‘ ’ 1\n",
      "\n",
      "Correlation of Fixed Effects:\n",
      "            (Intr) ag_grpl ag_grpy Gntypw ag_grpl:G\n",
      "age_groupld -0.524                                 \n",
      "age_gropyng -0.172  0.090                          \n",
      "Genotypewt  -0.790  0.414   0.136                  \n",
      "ag_grpld:Gn  0.435 -0.830  -0.075  -0.551          \n",
      "ag_grpyng:G  0.115 -0.060  -0.669  -0.269  0.148   \n"
     ]
    }
   ],
   "source": [
    "%%R \n",
    "# this will provide general information\n",
    "summary(wake_lmer)\n"
   ]
  },
  {
   "cell_type": "code",
   "execution_count": 113,
   "id": "6833b724",
   "metadata": {},
   "outputs": [
    {
     "name": "stdout",
     "output_type": "stream",
     "text": [
      "Type III Analysis of Variance Table with Satterthwaite's method\n",
      "                    Sum Sq Mean Sq NumDF  DenDF F value    Pr(>F)    \n",
      "age_group           763.53  381.76     2 56.224  5.3094 0.0077244 ** \n",
      "Genotype           1284.25 1284.25     1 27.121 17.8608 0.0002409 ***\n",
      "age_group:Genotype  792.30  396.15     2 56.224  5.5095 0.0065313 ** \n",
      "---\n",
      "Signif. codes:  0 ‘***’ 0.001 ‘**’ 0.01 ‘*’ 0.05 ‘.’ 0.1 ‘ ’ 1\n"
     ]
    }
   ],
   "source": [
    "%%R\n",
    "# This will give us feedback about whether the main effects are significant \n",
    "anova(wake_lmer)\n"
   ]
  },
  {
   "cell_type": "code",
   "execution_count": 115,
   "id": "c89e59f3",
   "metadata": {},
   "outputs": [
    {
     "name": "stdout",
     "output_type": "stream",
     "text": [
      "$emmeans\n",
      " age_group Genotype emmean   SE   df lower.CL upper.CL\n",
      " mid       te4        54.7 2.45 24.9     49.6     59.7\n",
      " old       te4        72.6 3.98 30.6     64.5     80.7\n",
      " young     te4        57.6 2.66 33.9     52.2     63.0\n",
      " mid       wt         51.0 1.90 34.0     47.1     54.9\n",
      " old       wt         51.2 2.50 32.3     46.1     56.3\n",
      " young     wt         50.5 2.00 39.5     46.4     54.5\n",
      "\n",
      "Degrees-of-freedom method: kenward-roger \n",
      "Confidence level used: 0.95 \n",
      "\n",
      "$contrasts\n",
      " contrast             estimate   SE    df t.ratio p.value\n",
      " mid te4 - old te4     -17.894 4.67  28.9  -3.829  0.0076\n",
      " mid te4 - young te4    -2.887 1.54 620.9  -1.873  0.4200\n",
      " mid te4 - mid wt        3.676 3.10  27.8   1.185  0.8401\n",
      " mid te4 - old wt        3.504 3.50  28.3   1.001  0.9136\n",
      " mid te4 - young wt      4.231 3.16  29.6   1.337  0.7624\n",
      " old te4 - young te4    15.007 4.79  31.6   3.135  0.0393\n",
      " old te4 - mid wt       21.570 4.41  31.2   4.890  0.0004\n",
      " old te4 - old wt       21.398 4.70  31.1   4.553  0.0010\n",
      " old te4 - young wt     22.125 4.46  32.2   4.966  0.0003\n",
      " young te4 - mid wt      6.563 3.27  34.0   2.007  0.3597\n",
      " young te4 - old wt      6.391 3.65  33.1   1.751  0.5096\n",
      " young te4 - young wt    7.118 3.33  35.8   2.138  0.2919\n",
      " mid wt - old wt        -0.172 3.14  32.9  -0.055  1.0000\n",
      " mid wt - young wt       0.555 1.73 425.5   0.321  0.9995\n",
      " old wt - young wt       0.727 3.20  34.9   0.227  0.9999\n",
      "\n",
      "Degrees-of-freedom method: kenward-roger \n",
      "P value adjustment: tukey method for comparing a family of 6 estimates \n",
      "\n"
     ]
    }
   ],
   "source": [
    "%%R\n",
    "emmresults = emmeans(wake_lmer, pairwise ~  age_group * Genotype, adjust = 'tukey')\n",
    "print(emmresults)\n"
   ]
  },
  {
   "cell_type": "code",
   "execution_count": null,
   "id": "287e4dfd",
   "metadata": {},
   "outputs": [],
   "source": []
  },
  {
   "cell_type": "code",
   "execution_count": null,
   "id": "f76f5bf5",
   "metadata": {},
   "outputs": [],
   "source": []
  },
  {
   "cell_type": "code",
   "execution_count": null,
   "id": "3ccf0198",
   "metadata": {},
   "outputs": [],
   "source": []
  },
  {
   "cell_type": "code",
   "execution_count": null,
   "id": "6098f671",
   "metadata": {},
   "outputs": [],
   "source": []
  },
  {
   "cell_type": "code",
   "execution_count": null,
   "id": "6ddf9783",
   "metadata": {},
   "outputs": [],
   "source": []
  },
  {
   "cell_type": "code",
   "execution_count": null,
   "id": "af420912",
   "metadata": {},
   "outputs": [],
   "source": []
  },
  {
   "cell_type": "code",
   "execution_count": null,
   "id": "586db9ed",
   "metadata": {},
   "outputs": [],
   "source": []
  },
  {
   "cell_type": "code",
   "execution_count": null,
   "id": "b3dfe21e",
   "metadata": {},
   "outputs": [],
   "source": []
  },
  {
   "cell_type": "code",
   "execution_count": null,
   "id": "66fce1a6",
   "metadata": {},
   "outputs": [],
   "source": []
  },
  {
   "cell_type": "code",
   "execution_count": null,
   "id": "c6b5c701",
   "metadata": {},
   "outputs": [],
   "source": []
  },
  {
   "cell_type": "code",
   "execution_count": null,
   "id": "7840730e",
   "metadata": {},
   "outputs": [],
   "source": []
  },
  {
   "cell_type": "code",
   "execution_count": null,
   "id": "031aaaf9",
   "metadata": {},
   "outputs": [],
   "source": []
  },
  {
   "cell_type": "code",
   "execution_count": null,
   "id": "20112a6f",
   "metadata": {},
   "outputs": [],
   "source": []
  },
  {
   "cell_type": "code",
   "execution_count": null,
   "id": "3d072614",
   "metadata": {},
   "outputs": [],
   "source": []
  },
  {
   "cell_type": "code",
   "execution_count": 68,
   "id": "a3b93d32",
   "metadata": {},
   "outputs": [
    {
     "data": {
      "text/plain": [
       "array([71.42857143, 76.62337662, 69.5       , 78.47222222, 79.48717949,\n",
       "       71.37681159, 67.21311475, 69.87951807, 72.31404959, 65.78947368,\n",
       "       69.56521739, 69.23076923, 70.23809524, 68.96551724, 69.3877551 ,\n",
       "       63.63636364, 78.31325301, 63.63636364, 64.51612903, 86.53846154,\n",
       "       56.30252101, 38.46153846, 32.96703297, 30.43478261, 38.39285714,\n",
       "       34.69387755, 23.94366197, 40.32258065, 66.66666667, 75.        ,\n",
       "       87.5       , 70.88607595, 25.42372881, 11.26760563, 28.        ,\n",
       "       43.90243902, 16.66666667,  0.        , 31.57894737, 22.58064516,\n",
       "        1.85185185,  2.98507463,  5.55555556,  0.        ])"
      ]
     },
     "execution_count": 68,
     "metadata": {},
     "output_type": "execute_result"
    }
   ],
   "source": [
    "te4passed_masked"
   ]
  },
  {
   "cell_type": "code",
   "execution_count": 69,
   "id": "92e1eb86",
   "metadata": {},
   "outputs": [
    {
     "data": {
      "text/plain": [
       "array([ 50,  57,  64,  71,  78,  85,  92,  99, 106, 113, 120, 127, 134,\n",
       "       141, 148, 155, 162, 169, 176, 183, 190, 197, 204, 211, 218, 225,\n",
       "       232, 239, 246, 253, 260, 267, 274, 281, 288, 295, 302, 309, 316,\n",
       "       323, 330, 337, 344, 351, 358, 365, 372, 379, 386, 393, 400, 407,\n",
       "       414, 421, 428, 435, 442, 449, 456, 463, 470, 477, 484, 491, 498,\n",
       "       505, 512, 519])"
      ]
     },
     "execution_count": 69,
     "metadata": {},
     "output_type": "execute_result"
    }
   ],
   "source": [
    "bins[:-1]"
   ]
  },
  {
   "cell_type": "code",
   "execution_count": 46,
   "id": "a2f4cdcc",
   "metadata": {},
   "outputs": [
    {
     "data": {
      "text/plain": [
       "array([71.42857143, 76.62337662, 69.5       , 78.47222222, 79.48717949,\n",
       "       71.37681159, 67.21311475, 69.87951807, 72.31404959, 65.78947368,\n",
       "       69.56521739, 69.23076923, 70.23809524, 68.96551724, 69.3877551 ,\n",
       "       63.63636364, 78.31325301, 63.63636364, 64.51612903, 86.53846154,\n",
       "       56.30252101, 38.46153846, 32.96703297, 30.43478261, 38.39285714,\n",
       "       34.69387755, 23.94366197, 40.32258065, 66.66666667, 75.        ,\n",
       "               nan, 87.5       ,         nan,         nan,         nan,\n",
       "       70.88607595, 25.42372881, 11.26760563, 28.        , 43.90243902,\n",
       "       16.66666667,  0.        , 31.57894737, 22.58064516,         nan,\n",
       "        1.85185185,  2.98507463,  5.55555556,  0.        ,         nan,\n",
       "               nan,         nan,         nan,         nan,         nan,\n",
       "               nan,         nan,         nan,         nan,         nan,\n",
       "               nan,         nan,         nan,         nan,         nan,\n",
       "               nan,         nan,         nan])"
      ]
     },
     "execution_count": 46,
     "metadata": {},
     "output_type": "execute_result"
    }
   ],
   "source": [
    "np.array(testdf['te4passed'])"
   ]
  },
  {
   "cell_type": "code",
   "execution_count": null,
   "id": "5662a089",
   "metadata": {},
   "outputs": [],
   "source": []
  },
  {
   "cell_type": "code",
   "execution_count": null,
   "id": "a8af74f4",
   "metadata": {},
   "outputs": [],
   "source": []
  },
  {
   "cell_type": "code",
   "execution_count": null,
   "id": "004730b2",
   "metadata": {},
   "outputs": [],
   "source": []
  },
  {
   "cell_type": "code",
   "execution_count": 15,
   "id": "993bfcc8",
   "metadata": {},
   "outputs": [],
   "source": [
    "SAVEFIGS = 0"
   ]
  },
  {
   "cell_type": "code",
   "execution_count": 16,
   "id": "45597121",
   "metadata": {},
   "outputs": [
    {
     "name": "stdout",
     "output_type": "stream",
     "text": [
      "Max cross-correlation at a lag of -4\n"
     ]
    },
    {
     "data": {
      "text/plain": [
       "[<matplotlib.lines.Line2D at 0x7f209bb72a90>]"
      ]
     },
     "execution_count": 16,
     "metadata": {},
     "output_type": "execute_result"
    },
    {
     "data": {
      "image/png": "[encoded data removed]",
      "text/plain": [
       "<Figure size 432x288 with 1 Axes>"
      ]
     },
     "metadata": {
      "needs_background": "light"
     },
     "output_type": "display_data"
    }
   ],
   "source": [
    "from scipy import signal\n",
    "\n",
    "# Assume you have two datasets x1, y1 and x2, y2\n",
    "x1 = np.random.rand(100)\n",
    "y1 = 3 * x1 + np.random.normal(size=100)\n",
    "x2 = np.random.rand(100)\n",
    "y2 = 2 * x2 + np.random.normal(size=100)\n",
    "\n",
    "# Fit polynomials\n",
    "deg = 1  # degree of polynomial for linear fit\n",
    "p1 = np.polyfit(x1, y1, deg)\n",
    "p2 = np.polyfit(x2, y2, deg)\n",
    "y1_fit = np.polyval(p1, x1)\n",
    "y2_fit = np.polyval(p2, x2)\n",
    "sns.regplot(x=x1, y=y1)\n",
    "sns.regplot(x=x2, y=y2)\n",
    "\n",
    "# Calculate cross-correlation\n",
    "xcorr = signal.correlate(y1_fit, y2_fit)\n",
    "lags = signal.correlation_lags(len(y1_fit), len(y2_fit))\n",
    "# Find the lag with maximum cross-correlation\n",
    "lag_max_corr = lags[np.argmax(xcorr)]\n",
    "print(f\"Max cross-correlation at a lag of {lag_max_corr}\")\n",
    "\n",
    "plt.plot(lags, xcorr)\n"
   ]
  },
  {
   "cell_type": "code",
   "execution_count": null,
   "id": "fc9ba1e7",
   "metadata": {},
   "outputs": [],
   "source": []
  },
  {
   "cell_type": "code",
   "execution_count": null,
   "id": "5a4dc199",
   "metadata": {},
   "outputs": [],
   "source": []
  },
  {
   "cell_type": "code",
   "execution_count": null,
   "id": "a7637a58",
   "metadata": {},
   "outputs": [],
   "source": []
  },
  {
   "cell_type": "code",
   "execution_count": null,
   "id": "b2a1c91e",
   "metadata": {},
   "outputs": [],
   "source": []
  },
  {
   "cell_type": "code",
   "execution_count": null,
   "id": "3a78644a",
   "metadata": {},
   "outputs": [],
   "source": []
  },
  {
   "cell_type": "code",
   "execution_count": null,
   "id": "b5c214a3",
   "metadata": {},
   "outputs": [],
   "source": []
  },
  {
   "cell_type": "code",
   "execution_count": null,
   "id": "56ab55a5",
   "metadata": {},
   "outputs": [],
   "source": []
  },
  {
   "cell_type": "code",
   "execution_count": null,
   "id": "4828f8c8",
   "metadata": {},
   "outputs": [],
   "source": []
  },
  {
   "cell_type": "code",
   "execution_count": null,
   "id": "40921f77",
   "metadata": {},
   "outputs": [],
   "source": []
  },
  {
   "cell_type": "code",
   "execution_count": null,
   "id": "7b38ec48",
   "metadata": {},
   "outputs": [],
   "source": []
  },
  {
   "cell_type": "code",
   "execution_count": null,
   "id": "eafc92b5",
   "metadata": {},
   "outputs": [],
   "source": []
  },
  {
   "cell_type": "code",
   "execution_count": null,
   "id": "a14ccab3",
   "metadata": {},
   "outputs": [],
   "source": []
  },
  {
   "cell_type": "code",
   "execution_count": null,
   "id": "1af84330",
   "metadata": {},
   "outputs": [],
   "source": []
  },
  {
   "cell_type": "code",
   "execution_count": null,
   "id": "a1f7d0e6",
   "metadata": {},
   "outputs": [],
   "source": []
  },
  {
   "cell_type": "code",
   "execution_count": null,
   "id": "d74b3d26",
   "metadata": {},
   "outputs": [],
   "source": []
  },
  {
   "cell_type": "code",
   "execution_count": null,
   "id": "89071818",
   "metadata": {},
   "outputs": [],
   "source": []
  },
  {
   "cell_type": "code",
   "execution_count": null,
   "id": "dfc60742",
   "metadata": {},
   "outputs": [],
   "source": []
  },
  {
   "cell_type": "code",
   "execution_count": null,
   "id": "e880e3f7",
   "metadata": {},
   "outputs": [],
   "source": []
  },
  {
   "cell_type": "code",
   "execution_count": 29,
   "id": "8301ebdf",
   "metadata": {},
   "outputs": [
    {
     "data": {
      "text/html": [
       "<div>\n",
       "<style scoped>\n",
       "    .dataframe tbody tr th:only-of-type {\n",
       "        vertical-align: middle;\n",
       "    }\n",
       "\n",
       "    .dataframe tbody tr th {\n",
       "        vertical-align: top;\n",
       "    }\n",
       "\n",
       "    .dataframe thead th {\n",
       "        text-align: right;\n",
       "    }\n",
       "</style>\n",
       "<table border=\"1\" class=\"dataframe\">\n",
       "  <thead>\n",
       "    <tr style=\"text-align: right;\">\n",
       "      <th></th>\n",
       "      <th>Xs</th>\n",
       "      <th>wtpassed</th>\n",
       "      <th>te4passed</th>\n",
       "    </tr>\n",
       "  </thead>\n",
       "  <tbody>\n",
       "    <tr>\n",
       "      <th>0</th>\n",
       "      <td>50</td>\n",
       "      <td>46.153846</td>\n",
       "      <td>71.428571</td>\n",
       "    </tr>\n",
       "    <tr>\n",
       "      <th>1</th>\n",
       "      <td>57</td>\n",
       "      <td>55.038760</td>\n",
       "      <td>76.623377</td>\n",
       "    </tr>\n",
       "    <tr>\n",
       "      <th>2</th>\n",
       "      <td>64</td>\n",
       "      <td>53.900709</td>\n",
       "      <td>69.500000</td>\n",
       "    </tr>\n",
       "    <tr>\n",
       "      <th>3</th>\n",
       "      <td>71</td>\n",
       "      <td>42.514970</td>\n",
       "      <td>78.472222</td>\n",
       "    </tr>\n",
       "    <tr>\n",
       "      <th>4</th>\n",
       "      <td>78</td>\n",
       "      <td>47.635135</td>\n",
       "      <td>79.487179</td>\n",
       "    </tr>\n",
       "    <tr>\n",
       "      <th>...</th>\n",
       "      <td>...</td>\n",
       "      <td>...</td>\n",
       "      <td>...</td>\n",
       "    </tr>\n",
       "    <tr>\n",
       "      <th>63</th>\n",
       "      <td>491</td>\n",
       "      <td>NaN</td>\n",
       "      <td>NaN</td>\n",
       "    </tr>\n",
       "    <tr>\n",
       "      <th>64</th>\n",
       "      <td>498</td>\n",
       "      <td>NaN</td>\n",
       "      <td>NaN</td>\n",
       "    </tr>\n",
       "    <tr>\n",
       "      <th>65</th>\n",
       "      <td>505</td>\n",
       "      <td>NaN</td>\n",
       "      <td>NaN</td>\n",
       "    </tr>\n",
       "    <tr>\n",
       "      <th>66</th>\n",
       "      <td>512</td>\n",
       "      <td>NaN</td>\n",
       "      <td>NaN</td>\n",
       "    </tr>\n",
       "    <tr>\n",
       "      <th>67</th>\n",
       "      <td>519</td>\n",
       "      <td>NaN</td>\n",
       "      <td>NaN</td>\n",
       "    </tr>\n",
       "  </tbody>\n",
       "</table>\n",
       "<p>68 rows × 3 columns</p>\n",
       "</div>"
      ],
      "text/plain": [
       "     Xs   wtpassed  te4passed\n",
       "0    50  46.153846  71.428571\n",
       "1    57  55.038760  76.623377\n",
       "2    64  53.900709  69.500000\n",
       "3    71  42.514970  78.472222\n",
       "4    78  47.635135  79.487179\n",
       "..  ...        ...        ...\n",
       "63  491        NaN        NaN\n",
       "64  498        NaN        NaN\n",
       "65  505        NaN        NaN\n",
       "66  512        NaN        NaN\n",
       "67  519        NaN        NaN\n",
       "\n",
       "[68 rows x 3 columns]"
      ]
     },
     "execution_count": 29,
     "metadata": {},
     "output_type": "execute_result"
    }
   ],
   "source": [
    "testdf"
   ]
  },
  {
   "cell_type": "code",
   "execution_count": 17,
   "id": "15a5bd8a",
   "metadata": {},
   "outputs": [
    {
     "data": {
      "image/png": "[encoded data removed]",
      "text/plain": [
       "<Figure size 216x216 with 2 Axes>"
      ]
     },
     "metadata": {},
     "output_type": "display_data"
    }
   ],
   "source": [
    "fig, ax1 = plt.subplots(figsize = [3,3])\n",
    "ax2 = ax1.twinx()\n",
    "\n",
    "g = sns.regplot(x = 'age_days', y= 'dcc', data = df[df['geno'] == 'te4'], order=2, color = sns.xkcd_rgb['greenish blue'], label='TE4', scatter=False, ax=ax1)\n",
    "g2 = sns.regplot(x = 'Age', y= '%Wake', data = SW[SW['Genotype'] == 'TE4'], order=2, color = sns.xkcd_rgb['lilac'], label='TE4', scatter=False, ax=ax2)\n",
    "\n",
    "plt.xlim([30,400])\n",
    "plt.xticks(fontsize = 11)\n",
    "plt.yticks(fontsize = 11)\n",
    "ax1.set_xlabel('Age (days)', fontsize = 12)\n",
    "ax1.set_ylabel('DCC', fontsize = 12, color=sns.xkcd_rgb['greenish blue'])\n",
    "ax1.set_yticks(np.arange(0,.42,.05),np.around(np.arange(0,.42,.05),3),color=sns.xkcd_rgb['greenish blue'])\n",
    "ax2.set_ylabel('% of Day Spent Awake', fontsize = 12, color=sns.xkcd_rgb['lilac'])\n",
    "ax2.set_yticks(np.arange(45,82,5),np.around(np.arange(45,82,5),1),color=sns.xkcd_rgb['lilac'])\n",
    "\n",
    "#plt.text(3,2.1,'n.s.', color=sns.xkcd_rgb['sea green'])\n",
    "#plt.text(3,2,'n.s.', color=sns.xkcd_rgb['indigo'])\n",
    "\n",
    "sns.despine(top=True, right=False)\n",
    "\n",
    "plt.title('DCC and time spent awake in TE4 mice', fontsize=12)\n",
    "\n",
    "if SAVEFIGS:\n",
    "    plt.savefig(f'/{basedir}/HlabShare/te4_manuscript_james/manuscript_folders/UPDATED_Fig6_figures/{today}_TimeAwake_vs_DCC_overlay.pdf')\n",
    "    \n"
   ]
  },
  {
   "cell_type": "code",
   "execution_count": null,
   "id": "3155bf69",
   "metadata": {},
   "outputs": [],
   "source": []
  },
  {
   "cell_type": "code",
   "execution_count": null,
   "id": "c65e2cd7",
   "metadata": {},
   "outputs": [],
   "source": []
  },
  {
   "cell_type": "code",
   "execution_count": null,
   "id": "1558d07f",
   "metadata": {},
   "outputs": [],
   "source": []
  },
  {
   "cell_type": "code",
   "execution_count": null,
   "id": "f4b9f0a0",
   "metadata": {},
   "outputs": [],
   "source": []
  },
  {
   "cell_type": "code",
   "execution_count": null,
   "id": "df3f3b18",
   "metadata": {},
   "outputs": [],
   "source": []
  },
  {
   "cell_type": "code",
   "execution_count": null,
   "id": "0f815377",
   "metadata": {},
   "outputs": [],
   "source": []
  },
  {
   "cell_type": "code",
   "execution_count": null,
   "id": "5cab4dda",
   "metadata": {},
   "outputs": [],
   "source": []
  },
  {
   "cell_type": "code",
   "execution_count": null,
   "id": "27c89b73",
   "metadata": {},
   "outputs": [],
   "source": []
  },
  {
   "cell_type": "code",
   "execution_count": null,
   "id": "bc85ec58",
   "metadata": {},
   "outputs": [],
   "source": []
  },
  {
   "cell_type": "code",
   "execution_count": null,
   "id": "bd0bda9e",
   "metadata": {},
   "outputs": [],
   "source": []
  },
  {
   "cell_type": "code",
   "execution_count": 18,
   "id": "cdf77792",
   "metadata": {},
   "outputs": [
    {
     "name": "stdout",
     "output_type": "stream",
     "text": [
      "AIC for TE4, order 1 = 92.76186448866025\n",
      "AIC for TE4, order 2 = 83.03649118681183\n",
      "AIC for TE4, order 3 = 84.88981525471098\n",
      "AIC for TE4, order 4 = 86.60487521179341\n",
      "AIC for TE4, order 5 = 85.89510334162951\n",
      "AIC for WT, order 1  = 82.84695865314522\n",
      "AIC for WT, order 2  = 84.43304237395941\n",
      "AIC for WT, order 3  = 85.94246894143288\n",
      "AIC for WT, order 4  = 86.00999467657363\n",
      "AIC for WT, order 5  = 87.82740458755524\n"
     ]
    }
   ],
   "source": [
    "tmpdf_TE4 = SW[SW['Genotype'] == 'TE4']\n",
    "tmpdf_WT = SW[SW['Genotype'] == 'WT']\n",
    "\n",
    "for a in np.arange(0,5):\n",
    "    deg = a+1\n",
    "    my_fitting = np.polyfit(tmpdf_TE4['Age'], tmpdf_TE4['%Wake'], deg, full=True)\n",
    "    SSE = my_fitting[1][0]\n",
    "    N = len(tmpdf_TE4['Age'])\n",
    "    K = deg + 1\n",
    "\n",
    "    AIC = N * np.log(SSE/N) + 2*K\n",
    "    print(f'AIC for TE4, order {deg} = {AIC}')\n",
    "    \n",
    "for a in np.arange(0,5):\n",
    "    deg = a+1\n",
    "    my_fitting = np.polyfit(tmpdf_WT['Age'], tmpdf_WT['%Wake'], deg, full=True)\n",
    "    SSE = my_fitting[1][0]\n",
    "    N = len(tmpdf_WT['Age'])\n",
    "    K = deg + 1\n",
    "\n",
    "    AIC = N * np.log(SSE/N) + 2*K\n",
    "    print(f'AIC for WT, order {deg}  = {AIC}')"
   ]
  },
  {
   "cell_type": "code",
   "execution_count": 19,
   "id": "bd6e6e3a",
   "metadata": {},
   "outputs": [
    {
     "name": "stdout",
     "output_type": "stream",
     "text": [
      "Inflection point of Time Spent Awake data: 134\n",
      "Inflection point of DCC data: 115\n"
     ]
    }
   ],
   "source": [
    "deg = 2\n",
    "my_fitting = np.polyfit(tmpdf_TE4['Age'], tmpdf_TE4['%Wake'], deg, full=True)\n",
    "SSE = my_fitting[1][0]\n",
    "N = len(tmpdf_TE4['Age'])\n",
    "K = deg\n",
    "a = my_fitting[0][0]\n",
    "b = my_fitting[0][1]\n",
    "c = my_fitting[0][2]\n",
    "x = np.linspace(0,500, 500)\n",
    "y = a*x**2 + b*x + c\n",
    "dy = np.diff(y) # first derivative\n",
    "\n",
    "print(f'Inflection point of Time Spent Awake data: {np.min(np.where(dy > 0))}')\n",
    "\n",
    "deg = 2\n",
    "\n",
    "dcc_df = []\n",
    "dcc_df = df[df['geno'] == 'te4']\n",
    "dcc_df = dcc_df[dcc_df.dcc < 1]\n",
    "my_fitting = np.polyfit(dcc_df['age_days'], dcc_df['dcc'], deg, full=True)\n",
    "SSE = my_fitting[1][0]\n",
    "N = len(dcc_df)\n",
    "K = deg\n",
    "a = my_fitting[0][0]\n",
    "b = my_fitting[0][1]\n",
    "c = my_fitting[0][2]\n",
    "x = np.linspace(0,500, 500)\n",
    "y = a*x**2 + b*x + c\n",
    "dy = np.diff(y) # first derivative\n",
    "\n",
    "print(f'Inflection point of DCC data: {np.min(np.where(dy > 0))}')\n",
    "\n"
   ]
  },
  {
   "cell_type": "code",
   "execution_count": 20,
   "id": "4d5cbe7b",
   "metadata": {},
   "outputs": [
    {
     "data": {
      "image/png": "[encoded data removed]",
      "text/plain": [
       "<Figure size 144x144 with 1 Axes>"
      ]
     },
     "metadata": {
      "needs_background": "light"
     },
     "output_type": "display_data"
    },
    {
     "data": {
      "image/png": "[encoded data removed]",
      "text/plain": [
       "<Figure size 144x144 with 1 Axes>"
      ]
     },
     "metadata": {
      "needs_background": "light"
     },
     "output_type": "display_data"
    },
    {
     "data": {
      "image/png": "[encoded data removed]",
      "text/plain": [
       "<Figure size 144x144 with 1 Axes>"
      ]
     },
     "metadata": {
      "needs_background": "light"
     },
     "output_type": "display_data"
    }
   ],
   "source": [
    "bins = [0, 91, 274, 500]\n",
    "labels = [1,2,3]\n",
    "\n",
    "SW['binned'] = pd.cut(SW['Age'], bins=bins, labels=labels)\n",
    "SW\n",
    "\n",
    "plt.figure(figsize=(2,2))\n",
    "sns.barplot(x = 'binned', hue='Genotype',palette = [sns.xkcd_rgb['gunmetal'],sns.xkcd_rgb['saffron']],\n",
    "    y = '%Wake', data = SW, errwidth = 1)\n",
    "\n",
    "#plt.ylim([0,100])\n",
    "plt.legend(fontsize=10)\n",
    "plt.xticks([0,1,2], ['<3','3-9','>9'], fontsize=11)\n",
    "plt.xlabel('Age (months)', fontsize=12)\n",
    "plt.yticks(fontsize=11)\n",
    "plt.ylabel('Time spent awake (%)', fontsize=12)\n",
    "sns.despine()\n",
    "\n",
    "if SAVEFIGS:\n",
    "    plt.savefig(f'/{basedir}/HlabShare/te4_manuscript_james/manuscript_folders/te4_figure_5/{today}_AmtWAKE_by_geno_barplot.pdf')\n",
    "    \n",
    "plt.figure(figsize=(2,2))\n",
    "sns.barplot(x = 'binned', hue='Genotype',palette = [sns.xkcd_rgb['gunmetal'],sns.xkcd_rgb['saffron']],\n",
    "    y = '%NREM', data = SW, errwidth = 1)\n",
    "\n",
    "#plt.ylim([0,100])\n",
    "plt.legend(fontsize=10)\n",
    "plt.xticks([0,1,2], ['<3','3-9','>9'], fontsize=11)\n",
    "plt.xlabel('Age (months)', fontsize=12)\n",
    "plt.yticks(fontsize=11)\n",
    "plt.ylabel('Time spent in NREM (%)', fontsize=12)\n",
    "sns.despine()\n",
    "\n",
    "if SAVEFIGS:\n",
    "    plt.savefig(f'/{basedir}/HlabShare/te4_manuscript_james/manuscript_folders/te4_figure_5/{today}_AmtNREM_by_geno_barplot.pdf')\n",
    "  \n",
    "\n",
    "plt.figure(figsize=(2,2))\n",
    "sns.barplot(x = 'binned', hue='Genotype',palette = [sns.xkcd_rgb['gunmetal'],sns.xkcd_rgb['saffron']],\n",
    "    y = '%REM', data = SW, errwidth = 1)\n",
    "\n",
    "#plt.ylim([0,100])\n",
    "plt.legend(fontsize=10)\n",
    "plt.xticks([0,1,2], ['<3','3-9','>9'], fontsize=11)\n",
    "plt.xlabel('Age (months)', fontsize=12)\n",
    "plt.yticks(fontsize=11)\n",
    "plt.ylabel('Time spent in REM (%)', fontsize=12)\n",
    "sns.despine()\n",
    "\n",
    "if SAVEFIGS:\n",
    "    plt.savefig(f'/{basedir}/HlabShare/te4_manuscript_james/manuscript_folders/te4_figure_5/{today}_AmtREM_by_geno_barplot.pdf')\n",
    "  \n"
   ]
  },
  {
   "cell_type": "code",
   "execution_count": null,
   "id": "9b906fe2",
   "metadata": {},
   "outputs": [],
   "source": [
    "from scipy import stats \n",
    "print('Using scipy.stats.ttest_ind: ')\n",
    "\n",
    "tmpdf = []\n",
    "tmpdf = SW[SW.Age < 91]\n",
    "tmpdf_WT = []\n",
    "tmpdf_WT = np.array(tmpdf[tmpdf.Genotype == 'WT']['%Wake'])\n",
    "tmpdf_TE4 = []\n",
    "tmpdf_TE4 = np.array(tmpdf[tmpdf.Genotype == 'TE4']['%Wake'])\n",
    "\n",
    "[h,p] = stats.ttest_ind(tmpdf_WT, tmpdf_TE4)\n",
    "print(f'p value for WT vs TE4 %Wake, < 3 months old  = {p}')\n",
    "\n",
    "tmpdf = []\n",
    "tmpdf = SW[SW.Age > 91]\n",
    "tmpdf = tmpdf[tmpdf.Age < 274]\n",
    "\n",
    "tmpdf_WT = np.array(tmpdf[tmpdf.Genotype == 'WT']['%Wake'])\n",
    "tmpdf_TE4 = np.array(tmpdf[tmpdf.Genotype == 'TE4']['%Wake'])\n",
    "\n",
    "[h,p] = stats.ttest_ind(tmpdf_WT, tmpdf_TE4)\n",
    "print(f'p value for WT vs TE4 %Wake, 3-9 months old  = {p}')\n",
    "\n",
    "tmpdf = []\n",
    "tmpdf = SW[SW.Age > 274]\n",
    "\n",
    "tmpdf_WT = np.array(tmpdf[tmpdf.Genotype == 'WT']['%Wake'])\n",
    "tmpdf_TE4 = np.array(tmpdf[tmpdf.Genotype == 'TE4']['%Wake'])\n",
    "\n",
    "[h,p] = stats.ttest_ind(tmpdf_WT, tmpdf_TE4)\n",
    "print(f'p value for WT vs TE4 %Wake, >9 months old  = {p}')\n",
    "\n",
    "print('Using scipy.stats.ttest_ind: ')\n",
    "\n",
    "tmpdf = []\n",
    "tmpdf = SW[SW.Age < 91]\n",
    "tmpdf_WT = []\n",
    "tmpdf_WT = np.array(tmpdf[tmpdf.Genotype == 'WT']['%NREM'])\n",
    "tmpdf_TE4 = []\n",
    "tmpdf_TE4 = np.array(tmpdf[tmpdf.Genotype == 'TE4']['%NREM'])\n",
    "\n",
    "[h,p] = stats.ttest_ind(tmpdf_WT, tmpdf_TE4)\n",
    "print(f'p value for WT vs TE4 %NREM, < 3 months old  = {p}')\n",
    "\n",
    "tmpdf = []\n",
    "tmpdf = SW[SW.Age > 91]\n",
    "tmpdf = tmpdf[tmpdf.Age < 274]\n",
    "\n",
    "tmpdf_WT = np.array(tmpdf[tmpdf.Genotype == 'WT']['%NREM'])\n",
    "tmpdf_TE4 = np.array(tmpdf[tmpdf.Genotype == 'TE4']['%NREM'])\n",
    "\n",
    "[h,p] = stats.ttest_ind(tmpdf_WT, tmpdf_TE4)\n",
    "print(f'p value for WT vs TE4 %NREM, 3-9 months old  = {p}')\n",
    "\n",
    "tmpdf = []\n",
    "tmpdf = SW[SW.Age > 274]\n",
    "\n",
    "tmpdf_WT = np.array(tmpdf[tmpdf.Genotype == 'WT']['%NREM'])\n",
    "tmpdf_TE4 = np.array(tmpdf[tmpdf.Genotype == 'TE4']['%NREM'])\n",
    "\n",
    "[h,p] = stats.ttest_ind(tmpdf_WT, tmpdf_TE4)\n",
    "print(f'p value for WT vs TE4 %NREM, >9 months old  = {p}')\n",
    "\n",
    "print('Using scipy.stats.ttest_ind: ')\n",
    "\n",
    "tmpdf = []\n",
    "tmpdf = SW[SW.Age < 91]\n",
    "tmpdf_WT = []\n",
    "tmpdf_WT = np.array(tmpdf[tmpdf.Genotype == 'WT']['%REM'])\n",
    "tmpdf_TE4 = []\n",
    "tmpdf_TE4 = np.array(tmpdf[tmpdf.Genotype == 'TE4']['%REM'])\n",
    "\n",
    "[h,p] = stats.ttest_ind(tmpdf_WT, tmpdf_TE4)\n",
    "print(f'p value for WT vs TE4 %REM, < 3 months old  = {p}')\n",
    "\n",
    "tmpdf = []\n",
    "tmpdf = SW[SW.Age > 91]\n",
    "tmpdf = tmpdf[tmpdf.Age < 274]\n",
    "\n",
    "tmpdf_WT = np.array(tmpdf[tmpdf.Genotype == 'WT']['%REM'])\n",
    "tmpdf_TE4 = np.array(tmpdf[tmpdf.Genotype == 'TE4']['%REM'])\n",
    "\n",
    "[h,p] = stats.ttest_ind(tmpdf_WT, tmpdf_TE4)\n",
    "print(f'p value for WT vs TE4 %REM, 3-9 months old  = {p}')\n",
    "\n",
    "tmpdf = []\n",
    "tmpdf = SW[SW.Age > 274]\n",
    "\n",
    "tmpdf_WT = np.array(tmpdf[tmpdf.Genotype == 'WT']['%REM'])\n",
    "tmpdf_TE4 = np.array(tmpdf[tmpdf.Genotype == 'TE4']['%REM'])\n",
    "\n",
    "[h,p] = stats.ttest_ind(tmpdf_WT, tmpdf_TE4)\n",
    "print(f'p value for WT vs TE4 %REM, >9 months old  = {p}')\n",
    "\n",
    "\n"
   ]
  },
  {
   "cell_type": "code",
   "execution_count": null,
   "id": "64215da7",
   "metadata": {},
   "outputs": [],
   "source": []
  },
  {
   "cell_type": "code",
   "execution_count": null,
   "id": "4582bcab",
   "metadata": {},
   "outputs": [],
   "source": []
  },
  {
   "cell_type": "code",
   "execution_count": null,
   "id": "93524e2c",
   "metadata": {},
   "outputs": [],
   "source": []
  },
  {
   "cell_type": "code",
   "execution_count": null,
   "id": "e2133d07",
   "metadata": {},
   "outputs": [],
   "source": []
  },
  {
   "cell_type": "code",
   "execution_count": null,
   "id": "d347b2dd",
   "metadata": {},
   "outputs": [],
   "source": []
  },
  {
   "cell_type": "code",
   "execution_count": null,
   "id": "70a14cf2",
   "metadata": {},
   "outputs": [],
   "source": []
  },
  {
   "cell_type": "code",
   "execution_count": null,
   "id": "76a7a5c9",
   "metadata": {},
   "outputs": [],
   "source": []
  },
  {
   "cell_type": "code",
   "execution_count": null,
   "id": "ac323493",
   "metadata": {},
   "outputs": [],
   "source": []
  },
  {
   "cell_type": "code",
   "execution_count": null,
   "id": "11e3d11b",
   "metadata": {},
   "outputs": [],
   "source": []
  },
  {
   "cell_type": "code",
   "execution_count": null,
   "id": "7a01ee52",
   "metadata": {},
   "outputs": [],
   "source": []
  },
  {
   "cell_type": "code",
   "execution_count": null,
   "id": "e5b4a1bf",
   "metadata": {},
   "outputs": [],
   "source": []
  },
  {
   "cell_type": "code",
   "execution_count": 50,
   "id": "0a449a51",
   "metadata": {},
   "outputs": [],
   "source": [
    "sleepstates_hr1 = np.load('/media/HlabShare/Sleep_Scoring_ckbn_noscoring_m77s2p/CAF00034/caf34_07302020/H_2020-07-30_14-14-21_FinalStateshr1.npy')\n",
    "probs_hr1 = np.load('/media/HlabShare/Sleep_Scoring_ckbn_noscoring_m77s2p/CAF00034/caf34_07302020/H_2020-07-30_14-14-21_FinalStates_probhr1.npy')\n",
    "\n"
   ]
  },
  {
   "cell_type": "code",
   "execution_count": 60,
   "id": "9db53387",
   "metadata": {
    "scrolled": false
   },
   "outputs": [
    {
     "data": {
      "text/plain": [
       "array([1, 1, 1, 1, 1, 1, 1, 1, 1, 1, 1, 1, 1, 1, 1, 1, 1, 1, 1, 1, 1, 1,\n",
       "       1, 1, 1, 1, 1, 1, 1, 1, 1, 2, 2, 2, 2, 1, 1, 1, 1, 1, 1, 1, 1, 1,\n",
       "       1, 1, 1, 1, 1, 1, 1, 1, 1, 1, 1, 1, 1, 1, 1, 1, 1, 1, 1, 1, 1, 1,\n",
       "       1, 1, 1, 1, 1, 1, 1, 1, 1, 1, 1, 1, 1, 1, 1, 1, 1, 1, 1, 1, 1, 1,\n",
       "       1, 1, 1, 1, 1, 1, 1, 1, 1, 1, 1, 1, 1, 1, 1, 1, 1, 1, 1, 1, 1, 1,\n",
       "       1, 1, 1, 1, 1, 1, 1, 1, 1, 1, 1, 1, 1, 1, 1, 1, 1, 1, 1, 1, 1, 1,\n",
       "       1, 1, 1, 1, 1, 1, 1, 1, 1, 1, 1, 1, 1, 1, 1, 1, 1, 1, 1, 1, 1, 1,\n",
       "       1, 1, 1, 1, 1, 1, 1, 1, 1, 1, 1, 1, 1, 2, 1, 2, 2, 2, 2, 2, 2, 2,\n",
       "       2, 2, 2, 2, 2, 2, 1, 1, 2, 2, 1, 1, 1, 1, 1, 1, 1, 1, 1, 1, 1, 1,\n",
       "       1, 1, 1, 1, 1, 1, 1, 1, 1, 1, 1, 1, 1, 1, 1, 1, 1, 1, 1, 1, 1, 1,\n",
       "       1, 1, 1, 1, 1, 1, 1, 1, 1, 1, 1, 1, 1, 1, 1, 1, 1, 1, 1, 2, 1, 1,\n",
       "       2, 2, 2, 2, 2, 2, 2, 2, 2, 2, 1, 1, 1, 2, 1, 1, 2, 2, 2, 2, 2, 2,\n",
       "       2, 2, 2, 2, 2, 2, 2, 2, 2, 2, 2, 2, 2, 2, 2, 2, 2, 2, 2, 2, 2, 2,\n",
       "       2, 2, 2, 2, 2, 2, 2, 2, 2, 2, 2, 1, 2, 1, 1, 1, 1, 1, 1, 1, 1, 1,\n",
       "       1, 1, 1, 1, 1, 1, 1, 1, 1, 1, 1, 1, 1, 1, 1, 1, 1, 1, 1, 1, 1, 1,\n",
       "       1, 1, 1, 1, 1, 1, 1, 1, 1, 1, 1, 1, 1, 1, 1, 1, 1, 1, 1, 1, 1, 1,\n",
       "       1, 1, 1, 1, 1, 1, 1, 1, 1, 1, 1, 1, 1, 1, 1, 1, 1, 1, 1, 1, 1, 1,\n",
       "       1, 1, 1, 1, 1, 1, 1, 1, 1, 1, 1, 1, 1, 1, 1, 1, 1, 1, 1, 1, 1, 1,\n",
       "       1, 1, 1, 1, 1, 1, 1, 1, 1, 1, 1, 1, 1, 1, 1, 1, 1, 1, 1, 1, 1, 1,\n",
       "       1, 1, 1, 1, 1, 1, 1, 1, 1, 1, 1, 1, 1, 1, 1, 2, 2, 2, 2, 2, 2, 2,\n",
       "       2, 2, 2, 2, 2, 1, 1, 2, 2, 2, 2, 2, 2, 2, 2, 2, 2, 2, 2, 2, 2, 2,\n",
       "       2, 2, 2, 2, 2, 2, 2, 2, 2, 2, 2, 2, 2, 2, 2, 2, 2, 2, 1, 1, 1, 1,\n",
       "       1, 1, 1, 2, 2, 2, 2, 2, 2, 2, 2, 2, 1, 1, 1, 1, 1, 1, 1, 1, 1, 1,\n",
       "       1, 1, 1, 1, 1, 1, 1, 1, 1, 1, 1, 1, 1, 1, 1, 1, 1, 1, 1, 1, 1, 1,\n",
       "       1, 1, 1, 1, 1, 1, 1, 1, 1, 2, 2, 2, 2, 2, 2, 2, 2, 2, 2, 2, 2, 2,\n",
       "       2, 2, 2, 2, 1, 1, 1, 1, 1, 1, 1, 1, 1, 2, 2, 2, 2, 2, 2, 2, 2, 2,\n",
       "       2, 2, 2, 2, 2, 1, 2, 1, 1, 1, 1, 1, 1, 1, 1, 1, 1, 1, 1, 1, 1, 1,\n",
       "       1, 1, 1, 1, 1, 1, 1, 1, 1, 1, 1, 1, 1, 1, 1, 1, 1, 1, 1, 1, 1, 1,\n",
       "       1, 1, 1, 1, 1, 1, 1, 1, 1, 1, 1, 1, 2, 2, 2, 2, 2, 2, 2, 2, 2, 2,\n",
       "       2, 2, 2, 2, 2, 2, 2, 2, 2, 2, 2, 2, 2, 1, 1, 1, 1, 1, 1, 1, 1, 1,\n",
       "       1, 1, 1, 1, 1, 1, 1, 1, 1, 1, 1, 1, 1, 1, 1, 1, 1, 1, 1, 1, 1, 1,\n",
       "       1, 1, 1, 1, 1, 2, 1, 2, 2, 2, 2, 1, 1, 1, 1, 1, 1, 1, 1, 1, 1, 1,\n",
       "       1, 1, 1, 1, 1, 2, 2, 2, 2, 2, 2, 2, 2, 2, 2, 2, 2, 2, 2, 2, 2, 2,\n",
       "       2, 2, 2, 2, 2, 2, 2, 2, 2, 2, 2, 2, 2, 2, 2, 2, 2, 2, 2, 2, 2, 2,\n",
       "       2, 2, 2, 1, 1, 1, 1, 1, 1, 1, 1, 1, 1, 1, 1, 1, 1, 1, 1, 1, 1, 1,\n",
       "       1, 1, 1, 1, 1, 1, 1, 1, 1, 1, 1, 1, 1, 1, 1, 1, 1, 1, 1, 1, 1, 1,\n",
       "       1, 1, 1, 1, 1, 1, 1, 1, 1, 1, 1, 1, 1, 1, 1, 1, 1, 1, 1, 1, 1, 1,\n",
       "       1, 1, 1, 1, 1, 1, 1, 1, 1, 1, 1, 1, 1, 1, 1, 1, 1, 1, 1, 1, 1, 1,\n",
       "       1, 1, 1, 1, 1, 1, 1, 1, 1, 1, 1, 1, 1, 1, 1, 1, 1, 1, 1, 1, 1, 1,\n",
       "       1, 1, 1, 1, 1, 1, 1, 2, 2, 1, 1, 1, 1, 1, 1, 1, 1, 1, 1, 1, 1, 1,\n",
       "       1, 2, 1, 1, 1, 1, 2, 2, 2, 2, 1, 1, 1, 1, 1, 1, 1, 1, 1, 2])"
      ]
     },
     "execution_count": 60,
     "metadata": {},
     "output_type": "execute_result"
    }
   ],
   "source": [
    "sleepstates_hr1"
   ]
  },
  {
   "cell_type": "code",
   "execution_count": 59,
   "id": "e57275fe",
   "metadata": {},
   "outputs": [
    {
     "name": "stdout",
     "output_type": "stream",
     "text": [
      "0.48356417\n",
      "0.6667613\n",
      "0.6861022\n",
      "0.71038795\n",
      "0.7944038\n",
      "0.8611039\n",
      "0.9047109\n",
      "0.91100746\n",
      "0.9296729\n",
      "0.93281525\n"
     ]
    }
   ],
   "source": [
    "for i in np.arange(0,10):\n",
    "    print(probs_hr1[i,sleepstates_hr1[i]-1])  \n",
    "    "
   ]
  },
  {
   "cell_type": "code",
   "execution_count": 58,
   "id": "bc826764",
   "metadata": {},
   "outputs": [],
   "source": [
    "sleepstates_hr1 = np.load('/media/HlabShare/Sleep_Scoring_ckbn_noscoring_m77s2p/CAF00081_LFP/caf81_02242021/H_2021-02-24_16-17-11_FinalStateshr1.npy')\n",
    "probs_hr1 = np.load('/media/HlabShare/Sleep_Scoring_ckbn_noscoring_m77s2p/CAF00081_LFP/caf81_02242021/H_2021-02-24_16-17-11_FinalStates_probhr1.npy')\n",
    "\n",
    "\n",
    "\n"
   ]
  },
  {
   "cell_type": "code",
   "execution_count": 61,
   "id": "71969c77",
   "metadata": {},
   "outputs": [],
   "source": [
    "sleepstates_hr1 = np.load('/media/HlabShare/Sleep_Scoring_ckbn_noscoring_m77s2p/CAF00034/caf34_07312020/H_2020-07-31_16-10-56_FinalStateshr1.npy')\n",
    "\n",
    "\n"
   ]
  },
  {
   "cell_type": "code",
   "execution_count": 62,
   "id": "3d036a3e",
   "metadata": {},
   "outputs": [
    {
     "data": {
      "text/plain": [
       "array([2, 2, 2, 2, 2, 2, 2, 2, 2, 2, 2, 2, 2, 2, 2, 2, 2, 2, 2, 2, 2, 2,\n",
       "       2, 2, 2, 2, 2, 2, 2, 2, 2, 2, 2, 2, 2, 2, 2, 2, 2, 2, 2, 2, 2, 2,\n",
       "       2, 2, 2, 2, 2, 2, 2, 2, 2, 2, 2, 2, 2, 2, 2, 2, 2, 2, 2, 2, 2, 2,\n",
       "       2, 2, 2, 2, 2, 2, 2, 2, 2, 2, 2, 2, 2, 2, 2, 2, 2, 2, 2, 2, 2, 2,\n",
       "       2, 2, 2, 2, 2, 2, 2, 2, 2, 2, 2, 2, 2, 2, 2, 2, 2, 2, 2, 2, 2, 2,\n",
       "       2, 2, 2, 2, 2, 2, 2, 2, 2, 2, 2, 2, 2, 2, 2, 2, 2, 2, 2, 2, 2, 2,\n",
       "       2, 2, 2, 2, 2, 2, 2, 2, 2, 2, 2, 2, 2, 2, 2, 2, 2, 2, 2, 2, 2, 2,\n",
       "       2, 2, 2, 2, 2, 2, 2, 2, 2, 2, 2, 2, 2, 2, 2, 2, 2, 2, 2, 2, 2, 2,\n",
       "       2, 2, 2, 2, 2, 2, 2, 2, 2, 2, 2, 2, 2, 2, 2, 2, 2, 2, 2, 2, 2, 2,\n",
       "       2, 2, 2, 2, 2, 2, 2, 2, 2, 2, 2, 2, 2, 2, 2, 2, 2, 2, 2, 2, 2, 2,\n",
       "       2, 2, 2, 2, 2, 2, 2, 2, 2, 3, 3, 3, 3, 3, 3, 3, 3, 3, 3, 3, 3, 3,\n",
       "       3, 3, 3, 3, 3, 3, 3, 3, 3, 3, 3, 3, 3, 3, 3, 3, 3, 3, 3, 3, 3, 3,\n",
       "       3, 3, 3, 2, 2, 2, 2, 2, 2, 2, 2, 2, 2, 2, 2, 2, 2, 2, 2, 2, 2, 2,\n",
       "       2, 2, 2, 2, 2, 2, 2, 2, 2, 2, 2, 2, 2, 2, 2, 2, 2, 2, 2, 2, 2, 2,\n",
       "       3, 3, 3, 3, 3, 3, 3, 2, 2, 2, 2, 2, 2, 2, 2, 2, 2, 2, 2, 2, 2, 2,\n",
       "       2, 2, 2, 2, 2, 2, 2, 2, 2, 2, 2, 2, 2, 2, 2, 2, 2, 2, 3, 3, 3, 3,\n",
       "       3, 3, 3, 2, 3, 3, 2, 2, 2, 2, 2, 2, 2, 2, 2, 2, 2, 2, 2, 2, 2, 2,\n",
       "       2, 2, 3, 3, 3, 3, 1, 2, 2, 2, 2, 2, 2, 2, 2, 2, 2, 2, 2, 2, 2, 2,\n",
       "       3, 3, 3, 3, 2, 2, 2, 2, 2, 2, 2, 2, 1, 2, 2, 2, 2, 2, 2, 2, 2, 2,\n",
       "       2, 2, 2, 2, 2, 2, 2, 2, 2, 3, 3, 3, 3, 3, 2, 2, 2, 2, 2, 2, 1, 2,\n",
       "       1, 2, 2, 2, 2, 2, 2, 2, 2, 2, 2, 2, 2, 2, 2, 3, 3, 3, 3, 3, 3, 2,\n",
       "       2, 2, 2, 2, 2, 2, 2, 2, 2, 2, 2, 2, 2, 2, 2, 2, 2, 2, 2, 2, 2, 2,\n",
       "       2, 2, 2, 2, 2, 2, 2, 2, 2, 2, 2, 2, 2, 2, 2, 2, 2, 2, 2, 2, 2, 2,\n",
       "       2, 2, 2, 2, 2, 2, 2, 2, 2, 2, 2, 2, 2, 2, 2, 2, 2, 2, 2, 2, 2, 2,\n",
       "       2, 2, 2, 2, 2, 2, 2, 2, 2, 2, 2, 2, 2, 2, 2, 2, 2, 2, 2, 2, 2, 2,\n",
       "       2, 2, 2, 2, 2, 2, 2, 2, 2, 2, 2, 2, 2, 2, 2, 2, 2, 2, 2, 2, 2, 2,\n",
       "       2, 2, 2, 2, 2, 2, 2, 2, 2, 2, 2, 2, 2, 2, 2, 2, 2, 2, 2, 2, 2, 2,\n",
       "       2, 2, 2, 2, 2, 2, 2, 2, 2, 2, 2, 2, 2, 2, 2, 2, 2, 2, 2, 2, 2, 2,\n",
       "       2, 2, 2, 2, 2, 2, 2, 2, 2, 2, 2, 2, 2, 2, 2, 2, 2, 2, 2, 2, 2, 2,\n",
       "       2, 2, 2, 2, 2, 2, 2, 2, 2, 2, 2, 2, 2, 2, 2, 2, 2, 2, 2, 2, 2, 2,\n",
       "       2, 2, 2, 2, 2, 2, 2, 2, 2, 2, 2, 2, 2, 2, 2, 2, 2, 2, 2, 2, 2, 2,\n",
       "       2, 2, 2, 2, 2, 2, 2, 2, 2, 2, 2, 1, 2, 2, 1, 1, 1, 1, 1, 1, 1, 2,\n",
       "       2, 2, 2, 2, 2, 2, 2, 2, 2, 3, 3, 3, 3, 3, 3, 3, 3, 3, 3, 3, 3, 2,\n",
       "       2, 2, 2, 2, 2, 2, 2, 1, 1, 1, 2, 2, 2, 2, 2, 2, 2, 2, 2, 2, 2, 2,\n",
       "       2, 2, 2, 2, 2, 2, 2, 2, 2, 2, 2, 2, 2, 2, 2, 2, 2, 2, 2, 2, 2, 2,\n",
       "       2, 2, 2, 2, 2, 2, 2, 2, 2, 2, 2, 2, 2, 3, 3, 3, 3, 3, 2, 2, 2, 2,\n",
       "       2, 2, 2, 2, 2, 2, 2, 2, 2, 2, 3, 3, 3, 3, 3, 3, 3, 2, 2, 2, 2, 2,\n",
       "       2, 2, 2, 2, 2, 2, 2, 2, 2, 2, 2, 2, 2, 2, 2, 2, 2, 2, 2, 3, 3, 3,\n",
       "       3, 3, 3, 3, 2, 2, 2, 2, 2, 2, 2, 2, 2, 2, 2, 2, 2, 3, 3, 3, 3, 3,\n",
       "       3, 2, 2, 2, 2, 2, 2, 2, 2, 2, 2, 2, 2, 2, 2, 2, 2, 2, 2, 2, 2, 2,\n",
       "       2, 2, 2, 2, 2, 2, 2, 2, 2, 3, 3, 3, 3, 3, 2, 2, 2, 2, 2, 2])"
      ]
     },
     "execution_count": 62,
     "metadata": {},
     "output_type": "execute_result"
    }
   ],
   "source": [
    "sleepstates_hr1"
   ]
  },
  {
   "cell_type": "code",
   "execution_count": null,
   "id": "a5171860",
   "metadata": {},
   "outputs": [],
   "source": []
  },
  {
   "cell_type": "code",
   "execution_count": null,
   "id": "2bb77c34",
   "metadata": {},
   "outputs": [],
   "source": []
  },
  {
   "cell_type": "code",
   "execution_count": null,
   "id": "8be50b91",
   "metadata": {},
   "outputs": [],
   "source": []
  }
 ],
 "metadata": {
  "kernelspec": {
   "display_name": "Python 3 (ipykernel)",
   "language": "python",
   "name": "python3"
  },
  "language_info": {
   "codemirror_mode": {
    "name": "ipython",
    "version": 3
   },
   "file_extension": ".py",
   "mimetype": "text/x-python",
   "name": "python",
   "nbconvert_exporter": "python",
   "pygments_lexer": "ipython3",
   "version": "3.8.13"
  }
 },
 "nbformat": 4,
 "nbformat_minor": 5
}
